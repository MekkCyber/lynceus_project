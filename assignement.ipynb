{
 "cells": [
  {
   "cell_type": "code",
   "execution_count": 494,
   "metadata": {},
   "outputs": [],
   "source": [
    "from sklearn.ensemble import RandomForestClassifier\n",
    "from sklearn.metrics import accuracy_score, recall_score, classification_report\n",
    "from sklearn.model_selection import train_test_split\n",
    "from sklearn.utils import resample\n",
    "from sklearn.metrics import roc_auc_score\n",
    "from sklearn.metrics import confusion_matrix\n",
    "from sklearn.preprocessing import LabelEncoder\n",
    "import pandas as pd\n",
    "import numpy as np\n",
    "import skimage as ski\n",
    "import seaborn as sns\n",
    "from sklearn.ensemble import AdaBoostClassifier\n",
    "import matplotlib.pyplot as plt\n"
   ]
  },
  {
   "cell_type": "code",
   "execution_count": 74,
   "metadata": {},
   "outputs": [],
   "source": [
    "import warnings\n",
    "warnings.filterwarnings('ignore')"
   ]
  },
  {
   "cell_type": "markdown",
   "metadata": {},
   "source": [
    "### Questions : \n",
    "1) Certainly, automating the visual inspection of wafers using machine learning techniques is feasible and could yield reliable results.\n",
    "2) The best results I obtained are : 96,21% accuracy and an F1-Score of 0.72\n",
    "3) Some strategies that could improve the results are :  \n",
    "\n",
    "\n",
    "    -Utilizing Data Augmentation: Instead of resampling, augmenting the dataset through techniques like rotation, or adding noise to the images could potentially diversify the dataset. However, due to the binary nature of pixel values (bits), the efficacy of traditional data augmentation might be limited. Binary pixels (0 or 1) restrict the augmentation potential as these transformations could inadvertently alter or distort crucial information, hindering the expected benefits of traditional augmentation methods, especially in preserving meaningful features within the images.\n",
    "\n",
    "    -Leveraging Ensemble Methods: Employing ensemble methods, especially with a deep learning model as the foundational base, presents a promising avenue to enhance the F1 score (~0.8) and accuracy (~99%). Ensemble methods amalgamate predictions from multiple models, each capturing unique aspects of the data, leading to more robust and accurate predictions. This technique has the potential to significantly improve the overall performance, especially in an extremely imbalanced dataset like the one provided.\n",
    "\n",
    "    -Hyperparameter Tuning using GridSearchCV or RandomizedSearchCV: Employing these techniques for hyperparameter optimization is pivotal in fine-tuning the deep learning model. By systematically exploring the hyperparameter space, it aims to discover the most optimal configuration, potentially elevating the accuracy to ~98% while concurrently enhancing the F1Score to ~0.8. This systematic search for the best hyperparameters can profoundly impact the model's performance by optimizing its learning process and allowing it to better capture intricate patterns present in the dataset.\n",
    "\n",
    "    -Exploring Deep Learning models more : particularly the utilization of Convolutional Neural Networks (CNNs), holds the promise of yielding improved outcomes. It's imperative to delve deeper into the suitable CNN architectures through extensive experimentation. "
   ]
  },
  {
   "cell_type": "markdown",
   "metadata": {},
   "source": [
    "### Loading The Dataset"
   ]
  },
  {
   "cell_type": "markdown",
   "metadata": {},
   "source": [
    "We load the data set using read_pickle"
   ]
  },
  {
   "cell_type": "code",
   "execution_count": 395,
   "metadata": {},
   "outputs": [],
   "source": [
    "\n",
    "df = pd.read_pickle(\"./waferImg26x26.pkl\")\n",
    "images = df.images.values\n",
    "labels = df.labels.values\n",
    "labels = np.asarray([str(l[0]) for l in labels])\n",
    "labels = pd.DataFrame(labels, columns=['label'])"
   ]
  },
  {
   "cell_type": "markdown",
   "metadata": {},
   "source": [
    "We can see that there is one feature in the dataset which is just an array of pixels of size (3,26,26), thus for classical classifiers it would be better to have the pixels as features : "
   ]
  },
  {
   "cell_type": "code",
   "execution_count": 396,
   "metadata": {},
   "outputs": [
    {
     "data": {
      "text/html": [
       "<div>\n",
       "<style scoped>\n",
       "    .dataframe tbody tr th:only-of-type {\n",
       "        vertical-align: middle;\n",
       "    }\n",
       "\n",
       "    .dataframe tbody tr th {\n",
       "        vertical-align: top;\n",
       "    }\n",
       "\n",
       "    .dataframe thead th {\n",
       "        text-align: right;\n",
       "    }\n",
       "</style>\n",
       "<table border=\"1\" class=\"dataframe\">\n",
       "  <thead>\n",
       "    <tr style=\"text-align: right;\">\n",
       "      <th></th>\n",
       "      <th>0</th>\n",
       "      <th>1</th>\n",
       "      <th>2</th>\n",
       "      <th>3</th>\n",
       "      <th>4</th>\n",
       "      <th>5</th>\n",
       "      <th>6</th>\n",
       "      <th>7</th>\n",
       "      <th>8</th>\n",
       "      <th>9</th>\n",
       "      <th>...</th>\n",
       "      <th>2018</th>\n",
       "      <th>2019</th>\n",
       "      <th>2020</th>\n",
       "      <th>2021</th>\n",
       "      <th>2022</th>\n",
       "      <th>2023</th>\n",
       "      <th>2024</th>\n",
       "      <th>2025</th>\n",
       "      <th>2026</th>\n",
       "      <th>2027</th>\n",
       "    </tr>\n",
       "  </thead>\n",
       "  <tbody>\n",
       "    <tr>\n",
       "      <th>0</th>\n",
       "      <td>1.0</td>\n",
       "      <td>1.0</td>\n",
       "      <td>1.0</td>\n",
       "      <td>1.0</td>\n",
       "      <td>1.0</td>\n",
       "      <td>1.0</td>\n",
       "      <td>1.0</td>\n",
       "      <td>1.0</td>\n",
       "      <td>1.0</td>\n",
       "      <td>1.0</td>\n",
       "      <td>...</td>\n",
       "      <td>0.0</td>\n",
       "      <td>0.0</td>\n",
       "      <td>0.0</td>\n",
       "      <td>0.0</td>\n",
       "      <td>0.0</td>\n",
       "      <td>0.0</td>\n",
       "      <td>0.0</td>\n",
       "      <td>0.0</td>\n",
       "      <td>0.0</td>\n",
       "      <td>0.0</td>\n",
       "    </tr>\n",
       "    <tr>\n",
       "      <th>1</th>\n",
       "      <td>1.0</td>\n",
       "      <td>1.0</td>\n",
       "      <td>1.0</td>\n",
       "      <td>1.0</td>\n",
       "      <td>1.0</td>\n",
       "      <td>1.0</td>\n",
       "      <td>1.0</td>\n",
       "      <td>1.0</td>\n",
       "      <td>1.0</td>\n",
       "      <td>1.0</td>\n",
       "      <td>...</td>\n",
       "      <td>0.0</td>\n",
       "      <td>0.0</td>\n",
       "      <td>0.0</td>\n",
       "      <td>0.0</td>\n",
       "      <td>0.0</td>\n",
       "      <td>0.0</td>\n",
       "      <td>0.0</td>\n",
       "      <td>0.0</td>\n",
       "      <td>0.0</td>\n",
       "      <td>0.0</td>\n",
       "    </tr>\n",
       "    <tr>\n",
       "      <th>2</th>\n",
       "      <td>1.0</td>\n",
       "      <td>1.0</td>\n",
       "      <td>1.0</td>\n",
       "      <td>1.0</td>\n",
       "      <td>1.0</td>\n",
       "      <td>1.0</td>\n",
       "      <td>1.0</td>\n",
       "      <td>1.0</td>\n",
       "      <td>1.0</td>\n",
       "      <td>1.0</td>\n",
       "      <td>...</td>\n",
       "      <td>0.0</td>\n",
       "      <td>0.0</td>\n",
       "      <td>0.0</td>\n",
       "      <td>0.0</td>\n",
       "      <td>0.0</td>\n",
       "      <td>0.0</td>\n",
       "      <td>0.0</td>\n",
       "      <td>0.0</td>\n",
       "      <td>0.0</td>\n",
       "      <td>0.0</td>\n",
       "    </tr>\n",
       "    <tr>\n",
       "      <th>3</th>\n",
       "      <td>1.0</td>\n",
       "      <td>1.0</td>\n",
       "      <td>1.0</td>\n",
       "      <td>1.0</td>\n",
       "      <td>1.0</td>\n",
       "      <td>1.0</td>\n",
       "      <td>1.0</td>\n",
       "      <td>1.0</td>\n",
       "      <td>1.0</td>\n",
       "      <td>1.0</td>\n",
       "      <td>...</td>\n",
       "      <td>0.0</td>\n",
       "      <td>0.0</td>\n",
       "      <td>0.0</td>\n",
       "      <td>0.0</td>\n",
       "      <td>0.0</td>\n",
       "      <td>0.0</td>\n",
       "      <td>0.0</td>\n",
       "      <td>0.0</td>\n",
       "      <td>0.0</td>\n",
       "      <td>0.0</td>\n",
       "    </tr>\n",
       "    <tr>\n",
       "      <th>4</th>\n",
       "      <td>1.0</td>\n",
       "      <td>1.0</td>\n",
       "      <td>1.0</td>\n",
       "      <td>1.0</td>\n",
       "      <td>1.0</td>\n",
       "      <td>1.0</td>\n",
       "      <td>1.0</td>\n",
       "      <td>1.0</td>\n",
       "      <td>1.0</td>\n",
       "      <td>1.0</td>\n",
       "      <td>...</td>\n",
       "      <td>0.0</td>\n",
       "      <td>0.0</td>\n",
       "      <td>0.0</td>\n",
       "      <td>0.0</td>\n",
       "      <td>0.0</td>\n",
       "      <td>0.0</td>\n",
       "      <td>0.0</td>\n",
       "      <td>0.0</td>\n",
       "      <td>0.0</td>\n",
       "      <td>0.0</td>\n",
       "    </tr>\n",
       "    <tr>\n",
       "      <th>...</th>\n",
       "      <td>...</td>\n",
       "      <td>...</td>\n",
       "      <td>...</td>\n",
       "      <td>...</td>\n",
       "      <td>...</td>\n",
       "      <td>...</td>\n",
       "      <td>...</td>\n",
       "      <td>...</td>\n",
       "      <td>...</td>\n",
       "      <td>...</td>\n",
       "      <td>...</td>\n",
       "      <td>...</td>\n",
       "      <td>...</td>\n",
       "      <td>...</td>\n",
       "      <td>...</td>\n",
       "      <td>...</td>\n",
       "      <td>...</td>\n",
       "      <td>...</td>\n",
       "      <td>...</td>\n",
       "      <td>...</td>\n",
       "      <td>...</td>\n",
       "    </tr>\n",
       "    <tr>\n",
       "      <th>14361</th>\n",
       "      <td>1.0</td>\n",
       "      <td>1.0</td>\n",
       "      <td>1.0</td>\n",
       "      <td>1.0</td>\n",
       "      <td>1.0</td>\n",
       "      <td>1.0</td>\n",
       "      <td>1.0</td>\n",
       "      <td>1.0</td>\n",
       "      <td>1.0</td>\n",
       "      <td>1.0</td>\n",
       "      <td>...</td>\n",
       "      <td>0.0</td>\n",
       "      <td>0.0</td>\n",
       "      <td>0.0</td>\n",
       "      <td>0.0</td>\n",
       "      <td>0.0</td>\n",
       "      <td>0.0</td>\n",
       "      <td>0.0</td>\n",
       "      <td>0.0</td>\n",
       "      <td>0.0</td>\n",
       "      <td>0.0</td>\n",
       "    </tr>\n",
       "    <tr>\n",
       "      <th>14362</th>\n",
       "      <td>1.0</td>\n",
       "      <td>1.0</td>\n",
       "      <td>1.0</td>\n",
       "      <td>1.0</td>\n",
       "      <td>1.0</td>\n",
       "      <td>1.0</td>\n",
       "      <td>1.0</td>\n",
       "      <td>1.0</td>\n",
       "      <td>1.0</td>\n",
       "      <td>1.0</td>\n",
       "      <td>...</td>\n",
       "      <td>0.0</td>\n",
       "      <td>0.0</td>\n",
       "      <td>0.0</td>\n",
       "      <td>0.0</td>\n",
       "      <td>0.0</td>\n",
       "      <td>0.0</td>\n",
       "      <td>0.0</td>\n",
       "      <td>0.0</td>\n",
       "      <td>0.0</td>\n",
       "      <td>0.0</td>\n",
       "    </tr>\n",
       "    <tr>\n",
       "      <th>14363</th>\n",
       "      <td>1.0</td>\n",
       "      <td>1.0</td>\n",
       "      <td>1.0</td>\n",
       "      <td>1.0</td>\n",
       "      <td>1.0</td>\n",
       "      <td>1.0</td>\n",
       "      <td>1.0</td>\n",
       "      <td>1.0</td>\n",
       "      <td>1.0</td>\n",
       "      <td>1.0</td>\n",
       "      <td>...</td>\n",
       "      <td>0.0</td>\n",
       "      <td>0.0</td>\n",
       "      <td>0.0</td>\n",
       "      <td>0.0</td>\n",
       "      <td>0.0</td>\n",
       "      <td>0.0</td>\n",
       "      <td>0.0</td>\n",
       "      <td>0.0</td>\n",
       "      <td>0.0</td>\n",
       "      <td>0.0</td>\n",
       "    </tr>\n",
       "    <tr>\n",
       "      <th>14364</th>\n",
       "      <td>1.0</td>\n",
       "      <td>1.0</td>\n",
       "      <td>1.0</td>\n",
       "      <td>1.0</td>\n",
       "      <td>1.0</td>\n",
       "      <td>1.0</td>\n",
       "      <td>1.0</td>\n",
       "      <td>1.0</td>\n",
       "      <td>1.0</td>\n",
       "      <td>1.0</td>\n",
       "      <td>...</td>\n",
       "      <td>0.0</td>\n",
       "      <td>0.0</td>\n",
       "      <td>0.0</td>\n",
       "      <td>0.0</td>\n",
       "      <td>0.0</td>\n",
       "      <td>0.0</td>\n",
       "      <td>0.0</td>\n",
       "      <td>0.0</td>\n",
       "      <td>0.0</td>\n",
       "      <td>0.0</td>\n",
       "    </tr>\n",
       "    <tr>\n",
       "      <th>14365</th>\n",
       "      <td>1.0</td>\n",
       "      <td>1.0</td>\n",
       "      <td>1.0</td>\n",
       "      <td>1.0</td>\n",
       "      <td>1.0</td>\n",
       "      <td>1.0</td>\n",
       "      <td>1.0</td>\n",
       "      <td>1.0</td>\n",
       "      <td>1.0</td>\n",
       "      <td>1.0</td>\n",
       "      <td>...</td>\n",
       "      <td>0.0</td>\n",
       "      <td>0.0</td>\n",
       "      <td>0.0</td>\n",
       "      <td>0.0</td>\n",
       "      <td>0.0</td>\n",
       "      <td>0.0</td>\n",
       "      <td>0.0</td>\n",
       "      <td>0.0</td>\n",
       "      <td>0.0</td>\n",
       "      <td>0.0</td>\n",
       "    </tr>\n",
       "  </tbody>\n",
       "</table>\n",
       "<p>14366 rows × 2028 columns</p>\n",
       "</div>"
      ],
      "text/plain": [
       "       0     1     2     3     4     5     6     7     8     9     ...  2018  \\\n",
       "0       1.0   1.0   1.0   1.0   1.0   1.0   1.0   1.0   1.0   1.0  ...   0.0   \n",
       "1       1.0   1.0   1.0   1.0   1.0   1.0   1.0   1.0   1.0   1.0  ...   0.0   \n",
       "2       1.0   1.0   1.0   1.0   1.0   1.0   1.0   1.0   1.0   1.0  ...   0.0   \n",
       "3       1.0   1.0   1.0   1.0   1.0   1.0   1.0   1.0   1.0   1.0  ...   0.0   \n",
       "4       1.0   1.0   1.0   1.0   1.0   1.0   1.0   1.0   1.0   1.0  ...   0.0   \n",
       "...     ...   ...   ...   ...   ...   ...   ...   ...   ...   ...  ...   ...   \n",
       "14361   1.0   1.0   1.0   1.0   1.0   1.0   1.0   1.0   1.0   1.0  ...   0.0   \n",
       "14362   1.0   1.0   1.0   1.0   1.0   1.0   1.0   1.0   1.0   1.0  ...   0.0   \n",
       "14363   1.0   1.0   1.0   1.0   1.0   1.0   1.0   1.0   1.0   1.0  ...   0.0   \n",
       "14364   1.0   1.0   1.0   1.0   1.0   1.0   1.0   1.0   1.0   1.0  ...   0.0   \n",
       "14365   1.0   1.0   1.0   1.0   1.0   1.0   1.0   1.0   1.0   1.0  ...   0.0   \n",
       "\n",
       "       2019  2020  2021  2022  2023  2024  2025  2026  2027  \n",
       "0       0.0   0.0   0.0   0.0   0.0   0.0   0.0   0.0   0.0  \n",
       "1       0.0   0.0   0.0   0.0   0.0   0.0   0.0   0.0   0.0  \n",
       "2       0.0   0.0   0.0   0.0   0.0   0.0   0.0   0.0   0.0  \n",
       "3       0.0   0.0   0.0   0.0   0.0   0.0   0.0   0.0   0.0  \n",
       "4       0.0   0.0   0.0   0.0   0.0   0.0   0.0   0.0   0.0  \n",
       "...     ...   ...   ...   ...   ...   ...   ...   ...   ...  \n",
       "14361   0.0   0.0   0.0   0.0   0.0   0.0   0.0   0.0   0.0  \n",
       "14362   0.0   0.0   0.0   0.0   0.0   0.0   0.0   0.0   0.0  \n",
       "14363   0.0   0.0   0.0   0.0   0.0   0.0   0.0   0.0   0.0  \n",
       "14364   0.0   0.0   0.0   0.0   0.0   0.0   0.0   0.0   0.0  \n",
       "14365   0.0   0.0   0.0   0.0   0.0   0.0   0.0   0.0   0.0  \n",
       "\n",
       "[14366 rows x 2028 columns]"
      ]
     },
     "execution_count": 396,
     "metadata": {},
     "output_type": "execute_result"
    }
   ],
   "source": [
    "X = np.array(df['images'].tolist())  # Convert image arrays to a numpy array\n",
    "num_samples, channels, height, width = X.shape\n",
    "X = X.reshape(num_samples, channels * height * width)\n",
    "X = pd.DataFrame(X)\n",
    "X"
   ]
  },
  {
   "cell_type": "markdown",
   "metadata": {},
   "source": [
    "We split the dataset into training and testing datasets : "
   ]
  },
  {
   "cell_type": "code",
   "execution_count": 397,
   "metadata": {},
   "outputs": [],
   "source": [
    "X_train, X_test, labels_train, labels_test = train_test_split(X, labels, test_size = 0.25)"
   ]
  },
  {
   "cell_type": "code",
   "execution_count": 398,
   "metadata": {},
   "outputs": [
    {
     "data": {
      "text/plain": [
       "label    \n",
       "none         10140\n",
       "Loc            223\n",
       "Edge-Loc       203\n",
       "Center          68\n",
       "Random          59\n",
       "Scratch         51\n",
       "Edge-Ring       18\n",
       "Near-full       11\n",
       "Donut            1\n",
       "Name: count, dtype: int64"
      ]
     },
     "execution_count": 398,
     "metadata": {},
     "output_type": "execute_result"
    }
   ],
   "source": [
    "labels_train.value_counts()"
   ]
  },
  {
   "cell_type": "code",
   "execution_count": 399,
   "metadata": {},
   "outputs": [
    {
     "data": {
      "text/plain": [
       "label    \n",
       "none         3349\n",
       "Edge-Loc       93\n",
       "Loc            74\n",
       "Center         22\n",
       "Scratch        21\n",
       "Random         15\n",
       "Edge-Ring      13\n",
       "Near-full       5\n",
       "Name: count, dtype: int64"
      ]
     },
     "execution_count": 399,
     "metadata": {},
     "output_type": "execute_result"
    }
   ],
   "source": [
    "labels_test.value_counts()"
   ]
  },
  {
   "cell_type": "markdown",
   "metadata": {},
   "source": [
    "We apply a simple RandomForestClassifer to get an idea of the baseline : "
   ]
  },
  {
   "cell_type": "code",
   "execution_count": 405,
   "metadata": {},
   "outputs": [],
   "source": [
    "random_forest = RandomForestClassifier(n_estimators=100, random_state=1).fit(X_train, labels_train['label'])\n",
    "y_pred = random_forest.predict(X_test)"
   ]
  },
  {
   "cell_type": "code",
   "execution_count": 406,
   "metadata": {},
   "outputs": [
    {
     "name": "stdout",
     "output_type": "stream",
     "text": [
      "Accuracy score: 0.9490534521158129\n",
      "Recall score: 0.45296728494132144\n",
      "              precision    recall  f1-score   support\n",
      "\n",
      "      Center       0.88      0.32      0.47        22\n",
      "    Edge-Loc       0.91      0.22      0.35        93\n",
      "   Edge-Ring       1.00      0.54      0.70        13\n",
      "         Loc       1.00      0.16      0.28        74\n",
      "   Near-full       1.00      0.60      0.75         5\n",
      "      Random       0.82      0.60      0.69        15\n",
      "     Scratch       1.00      0.19      0.32        21\n",
      "        none       0.95      1.00      0.97      3349\n",
      "\n",
      "    accuracy                           0.95      3592\n",
      "   macro avg       0.94      0.45      0.57      3592\n",
      "weighted avg       0.95      0.95      0.93      3592\n",
      "\n"
     ]
    }
   ],
   "source": [
    "print('Accuracy score: ' + str(accuracy_score(labels_test, y_pred)))\n",
    "print('Recall score: ' + str(recall_score(labels_test, y_pred, average='macro')))\n",
    "print(classification_report(labels_test, y_pred))"
   ]
  },
  {
   "cell_type": "markdown",
   "metadata": {},
   "source": [
    "The accuracy is high, which is expected in classification problems with imbalanced datasets, however the f1 score is low, and our goal in this assignment is to improve it using different techniques, like splitting with stratification, oversampling, using hyperparameter tuning ..."
   ]
  },
  {
   "cell_type": "markdown",
   "metadata": {},
   "source": [
    "### Using Stratify after Duplicating Donut"
   ]
  },
  {
   "cell_type": "markdown",
   "metadata": {},
   "source": [
    "There is only one sample of the Donut Class, we will try to augment this particular class by rotating the image 3 times, and use `train_test_split` with the stratify parameter to keep the proportion of each class the same in the train and test dataset.  "
   ]
  },
  {
   "cell_type": "code",
   "execution_count": 434,
   "metadata": {},
   "outputs": [
    {
     "data": {
      "text/plain": [
       "<matplotlib.image.AxesImage at 0x1f706699750>"
      ]
     },
     "execution_count": 434,
     "metadata": {},
     "output_type": "execute_result"
    },
    {
     "data": {
      "image/png": "[encoded data removed]",
      "text/plain": [
       "<Figure size 800x800 with 4 Axes>"
      ]
     },
     "metadata": {},
     "output_type": "display_data"
    }
   ],
   "source": [
    "fig, axs = plt.subplots(2, 2, figsize=(8, 8))\n",
    "\n",
    "donut_img = X[labels['label']=='Donut']\n",
    "axs[0, 0].imshow(np.transpose(donut_img.to_numpy().reshape(3,26,26), axes=[1,2,0]))\n",
    "axs[0, 1].imshow(ski.transform.rotate(np.transpose(donut_img.to_numpy().reshape(3,26,26), axes=[1,2,0]), angle=-90))\n",
    "axs[1, 0].imshow(ski.transform.rotate(np.transpose(donut_img.to_numpy().reshape(3,26,26), axes=[1,2,0]), angle=90))\n",
    "axs[1, 1].imshow(ski.transform.rotate(np.transpose(donut_img.to_numpy().reshape(3,26,26), axes=[1,2,0]), angle=180))"
   ]
  },
  {
   "cell_type": "code",
   "execution_count": 447,
   "metadata": {},
   "outputs": [
    {
     "data": {
      "text/html": [
       "<div>\n",
       "<style scoped>\n",
       "    .dataframe tbody tr th:only-of-type {\n",
       "        vertical-align: middle;\n",
       "    }\n",
       "\n",
       "    .dataframe tbody tr th {\n",
       "        vertical-align: top;\n",
       "    }\n",
       "\n",
       "    .dataframe thead th {\n",
       "        text-align: right;\n",
       "    }\n",
       "</style>\n",
       "<table border=\"1\" class=\"dataframe\">\n",
       "  <thead>\n",
       "    <tr style=\"text-align: right;\">\n",
       "      <th></th>\n",
       "      <th>0</th>\n",
       "      <th>1</th>\n",
       "      <th>2</th>\n",
       "      <th>3</th>\n",
       "      <th>4</th>\n",
       "      <th>5</th>\n",
       "      <th>6</th>\n",
       "      <th>7</th>\n",
       "      <th>8</th>\n",
       "      <th>9</th>\n",
       "      <th>...</th>\n",
       "      <th>2018</th>\n",
       "      <th>2019</th>\n",
       "      <th>2020</th>\n",
       "      <th>2021</th>\n",
       "      <th>2022</th>\n",
       "      <th>2023</th>\n",
       "      <th>2024</th>\n",
       "      <th>2025</th>\n",
       "      <th>2026</th>\n",
       "      <th>2027</th>\n",
       "    </tr>\n",
       "  </thead>\n",
       "  <tbody>\n",
       "    <tr>\n",
       "      <th>0</th>\n",
       "      <td>1.0</td>\n",
       "      <td>1.0</td>\n",
       "      <td>1.0</td>\n",
       "      <td>1.0</td>\n",
       "      <td>1.0</td>\n",
       "      <td>1.0</td>\n",
       "      <td>1.0</td>\n",
       "      <td>1.0</td>\n",
       "      <td>1.0</td>\n",
       "      <td>1.0</td>\n",
       "      <td>...</td>\n",
       "      <td>0.000000e+00</td>\n",
       "      <td>0.000000e+00</td>\n",
       "      <td>0.000000e+00</td>\n",
       "      <td>0.0</td>\n",
       "      <td>0.0</td>\n",
       "      <td>0.0</td>\n",
       "      <td>0.0</td>\n",
       "      <td>0.0</td>\n",
       "      <td>0.0</td>\n",
       "      <td>0.0</td>\n",
       "    </tr>\n",
       "    <tr>\n",
       "      <th>1</th>\n",
       "      <td>1.0</td>\n",
       "      <td>1.0</td>\n",
       "      <td>1.0</td>\n",
       "      <td>1.0</td>\n",
       "      <td>1.0</td>\n",
       "      <td>1.0</td>\n",
       "      <td>1.0</td>\n",
       "      <td>1.0</td>\n",
       "      <td>1.0</td>\n",
       "      <td>0.0</td>\n",
       "      <td>...</td>\n",
       "      <td>1.000000e+00</td>\n",
       "      <td>0.000000e+00</td>\n",
       "      <td>0.000000e+00</td>\n",
       "      <td>0.0</td>\n",
       "      <td>0.0</td>\n",
       "      <td>0.0</td>\n",
       "      <td>0.0</td>\n",
       "      <td>0.0</td>\n",
       "      <td>0.0</td>\n",
       "      <td>0.0</td>\n",
       "    </tr>\n",
       "    <tr>\n",
       "      <th>2</th>\n",
       "      <td>1.0</td>\n",
       "      <td>1.0</td>\n",
       "      <td>1.0</td>\n",
       "      <td>1.0</td>\n",
       "      <td>1.0</td>\n",
       "      <td>1.0</td>\n",
       "      <td>1.0</td>\n",
       "      <td>1.0</td>\n",
       "      <td>1.0</td>\n",
       "      <td>0.0</td>\n",
       "      <td>...</td>\n",
       "      <td>1.000000e+00</td>\n",
       "      <td>0.000000e+00</td>\n",
       "      <td>0.000000e+00</td>\n",
       "      <td>0.0</td>\n",
       "      <td>0.0</td>\n",
       "      <td>0.0</td>\n",
       "      <td>0.0</td>\n",
       "      <td>0.0</td>\n",
       "      <td>0.0</td>\n",
       "      <td>0.0</td>\n",
       "    </tr>\n",
       "    <tr>\n",
       "      <th>3</th>\n",
       "      <td>1.0</td>\n",
       "      <td>1.0</td>\n",
       "      <td>1.0</td>\n",
       "      <td>1.0</td>\n",
       "      <td>1.0</td>\n",
       "      <td>1.0</td>\n",
       "      <td>1.0</td>\n",
       "      <td>1.0</td>\n",
       "      <td>1.0</td>\n",
       "      <td>1.0</td>\n",
       "      <td>...</td>\n",
       "      <td>1.262177e-29</td>\n",
       "      <td>3.552714e-15</td>\n",
       "      <td>3.552714e-15</td>\n",
       "      <td>0.0</td>\n",
       "      <td>0.0</td>\n",
       "      <td>0.0</td>\n",
       "      <td>0.0</td>\n",
       "      <td>0.0</td>\n",
       "      <td>0.0</td>\n",
       "      <td>0.0</td>\n",
       "    </tr>\n",
       "  </tbody>\n",
       "</table>\n",
       "<p>4 rows × 2028 columns</p>\n",
       "</div>"
      ],
      "text/plain": [
       "   0     1     2     3     4     5     6     7     8     9     ...  \\\n",
       "0   1.0   1.0   1.0   1.0   1.0   1.0   1.0   1.0   1.0   1.0  ...   \n",
       "1   1.0   1.0   1.0   1.0   1.0   1.0   1.0   1.0   1.0   0.0  ...   \n",
       "2   1.0   1.0   1.0   1.0   1.0   1.0   1.0   1.0   1.0   0.0  ...   \n",
       "3   1.0   1.0   1.0   1.0   1.0   1.0   1.0   1.0   1.0   1.0  ...   \n",
       "\n",
       "           2018          2019          2020  2021  2022  2023  2024  2025  \\\n",
       "0  0.000000e+00  0.000000e+00  0.000000e+00   0.0   0.0   0.0   0.0   0.0   \n",
       "1  1.000000e+00  0.000000e+00  0.000000e+00   0.0   0.0   0.0   0.0   0.0   \n",
       "2  1.000000e+00  0.000000e+00  0.000000e+00   0.0   0.0   0.0   0.0   0.0   \n",
       "3  1.262177e-29  3.552714e-15  3.552714e-15   0.0   0.0   0.0   0.0   0.0   \n",
       "\n",
       "   2026  2027  \n",
       "0   0.0   0.0  \n",
       "1   0.0   0.0  \n",
       "2   0.0   0.0  \n",
       "3   0.0   0.0  \n",
       "\n",
       "[4 rows x 2028 columns]"
      ]
     },
     "execution_count": 447,
     "metadata": {},
     "output_type": "execute_result"
    }
   ],
   "source": [
    "# Here we need to make sure to reshape to re-transpose the axes, and reshape the images, to create dataframes that we concatenate with our dataset\n",
    "donut_1 = donut_img\n",
    "donut_2 = pd.DataFrame(np.transpose(ski.transform.rotate(np.transpose(donut_img.to_numpy().reshape(3,26,26), axes=[1,2,0]), angle=-90), axes=[2,0,1]).reshape(1,-1))\n",
    "donut_3 = pd.DataFrame(np.transpose(ski.transform.rotate(np.transpose(donut_img.to_numpy().reshape(3,26,26), axes=[1,2,0]), angle=90), axes=[2,0,1]).reshape(1,-1))\n",
    "donut_4 = pd.DataFrame(np.transpose(ski.transform.rotate(np.transpose(donut_img.to_numpy().reshape(3,26,26), axes=[1,2,0]), angle=180), axes=[2,0,1]).reshape(1,-1))\n",
    "\n",
    "concat = pd.concat([donut_1, donut_2, donut_3, donut_4], ignore_index=True)\n",
    "concat"
   ]
  },
  {
   "cell_type": "markdown",
   "metadata": {},
   "source": [
    "At first we have 14366 examples, we will add 3 duplicates of the Donuts class so we can have some in the Training, and Test set "
   ]
  },
  {
   "cell_type": "code",
   "execution_count": 452,
   "metadata": {},
   "outputs": [
    {
     "data": {
      "text/html": [
       "<div>\n",
       "<style scoped>\n",
       "    .dataframe tbody tr th:only-of-type {\n",
       "        vertical-align: middle;\n",
       "    }\n",
       "\n",
       "    .dataframe tbody tr th {\n",
       "        vertical-align: top;\n",
       "    }\n",
       "\n",
       "    .dataframe thead th {\n",
       "        text-align: right;\n",
       "    }\n",
       "</style>\n",
       "<table border=\"1\" class=\"dataframe\">\n",
       "  <thead>\n",
       "    <tr style=\"text-align: right;\">\n",
       "      <th></th>\n",
       "      <th>0</th>\n",
       "      <th>1</th>\n",
       "      <th>2</th>\n",
       "      <th>3</th>\n",
       "      <th>4</th>\n",
       "      <th>5</th>\n",
       "      <th>6</th>\n",
       "      <th>7</th>\n",
       "      <th>8</th>\n",
       "      <th>9</th>\n",
       "      <th>...</th>\n",
       "      <th>2018</th>\n",
       "      <th>2019</th>\n",
       "      <th>2020</th>\n",
       "      <th>2021</th>\n",
       "      <th>2022</th>\n",
       "      <th>2023</th>\n",
       "      <th>2024</th>\n",
       "      <th>2025</th>\n",
       "      <th>2026</th>\n",
       "      <th>2027</th>\n",
       "    </tr>\n",
       "  </thead>\n",
       "  <tbody>\n",
       "    <tr>\n",
       "      <th>0</th>\n",
       "      <td>1.0</td>\n",
       "      <td>1.0</td>\n",
       "      <td>1.0</td>\n",
       "      <td>1.0</td>\n",
       "      <td>1.0</td>\n",
       "      <td>1.0</td>\n",
       "      <td>1.0</td>\n",
       "      <td>1.0</td>\n",
       "      <td>1.0</td>\n",
       "      <td>1.0</td>\n",
       "      <td>...</td>\n",
       "      <td>0.000000e+00</td>\n",
       "      <td>0.000000e+00</td>\n",
       "      <td>0.000000e+00</td>\n",
       "      <td>0.0</td>\n",
       "      <td>0.0</td>\n",
       "      <td>0.0</td>\n",
       "      <td>0.0</td>\n",
       "      <td>0.0</td>\n",
       "      <td>0.0</td>\n",
       "      <td>0.0</td>\n",
       "    </tr>\n",
       "    <tr>\n",
       "      <th>1</th>\n",
       "      <td>1.0</td>\n",
       "      <td>1.0</td>\n",
       "      <td>1.0</td>\n",
       "      <td>1.0</td>\n",
       "      <td>1.0</td>\n",
       "      <td>1.0</td>\n",
       "      <td>1.0</td>\n",
       "      <td>1.0</td>\n",
       "      <td>1.0</td>\n",
       "      <td>1.0</td>\n",
       "      <td>...</td>\n",
       "      <td>0.000000e+00</td>\n",
       "      <td>0.000000e+00</td>\n",
       "      <td>0.000000e+00</td>\n",
       "      <td>0.0</td>\n",
       "      <td>0.0</td>\n",
       "      <td>0.0</td>\n",
       "      <td>0.0</td>\n",
       "      <td>0.0</td>\n",
       "      <td>0.0</td>\n",
       "      <td>0.0</td>\n",
       "    </tr>\n",
       "    <tr>\n",
       "      <th>2</th>\n",
       "      <td>1.0</td>\n",
       "      <td>1.0</td>\n",
       "      <td>1.0</td>\n",
       "      <td>1.0</td>\n",
       "      <td>1.0</td>\n",
       "      <td>1.0</td>\n",
       "      <td>1.0</td>\n",
       "      <td>1.0</td>\n",
       "      <td>1.0</td>\n",
       "      <td>1.0</td>\n",
       "      <td>...</td>\n",
       "      <td>0.000000e+00</td>\n",
       "      <td>0.000000e+00</td>\n",
       "      <td>0.000000e+00</td>\n",
       "      <td>0.0</td>\n",
       "      <td>0.0</td>\n",
       "      <td>0.0</td>\n",
       "      <td>0.0</td>\n",
       "      <td>0.0</td>\n",
       "      <td>0.0</td>\n",
       "      <td>0.0</td>\n",
       "    </tr>\n",
       "    <tr>\n",
       "      <th>3</th>\n",
       "      <td>1.0</td>\n",
       "      <td>1.0</td>\n",
       "      <td>1.0</td>\n",
       "      <td>1.0</td>\n",
       "      <td>1.0</td>\n",
       "      <td>1.0</td>\n",
       "      <td>1.0</td>\n",
       "      <td>1.0</td>\n",
       "      <td>1.0</td>\n",
       "      <td>1.0</td>\n",
       "      <td>...</td>\n",
       "      <td>0.000000e+00</td>\n",
       "      <td>0.000000e+00</td>\n",
       "      <td>0.000000e+00</td>\n",
       "      <td>0.0</td>\n",
       "      <td>0.0</td>\n",
       "      <td>0.0</td>\n",
       "      <td>0.0</td>\n",
       "      <td>0.0</td>\n",
       "      <td>0.0</td>\n",
       "      <td>0.0</td>\n",
       "    </tr>\n",
       "    <tr>\n",
       "      <th>4</th>\n",
       "      <td>1.0</td>\n",
       "      <td>1.0</td>\n",
       "      <td>1.0</td>\n",
       "      <td>1.0</td>\n",
       "      <td>1.0</td>\n",
       "      <td>1.0</td>\n",
       "      <td>1.0</td>\n",
       "      <td>1.0</td>\n",
       "      <td>1.0</td>\n",
       "      <td>1.0</td>\n",
       "      <td>...</td>\n",
       "      <td>0.000000e+00</td>\n",
       "      <td>0.000000e+00</td>\n",
       "      <td>0.000000e+00</td>\n",
       "      <td>0.0</td>\n",
       "      <td>0.0</td>\n",
       "      <td>0.0</td>\n",
       "      <td>0.0</td>\n",
       "      <td>0.0</td>\n",
       "      <td>0.0</td>\n",
       "      <td>0.0</td>\n",
       "    </tr>\n",
       "    <tr>\n",
       "      <th>...</th>\n",
       "      <td>...</td>\n",
       "      <td>...</td>\n",
       "      <td>...</td>\n",
       "      <td>...</td>\n",
       "      <td>...</td>\n",
       "      <td>...</td>\n",
       "      <td>...</td>\n",
       "      <td>...</td>\n",
       "      <td>...</td>\n",
       "      <td>...</td>\n",
       "      <td>...</td>\n",
       "      <td>...</td>\n",
       "      <td>...</td>\n",
       "      <td>...</td>\n",
       "      <td>...</td>\n",
       "      <td>...</td>\n",
       "      <td>...</td>\n",
       "      <td>...</td>\n",
       "      <td>...</td>\n",
       "      <td>...</td>\n",
       "      <td>...</td>\n",
       "    </tr>\n",
       "    <tr>\n",
       "      <th>14365</th>\n",
       "      <td>1.0</td>\n",
       "      <td>1.0</td>\n",
       "      <td>1.0</td>\n",
       "      <td>1.0</td>\n",
       "      <td>1.0</td>\n",
       "      <td>1.0</td>\n",
       "      <td>1.0</td>\n",
       "      <td>1.0</td>\n",
       "      <td>1.0</td>\n",
       "      <td>1.0</td>\n",
       "      <td>...</td>\n",
       "      <td>0.000000e+00</td>\n",
       "      <td>0.000000e+00</td>\n",
       "      <td>0.000000e+00</td>\n",
       "      <td>0.0</td>\n",
       "      <td>0.0</td>\n",
       "      <td>0.0</td>\n",
       "      <td>0.0</td>\n",
       "      <td>0.0</td>\n",
       "      <td>0.0</td>\n",
       "      <td>0.0</td>\n",
       "    </tr>\n",
       "    <tr>\n",
       "      <th>14366</th>\n",
       "      <td>1.0</td>\n",
       "      <td>1.0</td>\n",
       "      <td>1.0</td>\n",
       "      <td>1.0</td>\n",
       "      <td>1.0</td>\n",
       "      <td>1.0</td>\n",
       "      <td>1.0</td>\n",
       "      <td>1.0</td>\n",
       "      <td>1.0</td>\n",
       "      <td>1.0</td>\n",
       "      <td>...</td>\n",
       "      <td>0.000000e+00</td>\n",
       "      <td>0.000000e+00</td>\n",
       "      <td>0.000000e+00</td>\n",
       "      <td>0.0</td>\n",
       "      <td>0.0</td>\n",
       "      <td>0.0</td>\n",
       "      <td>0.0</td>\n",
       "      <td>0.0</td>\n",
       "      <td>0.0</td>\n",
       "      <td>0.0</td>\n",
       "    </tr>\n",
       "    <tr>\n",
       "      <th>14367</th>\n",
       "      <td>1.0</td>\n",
       "      <td>1.0</td>\n",
       "      <td>1.0</td>\n",
       "      <td>1.0</td>\n",
       "      <td>1.0</td>\n",
       "      <td>1.0</td>\n",
       "      <td>1.0</td>\n",
       "      <td>1.0</td>\n",
       "      <td>1.0</td>\n",
       "      <td>0.0</td>\n",
       "      <td>...</td>\n",
       "      <td>1.000000e+00</td>\n",
       "      <td>0.000000e+00</td>\n",
       "      <td>0.000000e+00</td>\n",
       "      <td>0.0</td>\n",
       "      <td>0.0</td>\n",
       "      <td>0.0</td>\n",
       "      <td>0.0</td>\n",
       "      <td>0.0</td>\n",
       "      <td>0.0</td>\n",
       "      <td>0.0</td>\n",
       "    </tr>\n",
       "    <tr>\n",
       "      <th>14368</th>\n",
       "      <td>1.0</td>\n",
       "      <td>1.0</td>\n",
       "      <td>1.0</td>\n",
       "      <td>1.0</td>\n",
       "      <td>1.0</td>\n",
       "      <td>1.0</td>\n",
       "      <td>1.0</td>\n",
       "      <td>1.0</td>\n",
       "      <td>1.0</td>\n",
       "      <td>0.0</td>\n",
       "      <td>...</td>\n",
       "      <td>1.000000e+00</td>\n",
       "      <td>0.000000e+00</td>\n",
       "      <td>0.000000e+00</td>\n",
       "      <td>0.0</td>\n",
       "      <td>0.0</td>\n",
       "      <td>0.0</td>\n",
       "      <td>0.0</td>\n",
       "      <td>0.0</td>\n",
       "      <td>0.0</td>\n",
       "      <td>0.0</td>\n",
       "    </tr>\n",
       "    <tr>\n",
       "      <th>14369</th>\n",
       "      <td>1.0</td>\n",
       "      <td>1.0</td>\n",
       "      <td>1.0</td>\n",
       "      <td>1.0</td>\n",
       "      <td>1.0</td>\n",
       "      <td>1.0</td>\n",
       "      <td>1.0</td>\n",
       "      <td>1.0</td>\n",
       "      <td>1.0</td>\n",
       "      <td>1.0</td>\n",
       "      <td>...</td>\n",
       "      <td>1.262177e-29</td>\n",
       "      <td>3.552714e-15</td>\n",
       "      <td>3.552714e-15</td>\n",
       "      <td>0.0</td>\n",
       "      <td>0.0</td>\n",
       "      <td>0.0</td>\n",
       "      <td>0.0</td>\n",
       "      <td>0.0</td>\n",
       "      <td>0.0</td>\n",
       "      <td>0.0</td>\n",
       "    </tr>\n",
       "  </tbody>\n",
       "</table>\n",
       "<p>14370 rows × 2028 columns</p>\n",
       "</div>"
      ],
      "text/plain": [
       "       0     1     2     3     4     5     6     7     8     9     ...  \\\n",
       "0       1.0   1.0   1.0   1.0   1.0   1.0   1.0   1.0   1.0   1.0  ...   \n",
       "1       1.0   1.0   1.0   1.0   1.0   1.0   1.0   1.0   1.0   1.0  ...   \n",
       "2       1.0   1.0   1.0   1.0   1.0   1.0   1.0   1.0   1.0   1.0  ...   \n",
       "3       1.0   1.0   1.0   1.0   1.0   1.0   1.0   1.0   1.0   1.0  ...   \n",
       "4       1.0   1.0   1.0   1.0   1.0   1.0   1.0   1.0   1.0   1.0  ...   \n",
       "...     ...   ...   ...   ...   ...   ...   ...   ...   ...   ...  ...   \n",
       "14365   1.0   1.0   1.0   1.0   1.0   1.0   1.0   1.0   1.0   1.0  ...   \n",
       "14366   1.0   1.0   1.0   1.0   1.0   1.0   1.0   1.0   1.0   1.0  ...   \n",
       "14367   1.0   1.0   1.0   1.0   1.0   1.0   1.0   1.0   1.0   0.0  ...   \n",
       "14368   1.0   1.0   1.0   1.0   1.0   1.0   1.0   1.0   1.0   0.0  ...   \n",
       "14369   1.0   1.0   1.0   1.0   1.0   1.0   1.0   1.0   1.0   1.0  ...   \n",
       "\n",
       "               2018          2019          2020  2021  2022  2023  2024  2025  \\\n",
       "0      0.000000e+00  0.000000e+00  0.000000e+00   0.0   0.0   0.0   0.0   0.0   \n",
       "1      0.000000e+00  0.000000e+00  0.000000e+00   0.0   0.0   0.0   0.0   0.0   \n",
       "2      0.000000e+00  0.000000e+00  0.000000e+00   0.0   0.0   0.0   0.0   0.0   \n",
       "3      0.000000e+00  0.000000e+00  0.000000e+00   0.0   0.0   0.0   0.0   0.0   \n",
       "4      0.000000e+00  0.000000e+00  0.000000e+00   0.0   0.0   0.0   0.0   0.0   \n",
       "...             ...           ...           ...   ...   ...   ...   ...   ...   \n",
       "14365  0.000000e+00  0.000000e+00  0.000000e+00   0.0   0.0   0.0   0.0   0.0   \n",
       "14366  0.000000e+00  0.000000e+00  0.000000e+00   0.0   0.0   0.0   0.0   0.0   \n",
       "14367  1.000000e+00  0.000000e+00  0.000000e+00   0.0   0.0   0.0   0.0   0.0   \n",
       "14368  1.000000e+00  0.000000e+00  0.000000e+00   0.0   0.0   0.0   0.0   0.0   \n",
       "14369  1.262177e-29  3.552714e-15  3.552714e-15   0.0   0.0   0.0   0.0   0.0   \n",
       "\n",
       "       2026  2027  \n",
       "0       0.0   0.0  \n",
       "1       0.0   0.0  \n",
       "2       0.0   0.0  \n",
       "3       0.0   0.0  \n",
       "4       0.0   0.0  \n",
       "...     ...   ...  \n",
       "14365   0.0   0.0  \n",
       "14366   0.0   0.0  \n",
       "14367   0.0   0.0  \n",
       "14368   0.0   0.0  \n",
       "14369   0.0   0.0  \n",
       "\n",
       "[14370 rows x 2028 columns]"
      ]
     },
     "execution_count": 452,
     "metadata": {},
     "output_type": "execute_result"
    }
   ],
   "source": [
    "X = pd.concat([X, concat], ignore_index=True)\n",
    "X"
   ]
  },
  {
   "cell_type": "code",
   "execution_count": 457,
   "metadata": {},
   "outputs": [
    {
     "data": {
      "image/png": "[encoded data removed]",
      "text/plain": [
       "<Figure size 800x800 with 4 Axes>"
      ]
     },
     "metadata": {},
     "output_type": "display_data"
    }
   ],
   "source": [
    "# Make sure everything works fine\n",
    "# The last Four elements are the Donuts with the different rotations\n",
    "fig, axs = plt.subplots(2, 2, figsize=(8, 8))\n",
    "for i, ax in enumerate(axs.flat):\n",
    "    ax.imshow(np.transpose(X.to_numpy().reshape(-1,3,26,26)[-(i+1)], axes=[1,2,0]))\n"
   ]
  },
  {
   "cell_type": "code",
   "execution_count": 458,
   "metadata": {},
   "outputs": [
    {
     "data": {
      "text/html": [
       "<div>\n",
       "<style scoped>\n",
       "    .dataframe tbody tr th:only-of-type {\n",
       "        vertical-align: middle;\n",
       "    }\n",
       "\n",
       "    .dataframe tbody tr th {\n",
       "        vertical-align: top;\n",
       "    }\n",
       "\n",
       "    .dataframe thead th {\n",
       "        text-align: right;\n",
       "    }\n",
       "</style>\n",
       "<table border=\"1\" class=\"dataframe\">\n",
       "  <thead>\n",
       "    <tr style=\"text-align: right;\">\n",
       "      <th></th>\n",
       "      <th>label</th>\n",
       "    </tr>\n",
       "  </thead>\n",
       "  <tbody>\n",
       "    <tr>\n",
       "      <th>10686</th>\n",
       "      <td>Donut</td>\n",
       "    </tr>\n",
       "  </tbody>\n",
       "</table>\n",
       "</div>"
      ],
      "text/plain": [
       "       label\n",
       "10686  Donut"
      ]
     },
     "execution_count": 458,
     "metadata": {},
     "output_type": "execute_result"
    }
   ],
   "source": [
    "donut_label = labels[labels['label']=='Donut']\n",
    "donut_label\n"
   ]
  },
  {
   "cell_type": "code",
   "execution_count": 459,
   "metadata": {},
   "outputs": [
    {
     "data": {
      "text/html": [
       "<div>\n",
       "<style scoped>\n",
       "    .dataframe tbody tr th:only-of-type {\n",
       "        vertical-align: middle;\n",
       "    }\n",
       "\n",
       "    .dataframe tbody tr th {\n",
       "        vertical-align: top;\n",
       "    }\n",
       "\n",
       "    .dataframe thead th {\n",
       "        text-align: right;\n",
       "    }\n",
       "</style>\n",
       "<table border=\"1\" class=\"dataframe\">\n",
       "  <thead>\n",
       "    <tr style=\"text-align: right;\">\n",
       "      <th></th>\n",
       "      <th>label</th>\n",
       "    </tr>\n",
       "  </thead>\n",
       "  <tbody>\n",
       "    <tr>\n",
       "      <th>0</th>\n",
       "      <td>none</td>\n",
       "    </tr>\n",
       "    <tr>\n",
       "      <th>1</th>\n",
       "      <td>none</td>\n",
       "    </tr>\n",
       "    <tr>\n",
       "      <th>2</th>\n",
       "      <td>none</td>\n",
       "    </tr>\n",
       "    <tr>\n",
       "      <th>3</th>\n",
       "      <td>none</td>\n",
       "    </tr>\n",
       "    <tr>\n",
       "      <th>4</th>\n",
       "      <td>none</td>\n",
       "    </tr>\n",
       "    <tr>\n",
       "      <th>...</th>\n",
       "      <td>...</td>\n",
       "    </tr>\n",
       "    <tr>\n",
       "      <th>14365</th>\n",
       "      <td>none</td>\n",
       "    </tr>\n",
       "    <tr>\n",
       "      <th>14366</th>\n",
       "      <td>Donut</td>\n",
       "    </tr>\n",
       "    <tr>\n",
       "      <th>14367</th>\n",
       "      <td>Donut</td>\n",
       "    </tr>\n",
       "    <tr>\n",
       "      <th>14368</th>\n",
       "      <td>Donut</td>\n",
       "    </tr>\n",
       "    <tr>\n",
       "      <th>14369</th>\n",
       "      <td>Donut</td>\n",
       "    </tr>\n",
       "  </tbody>\n",
       "</table>\n",
       "<p>14370 rows × 1 columns</p>\n",
       "</div>"
      ],
      "text/plain": [
       "       label\n",
       "0       none\n",
       "1       none\n",
       "2       none\n",
       "3       none\n",
       "4       none\n",
       "...      ...\n",
       "14365   none\n",
       "14366  Donut\n",
       "14367  Donut\n",
       "14368  Donut\n",
       "14369  Donut\n",
       "\n",
       "[14370 rows x 1 columns]"
      ]
     },
     "execution_count": 459,
     "metadata": {},
     "output_type": "execute_result"
    }
   ],
   "source": [
    "labels = pd.concat([labels]+[donut_label.reset_index(drop=True) for _ in range(4)], ignore_index=True)\n",
    "labels"
   ]
  },
  {
   "cell_type": "code",
   "execution_count": 460,
   "metadata": {},
   "outputs": [
    {
     "data": {
      "text/html": [
       "<div>\n",
       "<style scoped>\n",
       "    .dataframe tbody tr th:only-of-type {\n",
       "        vertical-align: middle;\n",
       "    }\n",
       "\n",
       "    .dataframe tbody tr th {\n",
       "        vertical-align: top;\n",
       "    }\n",
       "\n",
       "    .dataframe thead th {\n",
       "        text-align: right;\n",
       "    }\n",
       "</style>\n",
       "<table border=\"1\" class=\"dataframe\">\n",
       "  <thead>\n",
       "    <tr style=\"text-align: right;\">\n",
       "      <th></th>\n",
       "      <th>0</th>\n",
       "      <th>1</th>\n",
       "      <th>2</th>\n",
       "      <th>3</th>\n",
       "      <th>4</th>\n",
       "      <th>5</th>\n",
       "      <th>6</th>\n",
       "      <th>7</th>\n",
       "      <th>8</th>\n",
       "      <th>9</th>\n",
       "      <th>...</th>\n",
       "      <th>2018</th>\n",
       "      <th>2019</th>\n",
       "      <th>2020</th>\n",
       "      <th>2021</th>\n",
       "      <th>2022</th>\n",
       "      <th>2023</th>\n",
       "      <th>2024</th>\n",
       "      <th>2025</th>\n",
       "      <th>2026</th>\n",
       "      <th>2027</th>\n",
       "    </tr>\n",
       "  </thead>\n",
       "  <tbody>\n",
       "    <tr>\n",
       "      <th>10686</th>\n",
       "      <td>1.0</td>\n",
       "      <td>1.0</td>\n",
       "      <td>1.0</td>\n",
       "      <td>1.0</td>\n",
       "      <td>1.0</td>\n",
       "      <td>1.0</td>\n",
       "      <td>1.0</td>\n",
       "      <td>1.0</td>\n",
       "      <td>1.0</td>\n",
       "      <td>1.0</td>\n",
       "      <td>...</td>\n",
       "      <td>0.000000e+00</td>\n",
       "      <td>0.000000e+00</td>\n",
       "      <td>0.000000e+00</td>\n",
       "      <td>0.0</td>\n",
       "      <td>0.0</td>\n",
       "      <td>0.0</td>\n",
       "      <td>0.0</td>\n",
       "      <td>0.0</td>\n",
       "      <td>0.0</td>\n",
       "      <td>0.0</td>\n",
       "    </tr>\n",
       "    <tr>\n",
       "      <th>14366</th>\n",
       "      <td>1.0</td>\n",
       "      <td>1.0</td>\n",
       "      <td>1.0</td>\n",
       "      <td>1.0</td>\n",
       "      <td>1.0</td>\n",
       "      <td>1.0</td>\n",
       "      <td>1.0</td>\n",
       "      <td>1.0</td>\n",
       "      <td>1.0</td>\n",
       "      <td>1.0</td>\n",
       "      <td>...</td>\n",
       "      <td>0.000000e+00</td>\n",
       "      <td>0.000000e+00</td>\n",
       "      <td>0.000000e+00</td>\n",
       "      <td>0.0</td>\n",
       "      <td>0.0</td>\n",
       "      <td>0.0</td>\n",
       "      <td>0.0</td>\n",
       "      <td>0.0</td>\n",
       "      <td>0.0</td>\n",
       "      <td>0.0</td>\n",
       "    </tr>\n",
       "    <tr>\n",
       "      <th>14367</th>\n",
       "      <td>1.0</td>\n",
       "      <td>1.0</td>\n",
       "      <td>1.0</td>\n",
       "      <td>1.0</td>\n",
       "      <td>1.0</td>\n",
       "      <td>1.0</td>\n",
       "      <td>1.0</td>\n",
       "      <td>1.0</td>\n",
       "      <td>1.0</td>\n",
       "      <td>0.0</td>\n",
       "      <td>...</td>\n",
       "      <td>1.000000e+00</td>\n",
       "      <td>0.000000e+00</td>\n",
       "      <td>0.000000e+00</td>\n",
       "      <td>0.0</td>\n",
       "      <td>0.0</td>\n",
       "      <td>0.0</td>\n",
       "      <td>0.0</td>\n",
       "      <td>0.0</td>\n",
       "      <td>0.0</td>\n",
       "      <td>0.0</td>\n",
       "    </tr>\n",
       "    <tr>\n",
       "      <th>14368</th>\n",
       "      <td>1.0</td>\n",
       "      <td>1.0</td>\n",
       "      <td>1.0</td>\n",
       "      <td>1.0</td>\n",
       "      <td>1.0</td>\n",
       "      <td>1.0</td>\n",
       "      <td>1.0</td>\n",
       "      <td>1.0</td>\n",
       "      <td>1.0</td>\n",
       "      <td>0.0</td>\n",
       "      <td>...</td>\n",
       "      <td>1.000000e+00</td>\n",
       "      <td>0.000000e+00</td>\n",
       "      <td>0.000000e+00</td>\n",
       "      <td>0.0</td>\n",
       "      <td>0.0</td>\n",
       "      <td>0.0</td>\n",
       "      <td>0.0</td>\n",
       "      <td>0.0</td>\n",
       "      <td>0.0</td>\n",
       "      <td>0.0</td>\n",
       "    </tr>\n",
       "    <tr>\n",
       "      <th>14369</th>\n",
       "      <td>1.0</td>\n",
       "      <td>1.0</td>\n",
       "      <td>1.0</td>\n",
       "      <td>1.0</td>\n",
       "      <td>1.0</td>\n",
       "      <td>1.0</td>\n",
       "      <td>1.0</td>\n",
       "      <td>1.0</td>\n",
       "      <td>1.0</td>\n",
       "      <td>1.0</td>\n",
       "      <td>...</td>\n",
       "      <td>1.262177e-29</td>\n",
       "      <td>3.552714e-15</td>\n",
       "      <td>3.552714e-15</td>\n",
       "      <td>0.0</td>\n",
       "      <td>0.0</td>\n",
       "      <td>0.0</td>\n",
       "      <td>0.0</td>\n",
       "      <td>0.0</td>\n",
       "      <td>0.0</td>\n",
       "      <td>0.0</td>\n",
       "    </tr>\n",
       "  </tbody>\n",
       "</table>\n",
       "<p>5 rows × 2028 columns</p>\n",
       "</div>"
      ],
      "text/plain": [
       "       0     1     2     3     4     5     6     7     8     9     ...  \\\n",
       "10686   1.0   1.0   1.0   1.0   1.0   1.0   1.0   1.0   1.0   1.0  ...   \n",
       "14366   1.0   1.0   1.0   1.0   1.0   1.0   1.0   1.0   1.0   1.0  ...   \n",
       "14367   1.0   1.0   1.0   1.0   1.0   1.0   1.0   1.0   1.0   0.0  ...   \n",
       "14368   1.0   1.0   1.0   1.0   1.0   1.0   1.0   1.0   1.0   0.0  ...   \n",
       "14369   1.0   1.0   1.0   1.0   1.0   1.0   1.0   1.0   1.0   1.0  ...   \n",
       "\n",
       "               2018          2019          2020  2021  2022  2023  2024  2025  \\\n",
       "10686  0.000000e+00  0.000000e+00  0.000000e+00   0.0   0.0   0.0   0.0   0.0   \n",
       "14366  0.000000e+00  0.000000e+00  0.000000e+00   0.0   0.0   0.0   0.0   0.0   \n",
       "14367  1.000000e+00  0.000000e+00  0.000000e+00   0.0   0.0   0.0   0.0   0.0   \n",
       "14368  1.000000e+00  0.000000e+00  0.000000e+00   0.0   0.0   0.0   0.0   0.0   \n",
       "14369  1.262177e-29  3.552714e-15  3.552714e-15   0.0   0.0   0.0   0.0   0.0   \n",
       "\n",
       "       2026  2027  \n",
       "10686   0.0   0.0  \n",
       "14366   0.0   0.0  \n",
       "14367   0.0   0.0  \n",
       "14368   0.0   0.0  \n",
       "14369   0.0   0.0  \n",
       "\n",
       "[5 rows x 2028 columns]"
      ]
     },
     "execution_count": 460,
     "metadata": {},
     "output_type": "execute_result"
    }
   ],
   "source": [
    "X[labels['label']=='Donut']"
   ]
  },
  {
   "cell_type": "code",
   "execution_count": 461,
   "metadata": {},
   "outputs": [],
   "source": [
    "X_train, X_test, y_train, y_test = train_test_split(X, labels, test_size = 0.25, stratify=labels)"
   ]
  },
  {
   "cell_type": "code",
   "execution_count": 462,
   "metadata": {},
   "outputs": [
    {
     "data": {
      "text/plain": [
       "label    \n",
       "none         10116\n",
       "Loc            223\n",
       "Edge-Loc       222\n",
       "Center          67\n",
       "Random          56\n",
       "Scratch         54\n",
       "Edge-Ring       23\n",
       "Near-full       12\n",
       "Donut            4\n",
       "Name: count, dtype: int64"
      ]
     },
     "execution_count": 462,
     "metadata": {},
     "output_type": "execute_result"
    }
   ],
   "source": [
    "y_train.value_counts()"
   ]
  },
  {
   "cell_type": "code",
   "execution_count": 463,
   "metadata": {},
   "outputs": [
    {
     "data": {
      "text/plain": [
       "label    \n",
       "none         3373\n",
       "Edge-Loc       74\n",
       "Loc            74\n",
       "Center         23\n",
       "Random         18\n",
       "Scratch        18\n",
       "Edge-Ring       8\n",
       "Near-full       4\n",
       "Donut           1\n",
       "Name: count, dtype: int64"
      ]
     },
     "execution_count": 463,
     "metadata": {},
     "output_type": "execute_result"
    }
   ],
   "source": [
    "y_test.value_counts()"
   ]
  },
  {
   "cell_type": "code",
   "execution_count": 466,
   "metadata": {},
   "outputs": [],
   "source": [
    "random_forest = RandomForestClassifier(n_estimators=500, random_state=1).fit(X_train, y_train['label'])\n",
    "y_pred = random_forest.predict(X_test)"
   ]
  },
  {
   "cell_type": "code",
   "execution_count": 489,
   "metadata": {},
   "outputs": [
    {
     "name": "stdout",
     "output_type": "stream",
     "text": [
      "Accuracy score: 0.9521291399944336\n",
      "Recall score: 0.6323915166235038\n",
      "              precision    recall  f1-score   support\n",
      "\n",
      "      Center       0.67      0.52      0.59        23\n",
      "       Donut       1.00      1.00      1.00         1\n",
      "    Edge-Loc       0.82      0.43      0.57        74\n",
      "   Edge-Ring       0.73      1.00      0.84         8\n",
      "         Loc       0.62      0.14      0.22        74\n",
      "   Near-full       1.00      1.00      1.00         4\n",
      "      Random       1.00      0.39      0.56        18\n",
      "     Scratch       0.25      0.22      0.24        18\n",
      "        none       0.96      0.99      0.98      3373\n",
      "\n",
      "    accuracy                           0.95      3593\n",
      "   macro avg       0.78      0.63      0.67      3593\n",
      "weighted avg       0.94      0.95      0.94      3593\n",
      "\n"
     ]
    }
   ],
   "source": [
    "print('Accuracy score: ' + str(accuracy_score(y_test['label'], y_pred)))\n",
    "print('Recall score: ' + str(recall_score(y_test['label'], y_pred, average='macro')))\n",
    "print(classification_report(y_test['label'], y_pred))\n"
   ]
  },
  {
   "cell_type": "code",
   "execution_count": 496,
   "metadata": {},
   "outputs": [
    {
     "name": "stdout",
     "output_type": "stream",
     "text": [
      "Confusion matrix:\n",
      " [[3343    0    6   12    0    6    6    0    0]\n",
      " [   0    8    0    0    0    0    0    0    0]\n",
      " [  39    3   32    0    0    0    0    0    0]\n",
      " [  14    0    0    4    0    0    0    0    0]\n",
      " [  11    0    0    0    7    0    0    0    0]\n",
      " [  11    0    0    0    0   12    0    0    0]\n",
      " [  63    0    1    0    0    0   10    0    0]\n",
      " [   0    0    0    0    0    0    0    4    0]\n",
      " [   0    0    0    0    0    0    0    0    1]]\n"
     ]
    },
    {
     "data": {
      "image/png": "[encoded data removed]",
      "text/plain": [
       "<Figure size 640x480 with 2 Axes>"
      ]
     },
     "metadata": {},
     "output_type": "display_data"
    }
   ],
   "source": [
    "def draw_confusion_matrix(y_true, y_pred, labels) :\n",
    "    matrix_labels = labels['label'].unique()\n",
    "    cm = confusion_matrix(y_true, y_pred, labels=matrix_labels)\n",
    "    print('Confusion matrix:\\n', cm)\n",
    "\n",
    "    df_cm = pd.DataFrame(cm, matrix_labels, matrix_labels)\n",
    "    ax = sns.heatmap(df_cm, annot=True, annot_kws={\"size\": 12}, square=True, cbar=True, fmt='g')\n",
    "    plt.xlabel(\"predicted\") \n",
    "    plt.ylabel(\"actual\") \n",
    "    ax.invert_yaxis()\n",
    "    plt.show()\n",
    "\n",
    "draw_confusion_matrix(y_test['label'], y_pred, labels)"
   ]
  },
  {
   "cell_type": "markdown",
   "metadata": {},
   "source": [
    "Using stratified sampling has notably improved the results, yielding an F1 score of 0.61. While precision is high, indicating fewer false positives, the lower recall suggests a higher occurrence of false negatives. We can see that on the confusion matrix, many shapes that are nont `none` are classified `none` by the model"
   ]
  },
  {
   "cell_type": "markdown",
   "metadata": {},
   "source": [
    "### Resampling"
   ]
  },
  {
   "cell_type": "markdown",
   "metadata": {},
   "source": [
    "We will try oversampling the data in this part to see if it is going to improve the performance.  \n",
    "The `resample` function only resamples one class, we define the make_resample function that resamples all the classes based on the largest represented class (in our case the none class)"
   ]
  },
  {
   "cell_type": "code",
   "execution_count": 470,
   "metadata": {},
   "outputs": [],
   "source": [
    "def make_resample(_df, column):\n",
    "    dfs_r = {}\n",
    "    dfs_c = {}\n",
    "    bigger = 0\n",
    "    ignore = \"\"\n",
    "    for c in _df[column].unique():\n",
    "      dfs_c[c] = _df[_df[column] == c]\n",
    "      if dfs_c[c].shape[0] > bigger:\n",
    "        bigger = dfs_c[c].shape[0]\n",
    "        ignore = c\n",
    "    for c in dfs_c:\n",
    "      if c == ignore:\n",
    "        continue\n",
    "      dfs_r[c] = resample(dfs_c[c], replace=True, n_samples=bigger - dfs_c[c].shape[0], random_state=0)\n",
    "    return pd.concat([dfs_r[c] for c in dfs_r] + [_df])"
   ]
  },
  {
   "cell_type": "code",
   "execution_count": 471,
   "metadata": {},
   "outputs": [
    {
     "data": {
      "text/html": [
       "<div>\n",
       "<style scoped>\n",
       "    .dataframe tbody tr th:only-of-type {\n",
       "        vertical-align: middle;\n",
       "    }\n",
       "\n",
       "    .dataframe tbody tr th {\n",
       "        vertical-align: top;\n",
       "    }\n",
       "\n",
       "    .dataframe thead th {\n",
       "        text-align: right;\n",
       "    }\n",
       "</style>\n",
       "<table border=\"1\" class=\"dataframe\">\n",
       "  <thead>\n",
       "    <tr style=\"text-align: right;\">\n",
       "      <th></th>\n",
       "      <th>0</th>\n",
       "      <th>1</th>\n",
       "      <th>2</th>\n",
       "      <th>3</th>\n",
       "      <th>4</th>\n",
       "      <th>5</th>\n",
       "      <th>6</th>\n",
       "      <th>7</th>\n",
       "      <th>8</th>\n",
       "      <th>9</th>\n",
       "      <th>...</th>\n",
       "      <th>2019</th>\n",
       "      <th>2020</th>\n",
       "      <th>2021</th>\n",
       "      <th>2022</th>\n",
       "      <th>2023</th>\n",
       "      <th>2024</th>\n",
       "      <th>2025</th>\n",
       "      <th>2026</th>\n",
       "      <th>2027</th>\n",
       "      <th>label</th>\n",
       "    </tr>\n",
       "  </thead>\n",
       "  <tbody>\n",
       "    <tr>\n",
       "      <th>12598</th>\n",
       "      <td>1.0</td>\n",
       "      <td>1.0</td>\n",
       "      <td>1.0</td>\n",
       "      <td>1.0</td>\n",
       "      <td>1.0</td>\n",
       "      <td>1.0</td>\n",
       "      <td>1.0</td>\n",
       "      <td>1.0</td>\n",
       "      <td>1.0</td>\n",
       "      <td>1.0</td>\n",
       "      <td>...</td>\n",
       "      <td>0.0</td>\n",
       "      <td>0.0</td>\n",
       "      <td>0.0</td>\n",
       "      <td>0.0</td>\n",
       "      <td>0.0</td>\n",
       "      <td>0.0</td>\n",
       "      <td>0.0</td>\n",
       "      <td>0.0</td>\n",
       "      <td>0.0</td>\n",
       "      <td>none</td>\n",
       "    </tr>\n",
       "    <tr>\n",
       "      <th>11773</th>\n",
       "      <td>1.0</td>\n",
       "      <td>1.0</td>\n",
       "      <td>1.0</td>\n",
       "      <td>1.0</td>\n",
       "      <td>1.0</td>\n",
       "      <td>1.0</td>\n",
       "      <td>1.0</td>\n",
       "      <td>1.0</td>\n",
       "      <td>1.0</td>\n",
       "      <td>1.0</td>\n",
       "      <td>...</td>\n",
       "      <td>0.0</td>\n",
       "      <td>0.0</td>\n",
       "      <td>0.0</td>\n",
       "      <td>0.0</td>\n",
       "      <td>0.0</td>\n",
       "      <td>0.0</td>\n",
       "      <td>0.0</td>\n",
       "      <td>0.0</td>\n",
       "      <td>0.0</td>\n",
       "      <td>none</td>\n",
       "    </tr>\n",
       "    <tr>\n",
       "      <th>7989</th>\n",
       "      <td>1.0</td>\n",
       "      <td>1.0</td>\n",
       "      <td>1.0</td>\n",
       "      <td>1.0</td>\n",
       "      <td>1.0</td>\n",
       "      <td>1.0</td>\n",
       "      <td>1.0</td>\n",
       "      <td>1.0</td>\n",
       "      <td>1.0</td>\n",
       "      <td>1.0</td>\n",
       "      <td>...</td>\n",
       "      <td>0.0</td>\n",
       "      <td>0.0</td>\n",
       "      <td>0.0</td>\n",
       "      <td>0.0</td>\n",
       "      <td>0.0</td>\n",
       "      <td>0.0</td>\n",
       "      <td>0.0</td>\n",
       "      <td>0.0</td>\n",
       "      <td>0.0</td>\n",
       "      <td>none</td>\n",
       "    </tr>\n",
       "    <tr>\n",
       "      <th>12180</th>\n",
       "      <td>1.0</td>\n",
       "      <td>1.0</td>\n",
       "      <td>1.0</td>\n",
       "      <td>1.0</td>\n",
       "      <td>1.0</td>\n",
       "      <td>1.0</td>\n",
       "      <td>1.0</td>\n",
       "      <td>1.0</td>\n",
       "      <td>1.0</td>\n",
       "      <td>1.0</td>\n",
       "      <td>...</td>\n",
       "      <td>0.0</td>\n",
       "      <td>0.0</td>\n",
       "      <td>0.0</td>\n",
       "      <td>0.0</td>\n",
       "      <td>0.0</td>\n",
       "      <td>0.0</td>\n",
       "      <td>0.0</td>\n",
       "      <td>0.0</td>\n",
       "      <td>0.0</td>\n",
       "      <td>none</td>\n",
       "    </tr>\n",
       "    <tr>\n",
       "      <th>6160</th>\n",
       "      <td>1.0</td>\n",
       "      <td>1.0</td>\n",
       "      <td>1.0</td>\n",
       "      <td>1.0</td>\n",
       "      <td>1.0</td>\n",
       "      <td>1.0</td>\n",
       "      <td>1.0</td>\n",
       "      <td>1.0</td>\n",
       "      <td>1.0</td>\n",
       "      <td>1.0</td>\n",
       "      <td>...</td>\n",
       "      <td>0.0</td>\n",
       "      <td>0.0</td>\n",
       "      <td>0.0</td>\n",
       "      <td>0.0</td>\n",
       "      <td>0.0</td>\n",
       "      <td>0.0</td>\n",
       "      <td>0.0</td>\n",
       "      <td>0.0</td>\n",
       "      <td>0.0</td>\n",
       "      <td>none</td>\n",
       "    </tr>\n",
       "    <tr>\n",
       "      <th>...</th>\n",
       "      <td>...</td>\n",
       "      <td>...</td>\n",
       "      <td>...</td>\n",
       "      <td>...</td>\n",
       "      <td>...</td>\n",
       "      <td>...</td>\n",
       "      <td>...</td>\n",
       "      <td>...</td>\n",
       "      <td>...</td>\n",
       "      <td>...</td>\n",
       "      <td>...</td>\n",
       "      <td>...</td>\n",
       "      <td>...</td>\n",
       "      <td>...</td>\n",
       "      <td>...</td>\n",
       "      <td>...</td>\n",
       "      <td>...</td>\n",
       "      <td>...</td>\n",
       "      <td>...</td>\n",
       "      <td>...</td>\n",
       "      <td>...</td>\n",
       "    </tr>\n",
       "    <tr>\n",
       "      <th>4956</th>\n",
       "      <td>1.0</td>\n",
       "      <td>1.0</td>\n",
       "      <td>1.0</td>\n",
       "      <td>1.0</td>\n",
       "      <td>1.0</td>\n",
       "      <td>1.0</td>\n",
       "      <td>1.0</td>\n",
       "      <td>1.0</td>\n",
       "      <td>1.0</td>\n",
       "      <td>1.0</td>\n",
       "      <td>...</td>\n",
       "      <td>0.0</td>\n",
       "      <td>0.0</td>\n",
       "      <td>0.0</td>\n",
       "      <td>0.0</td>\n",
       "      <td>0.0</td>\n",
       "      <td>0.0</td>\n",
       "      <td>0.0</td>\n",
       "      <td>0.0</td>\n",
       "      <td>0.0</td>\n",
       "      <td>none</td>\n",
       "    </tr>\n",
       "    <tr>\n",
       "      <th>12948</th>\n",
       "      <td>1.0</td>\n",
       "      <td>1.0</td>\n",
       "      <td>1.0</td>\n",
       "      <td>1.0</td>\n",
       "      <td>1.0</td>\n",
       "      <td>1.0</td>\n",
       "      <td>1.0</td>\n",
       "      <td>1.0</td>\n",
       "      <td>1.0</td>\n",
       "      <td>1.0</td>\n",
       "      <td>...</td>\n",
       "      <td>0.0</td>\n",
       "      <td>0.0</td>\n",
       "      <td>0.0</td>\n",
       "      <td>0.0</td>\n",
       "      <td>0.0</td>\n",
       "      <td>0.0</td>\n",
       "      <td>0.0</td>\n",
       "      <td>0.0</td>\n",
       "      <td>0.0</td>\n",
       "      <td>none</td>\n",
       "    </tr>\n",
       "    <tr>\n",
       "      <th>8833</th>\n",
       "      <td>1.0</td>\n",
       "      <td>1.0</td>\n",
       "      <td>1.0</td>\n",
       "      <td>1.0</td>\n",
       "      <td>1.0</td>\n",
       "      <td>1.0</td>\n",
       "      <td>1.0</td>\n",
       "      <td>1.0</td>\n",
       "      <td>1.0</td>\n",
       "      <td>1.0</td>\n",
       "      <td>...</td>\n",
       "      <td>0.0</td>\n",
       "      <td>0.0</td>\n",
       "      <td>0.0</td>\n",
       "      <td>0.0</td>\n",
       "      <td>0.0</td>\n",
       "      <td>0.0</td>\n",
       "      <td>0.0</td>\n",
       "      <td>0.0</td>\n",
       "      <td>0.0</td>\n",
       "      <td>none</td>\n",
       "    </tr>\n",
       "    <tr>\n",
       "      <th>9087</th>\n",
       "      <td>1.0</td>\n",
       "      <td>1.0</td>\n",
       "      <td>1.0</td>\n",
       "      <td>1.0</td>\n",
       "      <td>1.0</td>\n",
       "      <td>1.0</td>\n",
       "      <td>1.0</td>\n",
       "      <td>1.0</td>\n",
       "      <td>1.0</td>\n",
       "      <td>1.0</td>\n",
       "      <td>...</td>\n",
       "      <td>0.0</td>\n",
       "      <td>0.0</td>\n",
       "      <td>0.0</td>\n",
       "      <td>0.0</td>\n",
       "      <td>0.0</td>\n",
       "      <td>0.0</td>\n",
       "      <td>0.0</td>\n",
       "      <td>0.0</td>\n",
       "      <td>0.0</td>\n",
       "      <td>none</td>\n",
       "    </tr>\n",
       "    <tr>\n",
       "      <th>280</th>\n",
       "      <td>1.0</td>\n",
       "      <td>1.0</td>\n",
       "      <td>1.0</td>\n",
       "      <td>1.0</td>\n",
       "      <td>1.0</td>\n",
       "      <td>1.0</td>\n",
       "      <td>1.0</td>\n",
       "      <td>1.0</td>\n",
       "      <td>1.0</td>\n",
       "      <td>1.0</td>\n",
       "      <td>...</td>\n",
       "      <td>0.0</td>\n",
       "      <td>0.0</td>\n",
       "      <td>0.0</td>\n",
       "      <td>0.0</td>\n",
       "      <td>0.0</td>\n",
       "      <td>0.0</td>\n",
       "      <td>0.0</td>\n",
       "      <td>0.0</td>\n",
       "      <td>0.0</td>\n",
       "      <td>none</td>\n",
       "    </tr>\n",
       "  </tbody>\n",
       "</table>\n",
       "<p>10777 rows × 2029 columns</p>\n",
       "</div>"
      ],
      "text/plain": [
       "         0    1    2    3    4    5    6    7    8    9  ...  2019  2020  \\\n",
       "12598  1.0  1.0  1.0  1.0  1.0  1.0  1.0  1.0  1.0  1.0  ...   0.0   0.0   \n",
       "11773  1.0  1.0  1.0  1.0  1.0  1.0  1.0  1.0  1.0  1.0  ...   0.0   0.0   \n",
       "7989   1.0  1.0  1.0  1.0  1.0  1.0  1.0  1.0  1.0  1.0  ...   0.0   0.0   \n",
       "12180  1.0  1.0  1.0  1.0  1.0  1.0  1.0  1.0  1.0  1.0  ...   0.0   0.0   \n",
       "6160   1.0  1.0  1.0  1.0  1.0  1.0  1.0  1.0  1.0  1.0  ...   0.0   0.0   \n",
       "...    ...  ...  ...  ...  ...  ...  ...  ...  ...  ...  ...   ...   ...   \n",
       "4956   1.0  1.0  1.0  1.0  1.0  1.0  1.0  1.0  1.0  1.0  ...   0.0   0.0   \n",
       "12948  1.0  1.0  1.0  1.0  1.0  1.0  1.0  1.0  1.0  1.0  ...   0.0   0.0   \n",
       "8833   1.0  1.0  1.0  1.0  1.0  1.0  1.0  1.0  1.0  1.0  ...   0.0   0.0   \n",
       "9087   1.0  1.0  1.0  1.0  1.0  1.0  1.0  1.0  1.0  1.0  ...   0.0   0.0   \n",
       "280    1.0  1.0  1.0  1.0  1.0  1.0  1.0  1.0  1.0  1.0  ...   0.0   0.0   \n",
       "\n",
       "       2021  2022  2023  2024  2025  2026  2027  label  \n",
       "12598   0.0   0.0   0.0   0.0   0.0   0.0   0.0   none  \n",
       "11773   0.0   0.0   0.0   0.0   0.0   0.0   0.0   none  \n",
       "7989    0.0   0.0   0.0   0.0   0.0   0.0   0.0   none  \n",
       "12180   0.0   0.0   0.0   0.0   0.0   0.0   0.0   none  \n",
       "6160    0.0   0.0   0.0   0.0   0.0   0.0   0.0   none  \n",
       "...     ...   ...   ...   ...   ...   ...   ...    ...  \n",
       "4956    0.0   0.0   0.0   0.0   0.0   0.0   0.0   none  \n",
       "12948   0.0   0.0   0.0   0.0   0.0   0.0   0.0   none  \n",
       "8833    0.0   0.0   0.0   0.0   0.0   0.0   0.0   none  \n",
       "9087    0.0   0.0   0.0   0.0   0.0   0.0   0.0   none  \n",
       "280     0.0   0.0   0.0   0.0   0.0   0.0   0.0   none  \n",
       "\n",
       "[10777 rows x 2029 columns]"
      ]
     },
     "execution_count": 471,
     "metadata": {},
     "output_type": "execute_result"
    }
   ],
   "source": [
    "concat = pd.concat([X_train,y_train], axis=1)\n",
    "concat"
   ]
  },
  {
   "cell_type": "code",
   "execution_count": 472,
   "metadata": {},
   "outputs": [],
   "source": [
    "oversampled = make_resample(concat,'label')"
   ]
  },
  {
   "cell_type": "code",
   "execution_count": 473,
   "metadata": {},
   "outputs": [
    {
     "data": {
      "text/plain": [
       "label\n",
       "Edge-Loc     10116\n",
       "Loc          10116\n",
       "Random       10116\n",
       "Center       10116\n",
       "Scratch      10116\n",
       "Edge-Ring    10116\n",
       "Near-full    10116\n",
       "Donut        10116\n",
       "none         10116\n",
       "Name: count, dtype: int64"
      ]
     },
     "execution_count": 473,
     "metadata": {},
     "output_type": "execute_result"
    }
   ],
   "source": [
    "oversampled['label'].value_counts()"
   ]
  },
  {
   "cell_type": "code",
   "execution_count": 475,
   "metadata": {},
   "outputs": [],
   "source": [
    "random_forest = RandomForestClassifier(n_estimators=90, max_depth=8, random_state=1).fit(oversampled.drop('label', axis=1), oversampled['label'])\n",
    "y_pred = random_forest.predict(X_test)"
   ]
  },
  {
   "cell_type": "code",
   "execution_count": 476,
   "metadata": {},
   "outputs": [
    {
     "name": "stdout",
     "output_type": "stream",
     "text": [
      "Accuracy score: 0.9521291399944336\n",
      "Recall score: 0.6323915166235038\n",
      "              precision    recall  f1-score   support\n",
      "\n",
      "      Center       0.67      0.52      0.59        23\n",
      "       Donut       1.00      1.00      1.00         1\n",
      "    Edge-Loc       0.82      0.43      0.57        74\n",
      "   Edge-Ring       0.73      1.00      0.84         8\n",
      "         Loc       0.62      0.14      0.22        74\n",
      "   Near-full       1.00      1.00      1.00         4\n",
      "      Random       1.00      0.39      0.56        18\n",
      "     Scratch       0.25      0.22      0.24        18\n",
      "        none       0.96      0.99      0.98      3373\n",
      "\n",
      "    accuracy                           0.95      3593\n",
      "   macro avg       0.78      0.63      0.67      3593\n",
      "weighted avg       0.94      0.95      0.94      3593\n",
      "\n"
     ]
    }
   ],
   "source": [
    "print('Accuracy score: ' + str(accuracy_score(y_test['label'], y_pred)))\n",
    "print('Recall score: ' + str(recall_score(y_test['label'], y_pred, average='macro')))\n",
    "print(classification_report(y_test['label'], y_pred))"
   ]
  },
  {
   "cell_type": "code",
   "execution_count": 497,
   "metadata": {},
   "outputs": [
    {
     "name": "stdout",
     "output_type": "stream",
     "text": [
      "Confusion matrix:\n",
      " [[3343    0    6   12    0    6    6    0    0]\n",
      " [   0    8    0    0    0    0    0    0    0]\n",
      " [  39    3   32    0    0    0    0    0    0]\n",
      " [  14    0    0    4    0    0    0    0    0]\n",
      " [  11    0    0    0    7    0    0    0    0]\n",
      " [  11    0    0    0    0   12    0    0    0]\n",
      " [  63    0    1    0    0    0   10    0    0]\n",
      " [   0    0    0    0    0    0    0    4    0]\n",
      " [   0    0    0    0    0    0    0    0    1]]\n"
     ]
    },
    {
     "data": {
      "image/png": "[encoded data removed]",
      "text/plain": [
       "<Figure size 640x480 with 2 Axes>"
      ]
     },
     "metadata": {},
     "output_type": "display_data"
    }
   ],
   "source": [
    "draw_confusion_matrix(y_test['label'], y_pred, labels)"
   ]
  },
  {
   "cell_type": "markdown",
   "metadata": {},
   "source": [
    "We can see that the oversampled dataset with the given hyperparameters performed a little bit better with an F1 score of 0.67"
   ]
  },
  {
   "cell_type": "code",
   "execution_count": 530,
   "metadata": {},
   "outputs": [
    {
     "data": {
      "text/plain": [
       "label\n",
       "none         1000\n",
       "Loc           223\n",
       "Edge-Loc      222\n",
       "Center         67\n",
       "Random         56\n",
       "Scratch        54\n",
       "Edge-Ring      23\n",
       "Near-full      12\n",
       "Donut           4\n",
       "Name: count, dtype: int64"
      ]
     },
     "execution_count": 530,
     "metadata": {},
     "output_type": "execute_result"
    }
   ],
   "source": [
    "none_indices = X_train[y_train['label'] == 'none'].index\n",
    "random_indices = np.random.choice(none_indices, size=(1000,))\n",
    "\n",
    "X_train_none_subset = X_train.loc[random_indices, :]\n",
    "y_train_none_subset = y_train.loc[random_indices, :]\n",
    "\n",
    "X_train_undersampled = pd.concat([X_train[y_train['label']!='none'], X_train_none_subset])\n",
    "y_train_undersampled = pd.concat([y_train[y_train['label']!='none'], y_train_none_subset])\n",
    "\n",
    "y_train_undersampled['label'].value_counts()\n"
   ]
  },
  {
   "cell_type": "code",
   "execution_count": 531,
   "metadata": {},
   "outputs": [],
   "source": [
    "random_forest = RandomForestClassifier(n_estimators=90, max_depth=8, random_state=1).fit(X_train_undersampled, y_train_undersampled)\n",
    "y_pred = random_forest.predict(X_test)"
   ]
  },
  {
   "cell_type": "code",
   "execution_count": 532,
   "metadata": {},
   "outputs": [
    {
     "name": "stdout",
     "output_type": "stream",
     "text": [
      "Accuracy score: 0.9515725020873922\n",
      "Recall score: 0.36688832776369357\n",
      "              precision    recall  f1-score   support\n",
      "\n",
      "      Center       1.00      0.17      0.30        23\n",
      "       Donut       0.00      0.00      0.00         1\n",
      "    Edge-Loc       0.76      0.30      0.43        74\n",
      "   Edge-Ring       1.00      0.25      0.40         8\n",
      "         Loc       0.60      0.08      0.14        74\n",
      "   Near-full       1.00      1.00      1.00         4\n",
      "      Random       0.90      0.50      0.64        18\n",
      "     Scratch       0.00      0.00      0.00        18\n",
      "        none       0.95      1.00      0.98      3373\n",
      "\n",
      "    accuracy                           0.95      3593\n",
      "   macro avg       0.69      0.37      0.43      3593\n",
      "weighted avg       0.94      0.95      0.94      3593\n",
      "\n"
     ]
    }
   ],
   "source": [
    "print('Accuracy score: ' + str(accuracy_score(y_test['label'], y_pred)))\n",
    "print('Recall score: ' + str(recall_score(y_test['label'], y_pred, average='macro')))\n",
    "print(classification_report(y_test['label'], y_pred))"
   ]
  },
  {
   "cell_type": "code",
   "execution_count": 533,
   "metadata": {},
   "outputs": [
    {
     "name": "stdout",
     "output_type": "stream",
     "text": [
      "Confusion matrix:\n",
      " [[3372    0    0    0    0    0    1    0    0]\n",
      " [   3    2    3    0    0    0    0    0    0]\n",
      " [  52    0   22    0    0    0    0    0    0]\n",
      " [  18    0    0    0    0    0    0    0    0]\n",
      " [   2    0    4    0    9    0    3    0    0]\n",
      " [  19    0    0    0    0    4    0    0    0]\n",
      " [  68    0    0    0    0    0    6    0    0]\n",
      " [   0    0    0    0    0    0    0    4    0]\n",
      " [   0    0    0    0    1    0    0    0    0]]\n"
     ]
    },
    {
     "data": {
      "image/png": "[encoded data removed]",
      "text/plain": [
       "<Figure size 640x480 with 2 Axes>"
      ]
     },
     "metadata": {},
     "output_type": "display_data"
    }
   ],
   "source": [
    "draw_confusion_matrix(y_test['label'], y_pred, labels)"
   ]
  },
  {
   "cell_type": "markdown",
   "metadata": {},
   "source": [
    "It seems like undersampling performs worse with the chosen parameters."
   ]
  },
  {
   "cell_type": "markdown",
   "metadata": {},
   "source": [
    "### Using Xgboost"
   ]
  },
  {
   "cell_type": "code",
   "execution_count": 534,
   "metadata": {},
   "outputs": [],
   "source": [
    "label_encoder = LabelEncoder()\n",
    "labels['label_encoded'] = label_encoder.fit_transform(labels['label'])"
   ]
  },
  {
   "cell_type": "code",
   "execution_count": 535,
   "metadata": {},
   "outputs": [
    {
     "data": {
      "text/html": [
       "<div>\n",
       "<style scoped>\n",
       "    .dataframe tbody tr th:only-of-type {\n",
       "        vertical-align: middle;\n",
       "    }\n",
       "\n",
       "    .dataframe tbody tr th {\n",
       "        vertical-align: top;\n",
       "    }\n",
       "\n",
       "    .dataframe thead th {\n",
       "        text-align: right;\n",
       "    }\n",
       "</style>\n",
       "<table border=\"1\" class=\"dataframe\">\n",
       "  <thead>\n",
       "    <tr style=\"text-align: right;\">\n",
       "      <th></th>\n",
       "      <th>label</th>\n",
       "      <th>label_encoded</th>\n",
       "    </tr>\n",
       "  </thead>\n",
       "  <tbody>\n",
       "    <tr>\n",
       "      <th>0</th>\n",
       "      <td>none</td>\n",
       "      <td>8</td>\n",
       "    </tr>\n",
       "    <tr>\n",
       "      <th>1</th>\n",
       "      <td>none</td>\n",
       "      <td>8</td>\n",
       "    </tr>\n",
       "    <tr>\n",
       "      <th>2</th>\n",
       "      <td>none</td>\n",
       "      <td>8</td>\n",
       "    </tr>\n",
       "    <tr>\n",
       "      <th>3</th>\n",
       "      <td>none</td>\n",
       "      <td>8</td>\n",
       "    </tr>\n",
       "    <tr>\n",
       "      <th>4</th>\n",
       "      <td>none</td>\n",
       "      <td>8</td>\n",
       "    </tr>\n",
       "    <tr>\n",
       "      <th>...</th>\n",
       "      <td>...</td>\n",
       "      <td>...</td>\n",
       "    </tr>\n",
       "    <tr>\n",
       "      <th>14365</th>\n",
       "      <td>none</td>\n",
       "      <td>8</td>\n",
       "    </tr>\n",
       "    <tr>\n",
       "      <th>14366</th>\n",
       "      <td>Donut</td>\n",
       "      <td>1</td>\n",
       "    </tr>\n",
       "    <tr>\n",
       "      <th>14367</th>\n",
       "      <td>Donut</td>\n",
       "      <td>1</td>\n",
       "    </tr>\n",
       "    <tr>\n",
       "      <th>14368</th>\n",
       "      <td>Donut</td>\n",
       "      <td>1</td>\n",
       "    </tr>\n",
       "    <tr>\n",
       "      <th>14369</th>\n",
       "      <td>Donut</td>\n",
       "      <td>1</td>\n",
       "    </tr>\n",
       "  </tbody>\n",
       "</table>\n",
       "<p>14370 rows × 2 columns</p>\n",
       "</div>"
      ],
      "text/plain": [
       "       label  label_encoded\n",
       "0       none              8\n",
       "1       none              8\n",
       "2       none              8\n",
       "3       none              8\n",
       "4       none              8\n",
       "...      ...            ...\n",
       "14365   none              8\n",
       "14366  Donut              1\n",
       "14367  Donut              1\n",
       "14368  Donut              1\n",
       "14369  Donut              1\n",
       "\n",
       "[14370 rows x 2 columns]"
      ]
     },
     "execution_count": 535,
     "metadata": {},
     "output_type": "execute_result"
    }
   ],
   "source": [
    "labels"
   ]
  },
  {
   "cell_type": "code",
   "execution_count": 536,
   "metadata": {},
   "outputs": [],
   "source": [
    "X_train, X_test, y_train, y_test = train_test_split(X, labels['label_encoded'], test_size = 0.25, stratify=labels['label_encoded'])"
   ]
  },
  {
   "cell_type": "code",
   "execution_count": 537,
   "metadata": {},
   "outputs": [],
   "source": [
    "from xgboost import XGBClassifier"
   ]
  },
  {
   "cell_type": "code",
   "execution_count": 538,
   "metadata": {},
   "outputs": [],
   "source": [
    "model = XGBClassifier(n_estimators=100, max_depth=10,objective='multi:softprob')"
   ]
  },
  {
   "cell_type": "code",
   "execution_count": 245,
   "metadata": {},
   "outputs": [
    {
     "data": {
      "text/html": [
       "<style>#sk-container-id-4 {color: black;}#sk-container-id-4 pre{padding: 0;}#sk-container-id-4 div.sk-toggleable {background-color: white;}#sk-container-id-4 label.sk-toggleable__label {cursor: pointer;display: block;width: 100%;margin-bottom: 0;padding: 0.3em;box-sizing: border-box;text-align: center;}#sk-container-id-4 label.sk-toggleable__label-arrow:before {content: \"▸\";float: left;margin-right: 0.25em;color: #696969;}#sk-container-id-4 label.sk-toggleable__label-arrow:hover:before {color: black;}#sk-container-id-4 div.sk-estimator:hover label.sk-toggleable__label-arrow:before {color: black;}#sk-container-id-4 div.sk-toggleable__content {max-height: 0;max-width: 0;overflow: hidden;text-align: left;background-color: #f0f8ff;}#sk-container-id-4 div.sk-toggleable__content pre {margin: 0.2em;color: black;border-radius: 0.25em;background-color: #f0f8ff;}#sk-container-id-4 input.sk-toggleable__control:checked~div.sk-toggleable__content {max-height: 200px;max-width: 100%;overflow: auto;}#sk-container-id-4 input.sk-toggleable__control:checked~label.sk-toggleable__label-arrow:before {content: \"▾\";}#sk-container-id-4 div.sk-estimator input.sk-toggleable__control:checked~label.sk-toggleable__label {background-color: #d4ebff;}#sk-container-id-4 div.sk-label input.sk-toggleable__control:checked~label.sk-toggleable__label {background-color: #d4ebff;}#sk-container-id-4 input.sk-hidden--visually {border: 0;clip: rect(1px 1px 1px 1px);clip: rect(1px, 1px, 1px, 1px);height: 1px;margin: -1px;overflow: hidden;padding: 0;position: absolute;width: 1px;}#sk-container-id-4 div.sk-estimator {font-family: monospace;background-color: #f0f8ff;border: 1px dotted black;border-radius: 0.25em;box-sizing: border-box;margin-bottom: 0.5em;}#sk-container-id-4 div.sk-estimator:hover {background-color: #d4ebff;}#sk-container-id-4 div.sk-parallel-item::after {content: \"\";width: 100%;border-bottom: 1px solid gray;flex-grow: 1;}#sk-container-id-4 div.sk-label:hover label.sk-toggleable__label {background-color: #d4ebff;}#sk-container-id-4 div.sk-serial::before {content: \"\";position: absolute;border-left: 1px solid gray;box-sizing: border-box;top: 0;bottom: 0;left: 50%;z-index: 0;}#sk-container-id-4 div.sk-serial {display: flex;flex-direction: column;align-items: center;background-color: white;padding-right: 0.2em;padding-left: 0.2em;position: relative;}#sk-container-id-4 div.sk-item {position: relative;z-index: 1;}#sk-container-id-4 div.sk-parallel {display: flex;align-items: stretch;justify-content: center;background-color: white;position: relative;}#sk-container-id-4 div.sk-item::before, #sk-container-id-4 div.sk-parallel-item::before {content: \"\";position: absolute;border-left: 1px solid gray;box-sizing: border-box;top: 0;bottom: 0;left: 50%;z-index: -1;}#sk-container-id-4 div.sk-parallel-item {display: flex;flex-direction: column;z-index: 1;position: relative;background-color: white;}#sk-container-id-4 div.sk-parallel-item:first-child::after {align-self: flex-end;width: 50%;}#sk-container-id-4 div.sk-parallel-item:last-child::after {align-self: flex-start;width: 50%;}#sk-container-id-4 div.sk-parallel-item:only-child::after {width: 0;}#sk-container-id-4 div.sk-dashed-wrapped {border: 1px dashed gray;margin: 0 0.4em 0.5em 0.4em;box-sizing: border-box;padding-bottom: 0.4em;background-color: white;}#sk-container-id-4 div.sk-label label {font-family: monospace;font-weight: bold;display: inline-block;line-height: 1.2em;}#sk-container-id-4 div.sk-label-container {text-align: center;}#sk-container-id-4 div.sk-container {/* jupyter's `normalize.less` sets `[hidden] { display: none; }` but bootstrap.min.css set `[hidden] { display: none !important; }` so we also need the `!important` here to be able to override the default hidden behavior on the sphinx rendered scikit-learn.org. See: https://github.com/scikit-learn/scikit-learn/issues/21755 */display: inline-block !important;position: relative;}#sk-container-id-4 div.sk-text-repr-fallback {display: none;}</style><div id=\"sk-container-id-4\" class=\"sk-top-container\"><div class=\"sk-text-repr-fallback\"><pre>XGBClassifier(base_score=None, booster=None, callbacks=None,\n",
       "              colsample_bylevel=None, colsample_bynode=None,\n",
       "              colsample_bytree=None, device=None, early_stopping_rounds=None,\n",
       "              enable_categorical=False, eval_metric=None, feature_types=None,\n",
       "              gamma=None, grow_policy=None, importance_type=None,\n",
       "              interaction_constraints=None, learning_rate=None, max_bin=None,\n",
       "              max_cat_threshold=None, max_cat_to_onehot=None,\n",
       "              max_delta_step=None, max_depth=10, max_leaves=None,\n",
       "              min_child_weight=None, missing=nan, monotone_constraints=None,\n",
       "              multi_strategy=None, n_estimators=100, n_jobs=None,\n",
       "              num_parallel_tree=None, objective=&#x27;multi:softprob&#x27;, ...)</pre><b>In a Jupyter environment, please rerun this cell to show the HTML representation or trust the notebook. <br />On GitHub, the HTML representation is unable to render, please try loading this page with nbviewer.org.</b></div><div class=\"sk-container\" hidden><div class=\"sk-item\"><div class=\"sk-estimator sk-toggleable\"><input class=\"sk-toggleable__control sk-hidden--visually\" id=\"sk-estimator-id-4\" type=\"checkbox\" checked><label for=\"sk-estimator-id-4\" class=\"sk-toggleable__label sk-toggleable__label-arrow\">XGBClassifier</label><div class=\"sk-toggleable__content\"><pre>XGBClassifier(base_score=None, booster=None, callbacks=None,\n",
       "              colsample_bylevel=None, colsample_bynode=None,\n",
       "              colsample_bytree=None, device=None, early_stopping_rounds=None,\n",
       "              enable_categorical=False, eval_metric=None, feature_types=None,\n",
       "              gamma=None, grow_policy=None, importance_type=None,\n",
       "              interaction_constraints=None, learning_rate=None, max_bin=None,\n",
       "              max_cat_threshold=None, max_cat_to_onehot=None,\n",
       "              max_delta_step=None, max_depth=10, max_leaves=None,\n",
       "              min_child_weight=None, missing=nan, monotone_constraints=None,\n",
       "              multi_strategy=None, n_estimators=100, n_jobs=None,\n",
       "              num_parallel_tree=None, objective=&#x27;multi:softprob&#x27;, ...)</pre></div></div></div></div></div>"
      ],
      "text/plain": [
       "XGBClassifier(base_score=None, booster=None, callbacks=None,\n",
       "              colsample_bylevel=None, colsample_bynode=None,\n",
       "              colsample_bytree=None, device=None, early_stopping_rounds=None,\n",
       "              enable_categorical=False, eval_metric=None, feature_types=None,\n",
       "              gamma=None, grow_policy=None, importance_type=None,\n",
       "              interaction_constraints=None, learning_rate=None, max_bin=None,\n",
       "              max_cat_threshold=None, max_cat_to_onehot=None,\n",
       "              max_delta_step=None, max_depth=10, max_leaves=None,\n",
       "              min_child_weight=None, missing=nan, monotone_constraints=None,\n",
       "              multi_strategy=None, n_estimators=100, n_jobs=None,\n",
       "              num_parallel_tree=None, objective='multi:softprob', ...)"
      ]
     },
     "execution_count": 245,
     "metadata": {},
     "output_type": "execute_result"
    }
   ],
   "source": [
    "model.fit(X_train, y_train)"
   ]
  },
  {
   "cell_type": "code",
   "execution_count": 246,
   "metadata": {},
   "outputs": [
    {
     "name": "stdout",
     "output_type": "stream",
     "text": [
      "Accuracy score: 0.960200389646535\n",
      "Recall score: 0.6148893525879137\n",
      "              precision    recall  f1-score   support\n",
      "\n",
      "           0       0.55      0.26      0.35        23\n",
      "           1       1.00      1.00      1.00         1\n",
      "           2       0.83      0.47      0.60        74\n",
      "           3       1.00      0.75      0.86         8\n",
      "           4       0.86      0.16      0.27        74\n",
      "           5       1.00      1.00      1.00         4\n",
      "           6       1.00      0.67      0.80        18\n",
      "           7       1.00      0.22      0.36        18\n",
      "           8       0.96      1.00      0.98      3373\n",
      "\n",
      "    accuracy                           0.96      3593\n",
      "   macro avg       0.91      0.61      0.69      3593\n",
      "weighted avg       0.96      0.96      0.95      3593\n",
      "\n"
     ]
    }
   ],
   "source": [
    "y_pred = model.predict(X_test)\n",
    "print('Accuracy score: ' + str(accuracy_score(y_test, y_pred)))\n",
    "print('Recall score: ' + str(recall_score(y_test, y_pred, average='macro')))\n",
    "print(classification_report(y_test, y_pred))"
   ]
  },
  {
   "cell_type": "markdown",
   "metadata": {},
   "source": [
    "##### Using GridSearchCV and RandomSearchCV"
   ]
  },
  {
   "cell_type": "markdown",
   "metadata": {},
   "source": [
    "The performance of the XGBClassifier showcased promising results in our initial evaluation. To further enhance its efficiency and fine-tune the model's performance, our next step involves employing advanced techniques such as RandomizedSearchCV and GridSearchCV. These methods delve deeper into exploring a spectrum of hyperparameters, aiming to optimize the classifier's configuration."
   ]
  },
  {
   "cell_type": "code",
   "execution_count": 81,
   "metadata": {},
   "outputs": [],
   "source": [
    "from sklearn.model_selection import GridSearchCV, RepeatedStratifiedKFold, RandomizedSearchCV"
   ]
  },
  {
   "cell_type": "code",
   "execution_count": 85,
   "metadata": {},
   "outputs": [],
   "source": [
    "model = XGBClassifier(objective='multi:softprob')\n",
    "cv = RepeatedStratifiedKFold(n_splits=2, n_repeats=3)\n",
    "space = {'n_estimators': [50, 100, 150, 200], 'max_depth': [5, 10, 15, 20, 25], 'learning_rate': [1, 0.1, 0.01]}\n",
    "search = RandomizedSearchCV(model, space, n_iter=30, scoring='f1_macro', n_jobs=-1, cv=cv)\n",
    "result = search.fit(X_train, y_train)"
   ]
  },
  {
   "cell_type": "code",
   "execution_count": 91,
   "metadata": {},
   "outputs": [
    {
     "name": "stdout",
     "output_type": "stream",
     "text": [
      "Best Hyperparameters: {'n_estimators': 200, 'max_depth': 10, 'learning_rate': 0.1}\n"
     ]
    }
   ],
   "source": [
    "print('Best Hyperparameters: %s' % result.best_params_)"
   ]
  },
  {
   "cell_type": "code",
   "execution_count": 88,
   "metadata": {},
   "outputs": [],
   "source": [
    "model = XGBClassifier(n_estimators=200, max_depth=10, learninig_rate=0.1 ,objective='multi:softprob')"
   ]
  },
  {
   "cell_type": "code",
   "execution_count": 89,
   "metadata": {},
   "outputs": [
    {
     "data": {
      "text/html": [
       "<style>#sk-container-id-1 {color: black;}#sk-container-id-1 pre{padding: 0;}#sk-container-id-1 div.sk-toggleable {background-color: white;}#sk-container-id-1 label.sk-toggleable__label {cursor: pointer;display: block;width: 100%;margin-bottom: 0;padding: 0.3em;box-sizing: border-box;text-align: center;}#sk-container-id-1 label.sk-toggleable__label-arrow:before {content: \"▸\";float: left;margin-right: 0.25em;color: #696969;}#sk-container-id-1 label.sk-toggleable__label-arrow:hover:before {color: black;}#sk-container-id-1 div.sk-estimator:hover label.sk-toggleable__label-arrow:before {color: black;}#sk-container-id-1 div.sk-toggleable__content {max-height: 0;max-width: 0;overflow: hidden;text-align: left;background-color: #f0f8ff;}#sk-container-id-1 div.sk-toggleable__content pre {margin: 0.2em;color: black;border-radius: 0.25em;background-color: #f0f8ff;}#sk-container-id-1 input.sk-toggleable__control:checked~div.sk-toggleable__content {max-height: 200px;max-width: 100%;overflow: auto;}#sk-container-id-1 input.sk-toggleable__control:checked~label.sk-toggleable__label-arrow:before {content: \"▾\";}#sk-container-id-1 div.sk-estimator input.sk-toggleable__control:checked~label.sk-toggleable__label {background-color: #d4ebff;}#sk-container-id-1 div.sk-label input.sk-toggleable__control:checked~label.sk-toggleable__label {background-color: #d4ebff;}#sk-container-id-1 input.sk-hidden--visually {border: 0;clip: rect(1px 1px 1px 1px);clip: rect(1px, 1px, 1px, 1px);height: 1px;margin: -1px;overflow: hidden;padding: 0;position: absolute;width: 1px;}#sk-container-id-1 div.sk-estimator {font-family: monospace;background-color: #f0f8ff;border: 1px dotted black;border-radius: 0.25em;box-sizing: border-box;margin-bottom: 0.5em;}#sk-container-id-1 div.sk-estimator:hover {background-color: #d4ebff;}#sk-container-id-1 div.sk-parallel-item::after {content: \"\";width: 100%;border-bottom: 1px solid gray;flex-grow: 1;}#sk-container-id-1 div.sk-label:hover label.sk-toggleable__label {background-color: #d4ebff;}#sk-container-id-1 div.sk-serial::before {content: \"\";position: absolute;border-left: 1px solid gray;box-sizing: border-box;top: 0;bottom: 0;left: 50%;z-index: 0;}#sk-container-id-1 div.sk-serial {display: flex;flex-direction: column;align-items: center;background-color: white;padding-right: 0.2em;padding-left: 0.2em;position: relative;}#sk-container-id-1 div.sk-item {position: relative;z-index: 1;}#sk-container-id-1 div.sk-parallel {display: flex;align-items: stretch;justify-content: center;background-color: white;position: relative;}#sk-container-id-1 div.sk-item::before, #sk-container-id-1 div.sk-parallel-item::before {content: \"\";position: absolute;border-left: 1px solid gray;box-sizing: border-box;top: 0;bottom: 0;left: 50%;z-index: -1;}#sk-container-id-1 div.sk-parallel-item {display: flex;flex-direction: column;z-index: 1;position: relative;background-color: white;}#sk-container-id-1 div.sk-parallel-item:first-child::after {align-self: flex-end;width: 50%;}#sk-container-id-1 div.sk-parallel-item:last-child::after {align-self: flex-start;width: 50%;}#sk-container-id-1 div.sk-parallel-item:only-child::after {width: 0;}#sk-container-id-1 div.sk-dashed-wrapped {border: 1px dashed gray;margin: 0 0.4em 0.5em 0.4em;box-sizing: border-box;padding-bottom: 0.4em;background-color: white;}#sk-container-id-1 div.sk-label label {font-family: monospace;font-weight: bold;display: inline-block;line-height: 1.2em;}#sk-container-id-1 div.sk-label-container {text-align: center;}#sk-container-id-1 div.sk-container {/* jupyter's `normalize.less` sets `[hidden] { display: none; }` but bootstrap.min.css set `[hidden] { display: none !important; }` so we also need the `!important` here to be able to override the default hidden behavior on the sphinx rendered scikit-learn.org. See: https://github.com/scikit-learn/scikit-learn/issues/21755 */display: inline-block !important;position: relative;}#sk-container-id-1 div.sk-text-repr-fallback {display: none;}</style><div id=\"sk-container-id-1\" class=\"sk-top-container\"><div class=\"sk-text-repr-fallback\"><pre>XGBClassifier(base_score=None, booster=None, callbacks=None,\n",
       "              colsample_bylevel=None, colsample_bynode=None,\n",
       "              colsample_bytree=None, device=None, early_stopping_rounds=None,\n",
       "              enable_categorical=False, eval_metric=None, feature_types=None,\n",
       "              gamma=None, grow_policy=None, importance_type=None,\n",
       "              interaction_constraints=None, learning_rate=None,\n",
       "              learninig_rate=0.1, max_bin=None, max_cat_threshold=None,\n",
       "              max_cat_to_onehot=None, max_delta_step=None, max_depth=10,\n",
       "              max_leaves=None, min_child_weight=None, missing=nan,\n",
       "              monotone_constraints=None, multi_strategy=None, n_estimators=200,\n",
       "              n_jobs=None, num_parallel_tree=None, ...)</pre><b>In a Jupyter environment, please rerun this cell to show the HTML representation or trust the notebook. <br />On GitHub, the HTML representation is unable to render, please try loading this page with nbviewer.org.</b></div><div class=\"sk-container\" hidden><div class=\"sk-item\"><div class=\"sk-estimator sk-toggleable\"><input class=\"sk-toggleable__control sk-hidden--visually\" id=\"sk-estimator-id-1\" type=\"checkbox\" checked><label for=\"sk-estimator-id-1\" class=\"sk-toggleable__label sk-toggleable__label-arrow\">XGBClassifier</label><div class=\"sk-toggleable__content\"><pre>XGBClassifier(base_score=None, booster=None, callbacks=None,\n",
       "              colsample_bylevel=None, colsample_bynode=None,\n",
       "              colsample_bytree=None, device=None, early_stopping_rounds=None,\n",
       "              enable_categorical=False, eval_metric=None, feature_types=None,\n",
       "              gamma=None, grow_policy=None, importance_type=None,\n",
       "              interaction_constraints=None, learning_rate=None,\n",
       "              learninig_rate=0.1, max_bin=None, max_cat_threshold=None,\n",
       "              max_cat_to_onehot=None, max_delta_step=None, max_depth=10,\n",
       "              max_leaves=None, min_child_weight=None, missing=nan,\n",
       "              monotone_constraints=None, multi_strategy=None, n_estimators=200,\n",
       "              n_jobs=None, num_parallel_tree=None, ...)</pre></div></div></div></div></div>"
      ],
      "text/plain": [
       "XGBClassifier(base_score=None, booster=None, callbacks=None,\n",
       "              colsample_bylevel=None, colsample_bynode=None,\n",
       "              colsample_bytree=None, device=None, early_stopping_rounds=None,\n",
       "              enable_categorical=False, eval_metric=None, feature_types=None,\n",
       "              gamma=None, grow_policy=None, importance_type=None,\n",
       "              interaction_constraints=None, learning_rate=None,\n",
       "              learninig_rate=0.1, max_bin=None, max_cat_threshold=None,\n",
       "              max_cat_to_onehot=None, max_delta_step=None, max_depth=10,\n",
       "              max_leaves=None, min_child_weight=None, missing=nan,\n",
       "              monotone_constraints=None, multi_strategy=None, n_estimators=200,\n",
       "              n_jobs=None, num_parallel_tree=None, ...)"
      ]
     },
     "execution_count": 89,
     "metadata": {},
     "output_type": "execute_result"
    }
   ],
   "source": [
    "model.fit(X_train, y_train)"
   ]
  },
  {
   "cell_type": "code",
   "execution_count": 90,
   "metadata": {},
   "outputs": [
    {
     "name": "stdout",
     "output_type": "stream",
     "text": [
      "Accuracy score: 0.9576955190648483\n",
      "Recall score: 0.5751325041296125\n",
      "              precision    recall  f1-score   support\n",
      "\n",
      "           0       1.00      0.26      0.41        23\n",
      "           1       1.00      1.00      1.00         1\n",
      "           2       0.93      0.35      0.51        74\n",
      "           3       1.00      0.50      0.67         8\n",
      "           4       0.72      0.18      0.28        74\n",
      "           5       1.00      1.00      1.00         4\n",
      "           6       0.79      0.61      0.69        18\n",
      "           7       1.00      0.28      0.43        18\n",
      "           8       0.96      1.00      0.98      3373\n",
      "\n",
      "    accuracy                           0.96      3593\n",
      "   macro avg       0.93      0.58      0.66      3593\n",
      "weighted avg       0.95      0.96      0.95      3593\n",
      "\n"
     ]
    }
   ],
   "source": [
    "y_pred = model.predict(X_test)\n",
    "print('Accuracy score: ' + str(accuracy_score(y_test, y_pred)))\n",
    "print('Recall score: ' + str(recall_score(y_test, y_pred, average='macro')))\n",
    "print(classification_report(y_test, y_pred))"
   ]
  },
  {
   "cell_type": "code",
   "execution_count": 92,
   "metadata": {},
   "outputs": [],
   "source": [
    "# we use GridSearch with CrossValidation to evaluate the model\n",
    "cv = RepeatedStratifiedKFold(n_splits=3, n_repeats=3, random_state=1,)\n",
    "space = {'n_estimators': [90, 110, 150, 200, 300], 'max_depth': [5, 10, 15, 20], 'learning_rate': [0.01, 0.1, 1]}\n",
    "search = GridSearchCV(model, space, scoring='f1', n_jobs=-1, cv=cv)\n",
    "result = search.fit(X_train, y_train)"
   ]
  },
  {
   "cell_type": "code",
   "execution_count": 93,
   "metadata": {},
   "outputs": [
    {
     "name": "stdout",
     "output_type": "stream",
     "text": [
      "Best Hyperparameters: {'learning_rate': 0.01, 'max_depth': 5, 'n_estimators': 90}\n"
     ]
    }
   ],
   "source": [
    "print('Best Hyperparameters: %s' % result.best_params_)"
   ]
  },
  {
   "cell_type": "code",
   "execution_count": 94,
   "metadata": {},
   "outputs": [],
   "source": [
    "model = XGBClassifier(n_estimators=90, max_depth=5, learninig_rate=0.01 ,objective='multi:softprob')"
   ]
  },
  {
   "cell_type": "code",
   "execution_count": 96,
   "metadata": {},
   "outputs": [
    {
     "data": {
      "text/html": [
       "<style>#sk-container-id-3 {color: black;}#sk-container-id-3 pre{padding: 0;}#sk-container-id-3 div.sk-toggleable {background-color: white;}#sk-container-id-3 label.sk-toggleable__label {cursor: pointer;display: block;width: 100%;margin-bottom: 0;padding: 0.3em;box-sizing: border-box;text-align: center;}#sk-container-id-3 label.sk-toggleable__label-arrow:before {content: \"▸\";float: left;margin-right: 0.25em;color: #696969;}#sk-container-id-3 label.sk-toggleable__label-arrow:hover:before {color: black;}#sk-container-id-3 div.sk-estimator:hover label.sk-toggleable__label-arrow:before {color: black;}#sk-container-id-3 div.sk-toggleable__content {max-height: 0;max-width: 0;overflow: hidden;text-align: left;background-color: #f0f8ff;}#sk-container-id-3 div.sk-toggleable__content pre {margin: 0.2em;color: black;border-radius: 0.25em;background-color: #f0f8ff;}#sk-container-id-3 input.sk-toggleable__control:checked~div.sk-toggleable__content {max-height: 200px;max-width: 100%;overflow: auto;}#sk-container-id-3 input.sk-toggleable__control:checked~label.sk-toggleable__label-arrow:before {content: \"▾\";}#sk-container-id-3 div.sk-estimator input.sk-toggleable__control:checked~label.sk-toggleable__label {background-color: #d4ebff;}#sk-container-id-3 div.sk-label input.sk-toggleable__control:checked~label.sk-toggleable__label {background-color: #d4ebff;}#sk-container-id-3 input.sk-hidden--visually {border: 0;clip: rect(1px 1px 1px 1px);clip: rect(1px, 1px, 1px, 1px);height: 1px;margin: -1px;overflow: hidden;padding: 0;position: absolute;width: 1px;}#sk-container-id-3 div.sk-estimator {font-family: monospace;background-color: #f0f8ff;border: 1px dotted black;border-radius: 0.25em;box-sizing: border-box;margin-bottom: 0.5em;}#sk-container-id-3 div.sk-estimator:hover {background-color: #d4ebff;}#sk-container-id-3 div.sk-parallel-item::after {content: \"\";width: 100%;border-bottom: 1px solid gray;flex-grow: 1;}#sk-container-id-3 div.sk-label:hover label.sk-toggleable__label {background-color: #d4ebff;}#sk-container-id-3 div.sk-serial::before {content: \"\";position: absolute;border-left: 1px solid gray;box-sizing: border-box;top: 0;bottom: 0;left: 50%;z-index: 0;}#sk-container-id-3 div.sk-serial {display: flex;flex-direction: column;align-items: center;background-color: white;padding-right: 0.2em;padding-left: 0.2em;position: relative;}#sk-container-id-3 div.sk-item {position: relative;z-index: 1;}#sk-container-id-3 div.sk-parallel {display: flex;align-items: stretch;justify-content: center;background-color: white;position: relative;}#sk-container-id-3 div.sk-item::before, #sk-container-id-3 div.sk-parallel-item::before {content: \"\";position: absolute;border-left: 1px solid gray;box-sizing: border-box;top: 0;bottom: 0;left: 50%;z-index: -1;}#sk-container-id-3 div.sk-parallel-item {display: flex;flex-direction: column;z-index: 1;position: relative;background-color: white;}#sk-container-id-3 div.sk-parallel-item:first-child::after {align-self: flex-end;width: 50%;}#sk-container-id-3 div.sk-parallel-item:last-child::after {align-self: flex-start;width: 50%;}#sk-container-id-3 div.sk-parallel-item:only-child::after {width: 0;}#sk-container-id-3 div.sk-dashed-wrapped {border: 1px dashed gray;margin: 0 0.4em 0.5em 0.4em;box-sizing: border-box;padding-bottom: 0.4em;background-color: white;}#sk-container-id-3 div.sk-label label {font-family: monospace;font-weight: bold;display: inline-block;line-height: 1.2em;}#sk-container-id-3 div.sk-label-container {text-align: center;}#sk-container-id-3 div.sk-container {/* jupyter's `normalize.less` sets `[hidden] { display: none; }` but bootstrap.min.css set `[hidden] { display: none !important; }` so we also need the `!important` here to be able to override the default hidden behavior on the sphinx rendered scikit-learn.org. See: https://github.com/scikit-learn/scikit-learn/issues/21755 */display: inline-block !important;position: relative;}#sk-container-id-3 div.sk-text-repr-fallback {display: none;}</style><div id=\"sk-container-id-3\" class=\"sk-top-container\"><div class=\"sk-text-repr-fallback\"><pre>XGBClassifier(base_score=None, booster=None, callbacks=None,\n",
       "              colsample_bylevel=None, colsample_bynode=None,\n",
       "              colsample_bytree=None, device=None, early_stopping_rounds=None,\n",
       "              enable_categorical=False, eval_metric=None, feature_types=None,\n",
       "              gamma=None, grow_policy=None, importance_type=None,\n",
       "              interaction_constraints=None, learning_rate=None,\n",
       "              learninig_rate=0.01, max_bin=None, max_cat_threshold=None,\n",
       "              max_cat_to_onehot=None, max_delta_step=None, max_depth=5,\n",
       "              max_leaves=None, min_child_weight=None, missing=nan,\n",
       "              monotone_constraints=None, multi_strategy=None, n_estimators=90,\n",
       "              n_jobs=None, num_parallel_tree=None, ...)</pre><b>In a Jupyter environment, please rerun this cell to show the HTML representation or trust the notebook. <br />On GitHub, the HTML representation is unable to render, please try loading this page with nbviewer.org.</b></div><div class=\"sk-container\" hidden><div class=\"sk-item\"><div class=\"sk-estimator sk-toggleable\"><input class=\"sk-toggleable__control sk-hidden--visually\" id=\"sk-estimator-id-3\" type=\"checkbox\" checked><label for=\"sk-estimator-id-3\" class=\"sk-toggleable__label sk-toggleable__label-arrow\">XGBClassifier</label><div class=\"sk-toggleable__content\"><pre>XGBClassifier(base_score=None, booster=None, callbacks=None,\n",
       "              colsample_bylevel=None, colsample_bynode=None,\n",
       "              colsample_bytree=None, device=None, early_stopping_rounds=None,\n",
       "              enable_categorical=False, eval_metric=None, feature_types=None,\n",
       "              gamma=None, grow_policy=None, importance_type=None,\n",
       "              interaction_constraints=None, learning_rate=None,\n",
       "              learninig_rate=0.01, max_bin=None, max_cat_threshold=None,\n",
       "              max_cat_to_onehot=None, max_delta_step=None, max_depth=5,\n",
       "              max_leaves=None, min_child_weight=None, missing=nan,\n",
       "              monotone_constraints=None, multi_strategy=None, n_estimators=90,\n",
       "              n_jobs=None, num_parallel_tree=None, ...)</pre></div></div></div></div></div>"
      ],
      "text/plain": [
       "XGBClassifier(base_score=None, booster=None, callbacks=None,\n",
       "              colsample_bylevel=None, colsample_bynode=None,\n",
       "              colsample_bytree=None, device=None, early_stopping_rounds=None,\n",
       "              enable_categorical=False, eval_metric=None, feature_types=None,\n",
       "              gamma=None, grow_policy=None, importance_type=None,\n",
       "              interaction_constraints=None, learning_rate=None,\n",
       "              learninig_rate=0.01, max_bin=None, max_cat_threshold=None,\n",
       "              max_cat_to_onehot=None, max_delta_step=None, max_depth=5,\n",
       "              max_leaves=None, min_child_weight=None, missing=nan,\n",
       "              monotone_constraints=None, multi_strategy=None, n_estimators=90,\n",
       "              n_jobs=None, num_parallel_tree=None, ...)"
      ]
     },
     "execution_count": 96,
     "metadata": {},
     "output_type": "execute_result"
    }
   ],
   "source": [
    "model.fit(X_train, y_train)"
   ]
  },
  {
   "cell_type": "code",
   "execution_count": 97,
   "metadata": {},
   "outputs": [
    {
     "name": "stdout",
     "output_type": "stream",
     "text": [
      "Accuracy score: 0.9582521569718898\n",
      "Recall score: 0.5781355071326154\n",
      "              precision    recall  f1-score   support\n",
      "\n",
      "           0       0.75      0.26      0.39        23\n",
      "           1       1.00      1.00      1.00         1\n",
      "           2       0.93      0.35      0.51        74\n",
      "           3       1.00      0.50      0.67         8\n",
      "           4       0.83      0.20      0.33        74\n",
      "           5       1.00      1.00      1.00         4\n",
      "           6       0.79      0.61      0.69        18\n",
      "           7       1.00      0.28      0.43        18\n",
      "           8       0.96      1.00      0.98      3373\n",
      "\n",
      "    accuracy                           0.96      3593\n",
      "   macro avg       0.92      0.58      0.67      3593\n",
      "weighted avg       0.95      0.96      0.95      3593\n",
      "\n"
     ]
    }
   ],
   "source": [
    "y_pred = model.predict(X_test)\n",
    "print('Accuracy score: ' + str(accuracy_score(y_test, y_pred)))\n",
    "print('Recall score: ' + str(recall_score(y_test, y_pred, average='macro')))\n",
    "print(classification_report(y_test, y_pred))"
   ]
  },
  {
   "cell_type": "markdown",
   "metadata": {},
   "source": [
    "From our initial trials, it appears that the first set of hyperparameters we employed showcased superior performance compared to our subsequent iterations. However, in order to have better performance we need to run The GridSearchCV on many values, we will leave that for now as it takes a lot of time"
   ]
  },
  {
   "cell_type": "markdown",
   "metadata": {},
   "source": [
    "We try the same parameters with resampled data"
   ]
  },
  {
   "cell_type": "code",
   "execution_count": 539,
   "metadata": {},
   "outputs": [],
   "source": [
    "concat = pd.concat([X_train,y_train], axis=1)\n",
    "oversampled = make_resample(concat, 'label_encoded')"
   ]
  },
  {
   "cell_type": "code",
   "execution_count": 540,
   "metadata": {},
   "outputs": [
    {
     "data": {
      "text/plain": [
       "label_encoded\n",
       "0    10116\n",
       "2    10116\n",
       "4    10116\n",
       "7    10116\n",
       "3    10116\n",
       "5    10116\n",
       "6    10116\n",
       "1    10116\n",
       "8    10116\n",
       "Name: count, dtype: int64"
      ]
     },
     "execution_count": 540,
     "metadata": {},
     "output_type": "execute_result"
    }
   ],
   "source": [
    "oversampled.label_encoded.value_counts()"
   ]
  },
  {
   "cell_type": "code",
   "execution_count": 107,
   "metadata": {},
   "outputs": [
    {
     "data": {
      "text/html": [
       "<style>#sk-container-id-4 {color: black;}#sk-container-id-4 pre{padding: 0;}#sk-container-id-4 div.sk-toggleable {background-color: white;}#sk-container-id-4 label.sk-toggleable__label {cursor: pointer;display: block;width: 100%;margin-bottom: 0;padding: 0.3em;box-sizing: border-box;text-align: center;}#sk-container-id-4 label.sk-toggleable__label-arrow:before {content: \"▸\";float: left;margin-right: 0.25em;color: #696969;}#sk-container-id-4 label.sk-toggleable__label-arrow:hover:before {color: black;}#sk-container-id-4 div.sk-estimator:hover label.sk-toggleable__label-arrow:before {color: black;}#sk-container-id-4 div.sk-toggleable__content {max-height: 0;max-width: 0;overflow: hidden;text-align: left;background-color: #f0f8ff;}#sk-container-id-4 div.sk-toggleable__content pre {margin: 0.2em;color: black;border-radius: 0.25em;background-color: #f0f8ff;}#sk-container-id-4 input.sk-toggleable__control:checked~div.sk-toggleable__content {max-height: 200px;max-width: 100%;overflow: auto;}#sk-container-id-4 input.sk-toggleable__control:checked~label.sk-toggleable__label-arrow:before {content: \"▾\";}#sk-container-id-4 div.sk-estimator input.sk-toggleable__control:checked~label.sk-toggleable__label {background-color: #d4ebff;}#sk-container-id-4 div.sk-label input.sk-toggleable__control:checked~label.sk-toggleable__label {background-color: #d4ebff;}#sk-container-id-4 input.sk-hidden--visually {border: 0;clip: rect(1px 1px 1px 1px);clip: rect(1px, 1px, 1px, 1px);height: 1px;margin: -1px;overflow: hidden;padding: 0;position: absolute;width: 1px;}#sk-container-id-4 div.sk-estimator {font-family: monospace;background-color: #f0f8ff;border: 1px dotted black;border-radius: 0.25em;box-sizing: border-box;margin-bottom: 0.5em;}#sk-container-id-4 div.sk-estimator:hover {background-color: #d4ebff;}#sk-container-id-4 div.sk-parallel-item::after {content: \"\";width: 100%;border-bottom: 1px solid gray;flex-grow: 1;}#sk-container-id-4 div.sk-label:hover label.sk-toggleable__label {background-color: #d4ebff;}#sk-container-id-4 div.sk-serial::before {content: \"\";position: absolute;border-left: 1px solid gray;box-sizing: border-box;top: 0;bottom: 0;left: 50%;z-index: 0;}#sk-container-id-4 div.sk-serial {display: flex;flex-direction: column;align-items: center;background-color: white;padding-right: 0.2em;padding-left: 0.2em;position: relative;}#sk-container-id-4 div.sk-item {position: relative;z-index: 1;}#sk-container-id-4 div.sk-parallel {display: flex;align-items: stretch;justify-content: center;background-color: white;position: relative;}#sk-container-id-4 div.sk-item::before, #sk-container-id-4 div.sk-parallel-item::before {content: \"\";position: absolute;border-left: 1px solid gray;box-sizing: border-box;top: 0;bottom: 0;left: 50%;z-index: -1;}#sk-container-id-4 div.sk-parallel-item {display: flex;flex-direction: column;z-index: 1;position: relative;background-color: white;}#sk-container-id-4 div.sk-parallel-item:first-child::after {align-self: flex-end;width: 50%;}#sk-container-id-4 div.sk-parallel-item:last-child::after {align-self: flex-start;width: 50%;}#sk-container-id-4 div.sk-parallel-item:only-child::after {width: 0;}#sk-container-id-4 div.sk-dashed-wrapped {border: 1px dashed gray;margin: 0 0.4em 0.5em 0.4em;box-sizing: border-box;padding-bottom: 0.4em;background-color: white;}#sk-container-id-4 div.sk-label label {font-family: monospace;font-weight: bold;display: inline-block;line-height: 1.2em;}#sk-container-id-4 div.sk-label-container {text-align: center;}#sk-container-id-4 div.sk-container {/* jupyter's `normalize.less` sets `[hidden] { display: none; }` but bootstrap.min.css set `[hidden] { display: none !important; }` so we also need the `!important` here to be able to override the default hidden behavior on the sphinx rendered scikit-learn.org. See: https://github.com/scikit-learn/scikit-learn/issues/21755 */display: inline-block !important;position: relative;}#sk-container-id-4 div.sk-text-repr-fallback {display: none;}</style><div id=\"sk-container-id-4\" class=\"sk-top-container\"><div class=\"sk-text-repr-fallback\"><pre>XGBClassifier(base_score=None, booster=None, callbacks=None,\n",
       "              colsample_bylevel=None, colsample_bynode=None,\n",
       "              colsample_bytree=None, device=None, early_stopping_rounds=None,\n",
       "              enable_categorical=False, eval_metric=None, feature_types=None,\n",
       "              gamma=None, grow_policy=None, importance_type=None,\n",
       "              interaction_constraints=None, learning_rate=None,\n",
       "              learninig_rate=0.01, max_bin=None, max_cat_threshold=None,\n",
       "              max_cat_to_onehot=None, max_delta_step=None, max_depth=5,\n",
       "              max_leaves=None, min_child_weight=None, missing=nan,\n",
       "              monotone_constraints=None, multi_strategy=None, n_estimators=90,\n",
       "              n_jobs=None, num_parallel_tree=None, ...)</pre><b>In a Jupyter environment, please rerun this cell to show the HTML representation or trust the notebook. <br />On GitHub, the HTML representation is unable to render, please try loading this page with nbviewer.org.</b></div><div class=\"sk-container\" hidden><div class=\"sk-item\"><div class=\"sk-estimator sk-toggleable\"><input class=\"sk-toggleable__control sk-hidden--visually\" id=\"sk-estimator-id-4\" type=\"checkbox\" checked><label for=\"sk-estimator-id-4\" class=\"sk-toggleable__label sk-toggleable__label-arrow\">XGBClassifier</label><div class=\"sk-toggleable__content\"><pre>XGBClassifier(base_score=None, booster=None, callbacks=None,\n",
       "              colsample_bylevel=None, colsample_bynode=None,\n",
       "              colsample_bytree=None, device=None, early_stopping_rounds=None,\n",
       "              enable_categorical=False, eval_metric=None, feature_types=None,\n",
       "              gamma=None, grow_policy=None, importance_type=None,\n",
       "              interaction_constraints=None, learning_rate=None,\n",
       "              learninig_rate=0.01, max_bin=None, max_cat_threshold=None,\n",
       "              max_cat_to_onehot=None, max_delta_step=None, max_depth=5,\n",
       "              max_leaves=None, min_child_weight=None, missing=nan,\n",
       "              monotone_constraints=None, multi_strategy=None, n_estimators=90,\n",
       "              n_jobs=None, num_parallel_tree=None, ...)</pre></div></div></div></div></div>"
      ],
      "text/plain": [
       "XGBClassifier(base_score=None, booster=None, callbacks=None,\n",
       "              colsample_bylevel=None, colsample_bynode=None,\n",
       "              colsample_bytree=None, device=None, early_stopping_rounds=None,\n",
       "              enable_categorical=False, eval_metric=None, feature_types=None,\n",
       "              gamma=None, grow_policy=None, importance_type=None,\n",
       "              interaction_constraints=None, learning_rate=None,\n",
       "              learninig_rate=0.01, max_bin=None, max_cat_threshold=None,\n",
       "              max_cat_to_onehot=None, max_delta_step=None, max_depth=5,\n",
       "              max_leaves=None, min_child_weight=None, missing=nan,\n",
       "              monotone_constraints=None, multi_strategy=None, n_estimators=90,\n",
       "              n_jobs=None, num_parallel_tree=None, ...)"
      ]
     },
     "execution_count": 107,
     "metadata": {},
     "output_type": "execute_result"
    }
   ],
   "source": [
    "model.fit(oversampled.drop('label_encoded', axis=1), oversampled['label_encoded'])"
   ]
  },
  {
   "cell_type": "code",
   "execution_count": 108,
   "metadata": {},
   "outputs": [
    {
     "name": "stdout",
     "output_type": "stream",
     "text": [
      "Accuracy score: 0.9599220706930142\n",
      "Recall score: 0.5765850436256302\n",
      "              precision    recall  f1-score   support\n",
      "\n",
      "           0       1.00      0.30      0.47        23\n",
      "           1       1.00      1.00      1.00         1\n",
      "           2       0.88      0.41      0.56        74\n",
      "           3       1.00      0.62      0.77         8\n",
      "           4       0.80      0.22      0.34        74\n",
      "           5       1.00      0.75      0.86         4\n",
      "           6       0.79      0.61      0.69        18\n",
      "           7       1.00      0.28      0.43        18\n",
      "           8       0.96      1.00      0.98      3373\n",
      "\n",
      "    accuracy                           0.96      3593\n",
      "   macro avg       0.94      0.58      0.68      3593\n",
      "weighted avg       0.96      0.96      0.95      3593\n",
      "\n"
     ]
    }
   ],
   "source": [
    "y_pred = model.predict(X_test)\n",
    "print('Accuracy score: ' + str(accuracy_score(y_test, y_pred)))\n",
    "print('Recall score: ' + str(recall_score(y_test, y_pred, average='macro')))\n",
    "print(classification_report(y_test, y_pred))"
   ]
  },
  {
   "cell_type": "markdown",
   "metadata": {},
   "source": [
    "### Using AdaBoost"
   ]
  },
  {
   "cell_type": "code",
   "execution_count": 67,
   "metadata": {},
   "outputs": [],
   "source": [
    "model = AdaBoostClassifier(n_estimators=500, learning_rate=0.1)"
   ]
  },
  {
   "cell_type": "code",
   "execution_count": 68,
   "metadata": {},
   "outputs": [],
   "source": [
    "result = model.fit(X_train, y_train)"
   ]
  },
  {
   "cell_type": "code",
   "execution_count": 75,
   "metadata": {},
   "outputs": [
    {
     "name": "stdout",
     "output_type": "stream",
     "text": [
      "{1, 2, 4, 5, 6, 8}\n",
      "{0, 1, 2, 3, 4, 5, 6, 7, 8}\n",
      "Accuracy score: 0.49039799610353463\n",
      "Recall score: 0.4142730782962031\n",
      "              precision    recall  f1-score   support\n",
      "\n",
      "           0       0.00      0.00      0.00        23\n",
      "           1       1.00      1.00      1.00         1\n",
      "           2       0.03      0.47      0.06        74\n",
      "           3       0.00      0.00      0.00         8\n",
      "           4       0.00      0.00      0.00        74\n",
      "           5       1.00      0.75      0.86         4\n",
      "           6       0.03      1.00      0.05        18\n",
      "           7       0.00      0.00      0.00        18\n",
      "           8       0.97      0.51      0.66      3373\n",
      "\n",
      "    accuracy                           0.49      3593\n",
      "   macro avg       0.34      0.41      0.29      3593\n",
      "weighted avg       0.91      0.49      0.63      3593\n",
      "\n"
     ]
    }
   ],
   "source": [
    "y_pred = model.predict(X_test)\n",
    "print(set(y_pred))\n",
    "print(set(y_test))\n",
    "print('Accuracy score: ' + str(accuracy_score(y_test.to_numpy(), y_pred)))\n",
    "print('Recall score: ' + str(recall_score(y_test.to_numpy(), y_pred, average='macro')))\n",
    "print(classification_report(y_test.to_numpy(), y_pred))"
   ]
  },
  {
   "cell_type": "markdown",
   "metadata": {},
   "source": [
    "The results of Adaboost are not really promising, XGBClassifer showed better results, thus we won't dwell on this for now."
   ]
  },
  {
   "cell_type": "markdown",
   "metadata": {},
   "source": [
    "### Using SVM"
   ]
  },
  {
   "cell_type": "code",
   "execution_count": 77,
   "metadata": {},
   "outputs": [],
   "source": [
    "from sklearn.svm import SVC"
   ]
  },
  {
   "cell_type": "code",
   "execution_count": 78,
   "metadata": {},
   "outputs": [],
   "source": [
    "svc=SVC() "
   ]
  },
  {
   "cell_type": "code",
   "execution_count": 79,
   "metadata": {},
   "outputs": [],
   "source": [
    "result = svc.fit(X_train, y_train)"
   ]
  },
  {
   "cell_type": "code",
   "execution_count": 80,
   "metadata": {},
   "outputs": [
    {
     "name": "stdout",
     "output_type": "stream",
     "text": [
      "{1, 2, 4, 5, 6, 8}\n",
      "{0, 1, 2, 3, 4, 5, 6, 7, 8}\n",
      "Accuracy score: 0.49039799610353463\n",
      "Recall score: 0.4142730782962031\n",
      "              precision    recall  f1-score   support\n",
      "\n",
      "           0       0.00      0.00      0.00        23\n",
      "           1       1.00      1.00      1.00         1\n",
      "           2       0.03      0.47      0.06        74\n",
      "           3       0.00      0.00      0.00         8\n",
      "           4       0.00      0.00      0.00        74\n",
      "           5       1.00      0.75      0.86         4\n",
      "           6       0.03      1.00      0.05        18\n",
      "           7       0.00      0.00      0.00        18\n",
      "           8       0.97      0.51      0.66      3373\n",
      "\n",
      "    accuracy                           0.49      3593\n",
      "   macro avg       0.34      0.41      0.29      3593\n",
      "weighted avg       0.91      0.49      0.63      3593\n",
      "\n"
     ]
    }
   ],
   "source": [
    "y_pred = model.predict(X_test)\n",
    "print(set(y_pred))\n",
    "print(set(y_test))\n",
    "print('Accuracy score: ' + str(accuracy_score(y_test.to_numpy(), y_pred)))\n",
    "print('Recall score: ' + str(recall_score(y_test.to_numpy(), y_pred, average='macro')))\n",
    "print(classification_report(y_test.to_numpy(), y_pred))"
   ]
  },
  {
   "cell_type": "markdown",
   "metadata": {},
   "source": [
    "Like AdaBoost, the default hyperparameters didn't show promising results, we will keep working with XGBClassifer."
   ]
  },
  {
   "cell_type": "markdown",
   "metadata": {},
   "source": [
    "### Using PCA"
   ]
  },
  {
   "cell_type": "markdown",
   "metadata": {},
   "source": [
    "We plan to employ PCA as an experimental approach despite the intrinsic nature of image data, where pixels have binary values of 0 and 1. The conventional application of Principal Component Analysis (PCA) relies on identifying correlations between features, which in this case, represent individual pixels.   \n",
    "Initially, it seems counterintuitive to apply PCA in this scenario, as there is a prevailing expectation of minimal correlation between individual pixels. The discrete nature of binary pixels suggests limited variability, which is a primary requirement for PCA's effectiveness. However, despite these reservations, we aim to conduct this experiment to explore any potential insights or unexpected outcomes."
   ]
  },
  {
   "cell_type": "code",
   "execution_count": 164,
   "metadata": {},
   "outputs": [],
   "source": [
    "from sklearn.preprocessing import StandardScaler\n",
    "from sklearn.decomposition import PCA"
   ]
  },
  {
   "cell_type": "code",
   "execution_count": 143,
   "metadata": {},
   "outputs": [],
   "source": [
    "X_scaled = StandardScaler().fit_transform(X)"
   ]
  },
  {
   "cell_type": "code",
   "execution_count": 146,
   "metadata": {},
   "outputs": [],
   "source": [
    "cov = (X_scaled.T @ X_scaled) / (X_scaled.shape[0] - 1)"
   ]
  },
  {
   "cell_type": "code",
   "execution_count": 148,
   "metadata": {},
   "outputs": [
    {
     "data": {
      "text/plain": [
       "(2028, 2028)"
      ]
     },
     "execution_count": 148,
     "metadata": {},
     "output_type": "execute_result"
    }
   ],
   "source": [
    "cov.shape"
   ]
  },
  {
   "cell_type": "code",
   "execution_count": 149,
   "metadata": {},
   "outputs": [],
   "source": [
    "eig_values, eig_vectors = np.linalg.eig(cov)"
   ]
  },
  {
   "cell_type": "code",
   "execution_count": 150,
   "metadata": {},
   "outputs": [
    {
     "data": {
      "text/plain": [
       "(2028,)"
      ]
     },
     "execution_count": 150,
     "metadata": {},
     "output_type": "execute_result"
    }
   ],
   "source": [
    "eig_values.shape"
   ]
  },
  {
   "cell_type": "code",
   "execution_count": 151,
   "metadata": {},
   "outputs": [
    {
     "data": {
      "text/plain": [
       "(2028, 2028)"
      ]
     },
     "execution_count": 151,
     "metadata": {},
     "output_type": "execute_result"
    }
   ],
   "source": [
    "eig_vectors.shape"
   ]
  },
  {
   "cell_type": "code",
   "execution_count": 152,
   "metadata": {},
   "outputs": [],
   "source": [
    "idx = np.argsort(eig_values, axis=0)[::-1]\n",
    "sorted_eig_vectors = eig_vectors[:, idx] # sorted in the increasing order of eigen values"
   ]
  },
  {
   "cell_type": "code",
   "execution_count": 158,
   "metadata": {},
   "outputs": [
    {
     "data": {
      "image/png": "[encoded data removed]",
      "text/plain": [
       "<Figure size 640x480 with 1 Axes>"
      ]
     },
     "metadata": {},
     "output_type": "display_data"
    }
   ],
   "source": [
    "cumsum = np.cumsum(eig_values[idx]) / np.sum(eig_values[idx])\n",
    "xint = range(1, len(cumsum) + 1)\n",
    "plt.plot(xint, cumsum)\n",
    "\n",
    "plt.xlabel(\"Number of components\")\n",
    "plt.ylabel(\"Cumulative explained variance\")\n",
    "plt.show()"
   ]
  },
  {
   "cell_type": "markdown",
   "metadata": {},
   "source": [
    "We can see that 500 features are sufficient to explain approximately all the variance, thus we will try to apply PCA with n=500 : "
   ]
  },
  {
   "cell_type": "code",
   "execution_count": 542,
   "metadata": {},
   "outputs": [],
   "source": [
    "X_train, X_test, y_train, y_test = train_test_split(X, labels['label_encoded'], test_size = 0.25, stratify=labels['label_encoded'])"
   ]
  },
  {
   "cell_type": "code",
   "execution_count": 543,
   "metadata": {},
   "outputs": [],
   "source": [
    "pca = PCA(n_components=500)\n",
    "scaler = StandardScaler()"
   ]
  },
  {
   "cell_type": "code",
   "execution_count": 544,
   "metadata": {},
   "outputs": [],
   "source": [
    "X_scaled = scaler.fit_transform(X_train)\n",
    "pca_X_train = pca.fit_transform(X_scaled)"
   ]
  },
  {
   "cell_type": "code",
   "execution_count": 545,
   "metadata": {},
   "outputs": [
    {
     "name": "stdout",
     "output_type": "stream",
     "text": [
      "0.9575304853760547\n"
     ]
    }
   ],
   "source": [
    "print(sum(pca.explained_variance_ratio_))"
   ]
  },
  {
   "cell_type": "code",
   "execution_count": 210,
   "metadata": {},
   "outputs": [],
   "source": [
    "model = XGBClassifier(n_estimators=200, max_depth=5, learninig_rate=0.01 ,objective='multi:softprob')"
   ]
  },
  {
   "cell_type": "code",
   "execution_count": 211,
   "metadata": {},
   "outputs": [
    {
     "data": {
      "text/html": [
       "<style>#sk-container-id-9 {color: black;}#sk-container-id-9 pre{padding: 0;}#sk-container-id-9 div.sk-toggleable {background-color: white;}#sk-container-id-9 label.sk-toggleable__label {cursor: pointer;display: block;width: 100%;margin-bottom: 0;padding: 0.3em;box-sizing: border-box;text-align: center;}#sk-container-id-9 label.sk-toggleable__label-arrow:before {content: \"▸\";float: left;margin-right: 0.25em;color: #696969;}#sk-container-id-9 label.sk-toggleable__label-arrow:hover:before {color: black;}#sk-container-id-9 div.sk-estimator:hover label.sk-toggleable__label-arrow:before {color: black;}#sk-container-id-9 div.sk-toggleable__content {max-height: 0;max-width: 0;overflow: hidden;text-align: left;background-color: #f0f8ff;}#sk-container-id-9 div.sk-toggleable__content pre {margin: 0.2em;color: black;border-radius: 0.25em;background-color: #f0f8ff;}#sk-container-id-9 input.sk-toggleable__control:checked~div.sk-toggleable__content {max-height: 200px;max-width: 100%;overflow: auto;}#sk-container-id-9 input.sk-toggleable__control:checked~label.sk-toggleable__label-arrow:before {content: \"▾\";}#sk-container-id-9 div.sk-estimator input.sk-toggleable__control:checked~label.sk-toggleable__label {background-color: #d4ebff;}#sk-container-id-9 div.sk-label input.sk-toggleable__control:checked~label.sk-toggleable__label {background-color: #d4ebff;}#sk-container-id-9 input.sk-hidden--visually {border: 0;clip: rect(1px 1px 1px 1px);clip: rect(1px, 1px, 1px, 1px);height: 1px;margin: -1px;overflow: hidden;padding: 0;position: absolute;width: 1px;}#sk-container-id-9 div.sk-estimator {font-family: monospace;background-color: #f0f8ff;border: 1px dotted black;border-radius: 0.25em;box-sizing: border-box;margin-bottom: 0.5em;}#sk-container-id-9 div.sk-estimator:hover {background-color: #d4ebff;}#sk-container-id-9 div.sk-parallel-item::after {content: \"\";width: 100%;border-bottom: 1px solid gray;flex-grow: 1;}#sk-container-id-9 div.sk-label:hover label.sk-toggleable__label {background-color: #d4ebff;}#sk-container-id-9 div.sk-serial::before {content: \"\";position: absolute;border-left: 1px solid gray;box-sizing: border-box;top: 0;bottom: 0;left: 50%;z-index: 0;}#sk-container-id-9 div.sk-serial {display: flex;flex-direction: column;align-items: center;background-color: white;padding-right: 0.2em;padding-left: 0.2em;position: relative;}#sk-container-id-9 div.sk-item {position: relative;z-index: 1;}#sk-container-id-9 div.sk-parallel {display: flex;align-items: stretch;justify-content: center;background-color: white;position: relative;}#sk-container-id-9 div.sk-item::before, #sk-container-id-9 div.sk-parallel-item::before {content: \"\";position: absolute;border-left: 1px solid gray;box-sizing: border-box;top: 0;bottom: 0;left: 50%;z-index: -1;}#sk-container-id-9 div.sk-parallel-item {display: flex;flex-direction: column;z-index: 1;position: relative;background-color: white;}#sk-container-id-9 div.sk-parallel-item:first-child::after {align-self: flex-end;width: 50%;}#sk-container-id-9 div.sk-parallel-item:last-child::after {align-self: flex-start;width: 50%;}#sk-container-id-9 div.sk-parallel-item:only-child::after {width: 0;}#sk-container-id-9 div.sk-dashed-wrapped {border: 1px dashed gray;margin: 0 0.4em 0.5em 0.4em;box-sizing: border-box;padding-bottom: 0.4em;background-color: white;}#sk-container-id-9 div.sk-label label {font-family: monospace;font-weight: bold;display: inline-block;line-height: 1.2em;}#sk-container-id-9 div.sk-label-container {text-align: center;}#sk-container-id-9 div.sk-container {/* jupyter's `normalize.less` sets `[hidden] { display: none; }` but bootstrap.min.css set `[hidden] { display: none !important; }` so we also need the `!important` here to be able to override the default hidden behavior on the sphinx rendered scikit-learn.org. See: https://github.com/scikit-learn/scikit-learn/issues/21755 */display: inline-block !important;position: relative;}#sk-container-id-9 div.sk-text-repr-fallback {display: none;}</style><div id=\"sk-container-id-9\" class=\"sk-top-container\"><div class=\"sk-text-repr-fallback\"><pre>XGBClassifier(base_score=None, booster=None, callbacks=None,\n",
       "              colsample_bylevel=None, colsample_bynode=None,\n",
       "              colsample_bytree=None, device=None, early_stopping_rounds=None,\n",
       "              enable_categorical=False, eval_metric=None, feature_types=None,\n",
       "              gamma=None, grow_policy=None, importance_type=None,\n",
       "              interaction_constraints=None, learning_rate=None,\n",
       "              learninig_rate=0.01, max_bin=None, max_cat_threshold=None,\n",
       "              max_cat_to_onehot=None, max_delta_step=None, max_depth=5,\n",
       "              max_leaves=None, min_child_weight=None, missing=nan,\n",
       "              monotone_constraints=None, multi_strategy=None, n_estimators=200,\n",
       "              n_jobs=None, num_parallel_tree=None, ...)</pre><b>In a Jupyter environment, please rerun this cell to show the HTML representation or trust the notebook. <br />On GitHub, the HTML representation is unable to render, please try loading this page with nbviewer.org.</b></div><div class=\"sk-container\" hidden><div class=\"sk-item\"><div class=\"sk-estimator sk-toggleable\"><input class=\"sk-toggleable__control sk-hidden--visually\" id=\"sk-estimator-id-9\" type=\"checkbox\" checked><label for=\"sk-estimator-id-9\" class=\"sk-toggleable__label sk-toggleable__label-arrow\">XGBClassifier</label><div class=\"sk-toggleable__content\"><pre>XGBClassifier(base_score=None, booster=None, callbacks=None,\n",
       "              colsample_bylevel=None, colsample_bynode=None,\n",
       "              colsample_bytree=None, device=None, early_stopping_rounds=None,\n",
       "              enable_categorical=False, eval_metric=None, feature_types=None,\n",
       "              gamma=None, grow_policy=None, importance_type=None,\n",
       "              interaction_constraints=None, learning_rate=None,\n",
       "              learninig_rate=0.01, max_bin=None, max_cat_threshold=None,\n",
       "              max_cat_to_onehot=None, max_delta_step=None, max_depth=5,\n",
       "              max_leaves=None, min_child_weight=None, missing=nan,\n",
       "              monotone_constraints=None, multi_strategy=None, n_estimators=200,\n",
       "              n_jobs=None, num_parallel_tree=None, ...)</pre></div></div></div></div></div>"
      ],
      "text/plain": [
       "XGBClassifier(base_score=None, booster=None, callbacks=None,\n",
       "              colsample_bylevel=None, colsample_bynode=None,\n",
       "              colsample_bytree=None, device=None, early_stopping_rounds=None,\n",
       "              enable_categorical=False, eval_metric=None, feature_types=None,\n",
       "              gamma=None, grow_policy=None, importance_type=None,\n",
       "              interaction_constraints=None, learning_rate=None,\n",
       "              learninig_rate=0.01, max_bin=None, max_cat_threshold=None,\n",
       "              max_cat_to_onehot=None, max_delta_step=None, max_depth=5,\n",
       "              max_leaves=None, min_child_weight=None, missing=nan,\n",
       "              monotone_constraints=None, multi_strategy=None, n_estimators=200,\n",
       "              n_jobs=None, num_parallel_tree=None, ...)"
      ]
     },
     "execution_count": 211,
     "metadata": {},
     "output_type": "execute_result"
    }
   ],
   "source": [
    "model.fit(pca_X_train, y_train)"
   ]
  },
  {
   "cell_type": "code",
   "execution_count": 212,
   "metadata": {},
   "outputs": [
    {
     "name": "stdout",
     "output_type": "stream",
     "text": [
      "{8}\n",
      "{0, 1, 2, 3, 4, 5, 6, 7, 8}\n",
      "Accuracy score: 0.9387698302254384\n",
      "Recall score: 0.1111111111111111\n",
      "              precision    recall  f1-score   support\n",
      "\n",
      "           0       0.00      0.00      0.00        23\n",
      "           1       0.00      0.00      0.00         1\n",
      "           2       0.00      0.00      0.00        74\n",
      "           3       0.00      0.00      0.00         8\n",
      "           4       0.00      0.00      0.00        74\n",
      "           5       0.00      0.00      0.00         4\n",
      "           6       0.00      0.00      0.00        18\n",
      "           7       0.00      0.00      0.00        18\n",
      "           8       0.94      1.00      0.97      3373\n",
      "\n",
      "    accuracy                           0.94      3593\n",
      "   macro avg       0.10      0.11      0.11      3593\n",
      "weighted avg       0.88      0.94      0.91      3593\n",
      "\n"
     ]
    }
   ],
   "source": [
    "X_test_scaled = scaler.transform(X_test)\n",
    "pca_X_test = pca.transform(X_test)\n",
    "y_pred = model.predict(pca_X_test)\n",
    "print(set(y_pred))\n",
    "print(set(y_test))\n",
    "print('Accuracy score: ' + str(accuracy_score(y_test.to_numpy(), y_pred)))\n",
    "print('Recall score: ' + str(recall_score(y_test.to_numpy(), y_pred, average='macro')))\n",
    "print(classification_report(y_test.to_numpy(), y_pred))"
   ]
  },
  {
   "cell_type": "markdown",
   "metadata": {},
   "source": [
    "We can see that the PCA didn't really perform well as expected"
   ]
  },
  {
   "cell_type": "markdown",
   "metadata": {},
   "source": [
    "### Adding Some distance Between bits"
   ]
  },
  {
   "cell_type": "markdown",
   "metadata": {},
   "source": [
    "In this section, our objective is to assign higher weightage to the bits set to 1, intending to investigate whether this adjustment could potentially yield improved outcomes or performance enhancements."
   ]
  },
  {
   "cell_type": "code",
   "execution_count": 546,
   "metadata": {},
   "outputs": [
    {
     "data": {
      "text/html": [
       "<div>\n",
       "<style scoped>\n",
       "    .dataframe tbody tr th:only-of-type {\n",
       "        vertical-align: middle;\n",
       "    }\n",
       "\n",
       "    .dataframe tbody tr th {\n",
       "        vertical-align: top;\n",
       "    }\n",
       "\n",
       "    .dataframe thead th {\n",
       "        text-align: right;\n",
       "    }\n",
       "</style>\n",
       "<table border=\"1\" class=\"dataframe\">\n",
       "  <thead>\n",
       "    <tr style=\"text-align: right;\">\n",
       "      <th></th>\n",
       "      <th>0</th>\n",
       "      <th>1</th>\n",
       "      <th>2</th>\n",
       "      <th>3</th>\n",
       "      <th>4</th>\n",
       "      <th>5</th>\n",
       "      <th>6</th>\n",
       "      <th>7</th>\n",
       "      <th>8</th>\n",
       "      <th>9</th>\n",
       "      <th>...</th>\n",
       "      <th>2018</th>\n",
       "      <th>2019</th>\n",
       "      <th>2020</th>\n",
       "      <th>2021</th>\n",
       "      <th>2022</th>\n",
       "      <th>2023</th>\n",
       "      <th>2024</th>\n",
       "      <th>2025</th>\n",
       "      <th>2026</th>\n",
       "      <th>2027</th>\n",
       "    </tr>\n",
       "  </thead>\n",
       "  <tbody>\n",
       "    <tr>\n",
       "      <th>0</th>\n",
       "      <td>2.0</td>\n",
       "      <td>2.0</td>\n",
       "      <td>2.0</td>\n",
       "      <td>2.0</td>\n",
       "      <td>2.0</td>\n",
       "      <td>2.0</td>\n",
       "      <td>2.0</td>\n",
       "      <td>2.0</td>\n",
       "      <td>2.0</td>\n",
       "      <td>2.0</td>\n",
       "      <td>...</td>\n",
       "      <td>0.000000e+00</td>\n",
       "      <td>0.000000e+00</td>\n",
       "      <td>0.000000e+00</td>\n",
       "      <td>0.0</td>\n",
       "      <td>0.0</td>\n",
       "      <td>0.0</td>\n",
       "      <td>0.0</td>\n",
       "      <td>0.0</td>\n",
       "      <td>0.0</td>\n",
       "      <td>0.0</td>\n",
       "    </tr>\n",
       "    <tr>\n",
       "      <th>1</th>\n",
       "      <td>2.0</td>\n",
       "      <td>2.0</td>\n",
       "      <td>2.0</td>\n",
       "      <td>2.0</td>\n",
       "      <td>2.0</td>\n",
       "      <td>2.0</td>\n",
       "      <td>2.0</td>\n",
       "      <td>2.0</td>\n",
       "      <td>2.0</td>\n",
       "      <td>2.0</td>\n",
       "      <td>...</td>\n",
       "      <td>0.000000e+00</td>\n",
       "      <td>0.000000e+00</td>\n",
       "      <td>0.000000e+00</td>\n",
       "      <td>0.0</td>\n",
       "      <td>0.0</td>\n",
       "      <td>0.0</td>\n",
       "      <td>0.0</td>\n",
       "      <td>0.0</td>\n",
       "      <td>0.0</td>\n",
       "      <td>0.0</td>\n",
       "    </tr>\n",
       "    <tr>\n",
       "      <th>2</th>\n",
       "      <td>2.0</td>\n",
       "      <td>2.0</td>\n",
       "      <td>2.0</td>\n",
       "      <td>2.0</td>\n",
       "      <td>2.0</td>\n",
       "      <td>2.0</td>\n",
       "      <td>2.0</td>\n",
       "      <td>2.0</td>\n",
       "      <td>2.0</td>\n",
       "      <td>2.0</td>\n",
       "      <td>...</td>\n",
       "      <td>0.000000e+00</td>\n",
       "      <td>0.000000e+00</td>\n",
       "      <td>0.000000e+00</td>\n",
       "      <td>0.0</td>\n",
       "      <td>0.0</td>\n",
       "      <td>0.0</td>\n",
       "      <td>0.0</td>\n",
       "      <td>0.0</td>\n",
       "      <td>0.0</td>\n",
       "      <td>0.0</td>\n",
       "    </tr>\n",
       "    <tr>\n",
       "      <th>3</th>\n",
       "      <td>2.0</td>\n",
       "      <td>2.0</td>\n",
       "      <td>2.0</td>\n",
       "      <td>2.0</td>\n",
       "      <td>2.0</td>\n",
       "      <td>2.0</td>\n",
       "      <td>2.0</td>\n",
       "      <td>2.0</td>\n",
       "      <td>2.0</td>\n",
       "      <td>2.0</td>\n",
       "      <td>...</td>\n",
       "      <td>0.000000e+00</td>\n",
       "      <td>0.000000e+00</td>\n",
       "      <td>0.000000e+00</td>\n",
       "      <td>0.0</td>\n",
       "      <td>0.0</td>\n",
       "      <td>0.0</td>\n",
       "      <td>0.0</td>\n",
       "      <td>0.0</td>\n",
       "      <td>0.0</td>\n",
       "      <td>0.0</td>\n",
       "    </tr>\n",
       "    <tr>\n",
       "      <th>4</th>\n",
       "      <td>2.0</td>\n",
       "      <td>2.0</td>\n",
       "      <td>2.0</td>\n",
       "      <td>2.0</td>\n",
       "      <td>2.0</td>\n",
       "      <td>2.0</td>\n",
       "      <td>2.0</td>\n",
       "      <td>2.0</td>\n",
       "      <td>2.0</td>\n",
       "      <td>2.0</td>\n",
       "      <td>...</td>\n",
       "      <td>0.000000e+00</td>\n",
       "      <td>0.000000e+00</td>\n",
       "      <td>0.000000e+00</td>\n",
       "      <td>0.0</td>\n",
       "      <td>0.0</td>\n",
       "      <td>0.0</td>\n",
       "      <td>0.0</td>\n",
       "      <td>0.0</td>\n",
       "      <td>0.0</td>\n",
       "      <td>0.0</td>\n",
       "    </tr>\n",
       "    <tr>\n",
       "      <th>...</th>\n",
       "      <td>...</td>\n",
       "      <td>...</td>\n",
       "      <td>...</td>\n",
       "      <td>...</td>\n",
       "      <td>...</td>\n",
       "      <td>...</td>\n",
       "      <td>...</td>\n",
       "      <td>...</td>\n",
       "      <td>...</td>\n",
       "      <td>...</td>\n",
       "      <td>...</td>\n",
       "      <td>...</td>\n",
       "      <td>...</td>\n",
       "      <td>...</td>\n",
       "      <td>...</td>\n",
       "      <td>...</td>\n",
       "      <td>...</td>\n",
       "      <td>...</td>\n",
       "      <td>...</td>\n",
       "      <td>...</td>\n",
       "      <td>...</td>\n",
       "    </tr>\n",
       "    <tr>\n",
       "      <th>14365</th>\n",
       "      <td>2.0</td>\n",
       "      <td>2.0</td>\n",
       "      <td>2.0</td>\n",
       "      <td>2.0</td>\n",
       "      <td>2.0</td>\n",
       "      <td>2.0</td>\n",
       "      <td>2.0</td>\n",
       "      <td>2.0</td>\n",
       "      <td>2.0</td>\n",
       "      <td>2.0</td>\n",
       "      <td>...</td>\n",
       "      <td>0.000000e+00</td>\n",
       "      <td>0.000000e+00</td>\n",
       "      <td>0.000000e+00</td>\n",
       "      <td>0.0</td>\n",
       "      <td>0.0</td>\n",
       "      <td>0.0</td>\n",
       "      <td>0.0</td>\n",
       "      <td>0.0</td>\n",
       "      <td>0.0</td>\n",
       "      <td>0.0</td>\n",
       "    </tr>\n",
       "    <tr>\n",
       "      <th>14366</th>\n",
       "      <td>2.0</td>\n",
       "      <td>2.0</td>\n",
       "      <td>2.0</td>\n",
       "      <td>2.0</td>\n",
       "      <td>2.0</td>\n",
       "      <td>2.0</td>\n",
       "      <td>2.0</td>\n",
       "      <td>2.0</td>\n",
       "      <td>2.0</td>\n",
       "      <td>2.0</td>\n",
       "      <td>...</td>\n",
       "      <td>0.000000e+00</td>\n",
       "      <td>0.000000e+00</td>\n",
       "      <td>0.000000e+00</td>\n",
       "      <td>0.0</td>\n",
       "      <td>0.0</td>\n",
       "      <td>0.0</td>\n",
       "      <td>0.0</td>\n",
       "      <td>0.0</td>\n",
       "      <td>0.0</td>\n",
       "      <td>0.0</td>\n",
       "    </tr>\n",
       "    <tr>\n",
       "      <th>14367</th>\n",
       "      <td>2.0</td>\n",
       "      <td>2.0</td>\n",
       "      <td>2.0</td>\n",
       "      <td>2.0</td>\n",
       "      <td>2.0</td>\n",
       "      <td>2.0</td>\n",
       "      <td>2.0</td>\n",
       "      <td>2.0</td>\n",
       "      <td>2.0</td>\n",
       "      <td>0.0</td>\n",
       "      <td>...</td>\n",
       "      <td>2.000000e+00</td>\n",
       "      <td>0.000000e+00</td>\n",
       "      <td>0.000000e+00</td>\n",
       "      <td>0.0</td>\n",
       "      <td>0.0</td>\n",
       "      <td>0.0</td>\n",
       "      <td>0.0</td>\n",
       "      <td>0.0</td>\n",
       "      <td>0.0</td>\n",
       "      <td>0.0</td>\n",
       "    </tr>\n",
       "    <tr>\n",
       "      <th>14368</th>\n",
       "      <td>2.0</td>\n",
       "      <td>2.0</td>\n",
       "      <td>2.0</td>\n",
       "      <td>2.0</td>\n",
       "      <td>2.0</td>\n",
       "      <td>2.0</td>\n",
       "      <td>2.0</td>\n",
       "      <td>2.0</td>\n",
       "      <td>2.0</td>\n",
       "      <td>0.0</td>\n",
       "      <td>...</td>\n",
       "      <td>2.000000e+00</td>\n",
       "      <td>0.000000e+00</td>\n",
       "      <td>0.000000e+00</td>\n",
       "      <td>0.0</td>\n",
       "      <td>0.0</td>\n",
       "      <td>0.0</td>\n",
       "      <td>0.0</td>\n",
       "      <td>0.0</td>\n",
       "      <td>0.0</td>\n",
       "      <td>0.0</td>\n",
       "    </tr>\n",
       "    <tr>\n",
       "      <th>14369</th>\n",
       "      <td>2.0</td>\n",
       "      <td>2.0</td>\n",
       "      <td>2.0</td>\n",
       "      <td>2.0</td>\n",
       "      <td>2.0</td>\n",
       "      <td>2.0</td>\n",
       "      <td>2.0</td>\n",
       "      <td>2.0</td>\n",
       "      <td>2.0</td>\n",
       "      <td>2.0</td>\n",
       "      <td>...</td>\n",
       "      <td>2.524355e-29</td>\n",
       "      <td>7.105427e-15</td>\n",
       "      <td>7.105427e-15</td>\n",
       "      <td>0.0</td>\n",
       "      <td>0.0</td>\n",
       "      <td>0.0</td>\n",
       "      <td>0.0</td>\n",
       "      <td>0.0</td>\n",
       "      <td>0.0</td>\n",
       "      <td>0.0</td>\n",
       "    </tr>\n",
       "  </tbody>\n",
       "</table>\n",
       "<p>14370 rows × 2028 columns</p>\n",
       "</div>"
      ],
      "text/plain": [
       "       0     1     2     3     4     5     6     7     8     9     ...  \\\n",
       "0       2.0   2.0   2.0   2.0   2.0   2.0   2.0   2.0   2.0   2.0  ...   \n",
       "1       2.0   2.0   2.0   2.0   2.0   2.0   2.0   2.0   2.0   2.0  ...   \n",
       "2       2.0   2.0   2.0   2.0   2.0   2.0   2.0   2.0   2.0   2.0  ...   \n",
       "3       2.0   2.0   2.0   2.0   2.0   2.0   2.0   2.0   2.0   2.0  ...   \n",
       "4       2.0   2.0   2.0   2.0   2.0   2.0   2.0   2.0   2.0   2.0  ...   \n",
       "...     ...   ...   ...   ...   ...   ...   ...   ...   ...   ...  ...   \n",
       "14365   2.0   2.0   2.0   2.0   2.0   2.0   2.0   2.0   2.0   2.0  ...   \n",
       "14366   2.0   2.0   2.0   2.0   2.0   2.0   2.0   2.0   2.0   2.0  ...   \n",
       "14367   2.0   2.0   2.0   2.0   2.0   2.0   2.0   2.0   2.0   0.0  ...   \n",
       "14368   2.0   2.0   2.0   2.0   2.0   2.0   2.0   2.0   2.0   0.0  ...   \n",
       "14369   2.0   2.0   2.0   2.0   2.0   2.0   2.0   2.0   2.0   2.0  ...   \n",
       "\n",
       "               2018          2019          2020  2021  2022  2023  2024  2025  \\\n",
       "0      0.000000e+00  0.000000e+00  0.000000e+00   0.0   0.0   0.0   0.0   0.0   \n",
       "1      0.000000e+00  0.000000e+00  0.000000e+00   0.0   0.0   0.0   0.0   0.0   \n",
       "2      0.000000e+00  0.000000e+00  0.000000e+00   0.0   0.0   0.0   0.0   0.0   \n",
       "3      0.000000e+00  0.000000e+00  0.000000e+00   0.0   0.0   0.0   0.0   0.0   \n",
       "4      0.000000e+00  0.000000e+00  0.000000e+00   0.0   0.0   0.0   0.0   0.0   \n",
       "...             ...           ...           ...   ...   ...   ...   ...   ...   \n",
       "14365  0.000000e+00  0.000000e+00  0.000000e+00   0.0   0.0   0.0   0.0   0.0   \n",
       "14366  0.000000e+00  0.000000e+00  0.000000e+00   0.0   0.0   0.0   0.0   0.0   \n",
       "14367  2.000000e+00  0.000000e+00  0.000000e+00   0.0   0.0   0.0   0.0   0.0   \n",
       "14368  2.000000e+00  0.000000e+00  0.000000e+00   0.0   0.0   0.0   0.0   0.0   \n",
       "14369  2.524355e-29  7.105427e-15  7.105427e-15   0.0   0.0   0.0   0.0   0.0   \n",
       "\n",
       "       2026  2027  \n",
       "0       0.0   0.0  \n",
       "1       0.0   0.0  \n",
       "2       0.0   0.0  \n",
       "3       0.0   0.0  \n",
       "4       0.0   0.0  \n",
       "...     ...   ...  \n",
       "14365   0.0   0.0  \n",
       "14366   0.0   0.0  \n",
       "14367   0.0   0.0  \n",
       "14368   0.0   0.0  \n",
       "14369   0.0   0.0  \n",
       "\n",
       "[14370 rows x 2028 columns]"
      ]
     },
     "execution_count": 546,
     "metadata": {},
     "output_type": "execute_result"
    }
   ],
   "source": [
    "X_2 = X*2\n",
    "X_2"
   ]
  },
  {
   "cell_type": "code",
   "execution_count": 547,
   "metadata": {},
   "outputs": [],
   "source": [
    "X_train, X_test, y_train, y_test = train_test_split(X_2, labels['label_encoded'], test_size = 0.25, stratify=labels['label_encoded'])"
   ]
  },
  {
   "cell_type": "code",
   "execution_count": 548,
   "metadata": {},
   "outputs": [],
   "source": [
    "model = XGBClassifier(n_estimators=200, max_depth=5, learninig_rate=0.01 ,objective='multi:softprob', random_state=1)"
   ]
  },
  {
   "cell_type": "code",
   "execution_count": 549,
   "metadata": {},
   "outputs": [
    {
     "data": {
      "text/html": [
       "<style>#sk-container-id-55 {color: black;}#sk-container-id-55 pre{padding: 0;}#sk-container-id-55 div.sk-toggleable {background-color: white;}#sk-container-id-55 label.sk-toggleable__label {cursor: pointer;display: block;width: 100%;margin-bottom: 0;padding: 0.3em;box-sizing: border-box;text-align: center;}#sk-container-id-55 label.sk-toggleable__label-arrow:before {content: \"▸\";float: left;margin-right: 0.25em;color: #696969;}#sk-container-id-55 label.sk-toggleable__label-arrow:hover:before {color: black;}#sk-container-id-55 div.sk-estimator:hover label.sk-toggleable__label-arrow:before {color: black;}#sk-container-id-55 div.sk-toggleable__content {max-height: 0;max-width: 0;overflow: hidden;text-align: left;background-color: #f0f8ff;}#sk-container-id-55 div.sk-toggleable__content pre {margin: 0.2em;color: black;border-radius: 0.25em;background-color: #f0f8ff;}#sk-container-id-55 input.sk-toggleable__control:checked~div.sk-toggleable__content {max-height: 200px;max-width: 100%;overflow: auto;}#sk-container-id-55 input.sk-toggleable__control:checked~label.sk-toggleable__label-arrow:before {content: \"▾\";}#sk-container-id-55 div.sk-estimator input.sk-toggleable__control:checked~label.sk-toggleable__label {background-color: #d4ebff;}#sk-container-id-55 div.sk-label input.sk-toggleable__control:checked~label.sk-toggleable__label {background-color: #d4ebff;}#sk-container-id-55 input.sk-hidden--visually {border: 0;clip: rect(1px 1px 1px 1px);clip: rect(1px, 1px, 1px, 1px);height: 1px;margin: -1px;overflow: hidden;padding: 0;position: absolute;width: 1px;}#sk-container-id-55 div.sk-estimator {font-family: monospace;background-color: #f0f8ff;border: 1px dotted black;border-radius: 0.25em;box-sizing: border-box;margin-bottom: 0.5em;}#sk-container-id-55 div.sk-estimator:hover {background-color: #d4ebff;}#sk-container-id-55 div.sk-parallel-item::after {content: \"\";width: 100%;border-bottom: 1px solid gray;flex-grow: 1;}#sk-container-id-55 div.sk-label:hover label.sk-toggleable__label {background-color: #d4ebff;}#sk-container-id-55 div.sk-serial::before {content: \"\";position: absolute;border-left: 1px solid gray;box-sizing: border-box;top: 0;bottom: 0;left: 50%;z-index: 0;}#sk-container-id-55 div.sk-serial {display: flex;flex-direction: column;align-items: center;background-color: white;padding-right: 0.2em;padding-left: 0.2em;position: relative;}#sk-container-id-55 div.sk-item {position: relative;z-index: 1;}#sk-container-id-55 div.sk-parallel {display: flex;align-items: stretch;justify-content: center;background-color: white;position: relative;}#sk-container-id-55 div.sk-item::before, #sk-container-id-55 div.sk-parallel-item::before {content: \"\";position: absolute;border-left: 1px solid gray;box-sizing: border-box;top: 0;bottom: 0;left: 50%;z-index: -1;}#sk-container-id-55 div.sk-parallel-item {display: flex;flex-direction: column;z-index: 1;position: relative;background-color: white;}#sk-container-id-55 div.sk-parallel-item:first-child::after {align-self: flex-end;width: 50%;}#sk-container-id-55 div.sk-parallel-item:last-child::after {align-self: flex-start;width: 50%;}#sk-container-id-55 div.sk-parallel-item:only-child::after {width: 0;}#sk-container-id-55 div.sk-dashed-wrapped {border: 1px dashed gray;margin: 0 0.4em 0.5em 0.4em;box-sizing: border-box;padding-bottom: 0.4em;background-color: white;}#sk-container-id-55 div.sk-label label {font-family: monospace;font-weight: bold;display: inline-block;line-height: 1.2em;}#sk-container-id-55 div.sk-label-container {text-align: center;}#sk-container-id-55 div.sk-container {/* jupyter's `normalize.less` sets `[hidden] { display: none; }` but bootstrap.min.css set `[hidden] { display: none !important; }` so we also need the `!important` here to be able to override the default hidden behavior on the sphinx rendered scikit-learn.org. See: https://github.com/scikit-learn/scikit-learn/issues/21755 */display: inline-block !important;position: relative;}#sk-container-id-55 div.sk-text-repr-fallback {display: none;}</style><div id=\"sk-container-id-55\" class=\"sk-top-container\"><div class=\"sk-text-repr-fallback\"><pre>XGBClassifier(base_score=None, booster=None, callbacks=None,\n",
       "              colsample_bylevel=None, colsample_bynode=None,\n",
       "              colsample_bytree=None, device=None, early_stopping_rounds=None,\n",
       "              enable_categorical=False, eval_metric=None, feature_types=None,\n",
       "              gamma=None, grow_policy=None, importance_type=None,\n",
       "              interaction_constraints=None, learning_rate=None,\n",
       "              learninig_rate=0.01, max_bin=None, max_cat_threshold=None,\n",
       "              max_cat_to_onehot=None, max_delta_step=None, max_depth=5,\n",
       "              max_leaves=None, min_child_weight=None, missing=nan,\n",
       "              monotone_constraints=None, multi_strategy=None, n_estimators=200,\n",
       "              n_jobs=None, num_parallel_tree=None, ...)</pre><b>In a Jupyter environment, please rerun this cell to show the HTML representation or trust the notebook. <br />On GitHub, the HTML representation is unable to render, please try loading this page with nbviewer.org.</b></div><div class=\"sk-container\" hidden><div class=\"sk-item\"><div class=\"sk-estimator sk-toggleable\"><input class=\"sk-toggleable__control sk-hidden--visually\" id=\"sk-estimator-id-55\" type=\"checkbox\" checked><label for=\"sk-estimator-id-55\" class=\"sk-toggleable__label sk-toggleable__label-arrow\">XGBClassifier</label><div class=\"sk-toggleable__content\"><pre>XGBClassifier(base_score=None, booster=None, callbacks=None,\n",
       "              colsample_bylevel=None, colsample_bynode=None,\n",
       "              colsample_bytree=None, device=None, early_stopping_rounds=None,\n",
       "              enable_categorical=False, eval_metric=None, feature_types=None,\n",
       "              gamma=None, grow_policy=None, importance_type=None,\n",
       "              interaction_constraints=None, learning_rate=None,\n",
       "              learninig_rate=0.01, max_bin=None, max_cat_threshold=None,\n",
       "              max_cat_to_onehot=None, max_delta_step=None, max_depth=5,\n",
       "              max_leaves=None, min_child_weight=None, missing=nan,\n",
       "              monotone_constraints=None, multi_strategy=None, n_estimators=200,\n",
       "              n_jobs=None, num_parallel_tree=None, ...)</pre></div></div></div></div></div>"
      ],
      "text/plain": [
       "XGBClassifier(base_score=None, booster=None, callbacks=None,\n",
       "              colsample_bylevel=None, colsample_bynode=None,\n",
       "              colsample_bytree=None, device=None, early_stopping_rounds=None,\n",
       "              enable_categorical=False, eval_metric=None, feature_types=None,\n",
       "              gamma=None, grow_policy=None, importance_type=None,\n",
       "              interaction_constraints=None, learning_rate=None,\n",
       "              learninig_rate=0.01, max_bin=None, max_cat_threshold=None,\n",
       "              max_cat_to_onehot=None, max_delta_step=None, max_depth=5,\n",
       "              max_leaves=None, min_child_weight=None, missing=nan,\n",
       "              monotone_constraints=None, multi_strategy=None, n_estimators=200,\n",
       "              n_jobs=None, num_parallel_tree=None, ...)"
      ]
     },
     "execution_count": 549,
     "metadata": {},
     "output_type": "execute_result"
    }
   ],
   "source": [
    "model.fit(X_train, y_train)"
   ]
  },
  {
   "cell_type": "code",
   "execution_count": 550,
   "metadata": {},
   "outputs": [
    {
     "name": "stdout",
     "output_type": "stream",
     "text": [
      "{0, 1, 2, 3, 4, 5, 6, 7, 8}\n",
      "{0, 1, 2, 3, 4, 5, 6, 7, 8}\n",
      "Accuracy score: 0.9557472863902031\n",
      "Recall score: 0.5661667169087562\n",
      "              precision    recall  f1-score   support\n",
      "\n",
      "           0       0.64      0.30      0.41        23\n",
      "           1       1.00      1.00      1.00         1\n",
      "           2       0.76      0.30      0.43        74\n",
      "           3       0.86      0.75      0.80         8\n",
      "           4       0.70      0.19      0.30        74\n",
      "           5       1.00      1.00      1.00         4\n",
      "           6       1.00      0.33      0.50        18\n",
      "           7       1.00      0.22      0.36        18\n",
      "           8       0.96      1.00      0.98      3373\n",
      "\n",
      "    accuracy                           0.96      3593\n",
      "   macro avg       0.88      0.57      0.64      3593\n",
      "weighted avg       0.95      0.96      0.94      3593\n",
      "\n"
     ]
    }
   ],
   "source": [
    "y_pred = model.predict(X_test)\n",
    "print(set(y_pred))\n",
    "print(set(y_test))\n",
    "print('Accuracy score: ' + str(accuracy_score(y_test.to_numpy(), y_pred)))\n",
    "print('Recall score: ' + str(recall_score(y_test.to_numpy(), y_pred, average='macro')))\n",
    "print(classification_report(y_test.to_numpy(), y_pred))"
   ]
  },
  {
   "cell_type": "markdown",
   "metadata": {},
   "source": [
    "We tried to multiply with different values other than 2 but we didn't notice any improvement in the results"
   ]
  },
  {
   "cell_type": "markdown",
   "metadata": {},
   "source": [
    "### Reducing Overfitting"
   ]
  },
  {
   "cell_type": "markdown",
   "metadata": {},
   "source": [
    "In all the models we worked with before the model seemed to be overfitting the traning data, we will try to reduce overfitting on the XGB classifier."
   ]
  },
  {
   "cell_type": "markdown",
   "metadata": {},
   "source": [
    "To reduce Overfitting we can start by reducing the max_depth of the Trees used in XGBClassifier"
   ]
  },
  {
   "cell_type": "code",
   "execution_count": 551,
   "metadata": {},
   "outputs": [],
   "source": [
    "X_train, X_test, y_train, y_test = train_test_split(X, labels['label_encoded'], test_size = 0.25, stratify=labels['label_encoded'])"
   ]
  },
  {
   "cell_type": "code",
   "execution_count": 552,
   "metadata": {},
   "outputs": [],
   "source": [
    "model = XGBClassifier(n_estimators=200, max_depth=3, learninig_rate=0.01 ,objective='multi:softprob')"
   ]
  },
  {
   "cell_type": "code",
   "execution_count": 553,
   "metadata": {},
   "outputs": [
    {
     "data": {
      "text/html": [
       "<style>#sk-container-id-56 {color: black;}#sk-container-id-56 pre{padding: 0;}#sk-container-id-56 div.sk-toggleable {background-color: white;}#sk-container-id-56 label.sk-toggleable__label {cursor: pointer;display: block;width: 100%;margin-bottom: 0;padding: 0.3em;box-sizing: border-box;text-align: center;}#sk-container-id-56 label.sk-toggleable__label-arrow:before {content: \"▸\";float: left;margin-right: 0.25em;color: #696969;}#sk-container-id-56 label.sk-toggleable__label-arrow:hover:before {color: black;}#sk-container-id-56 div.sk-estimator:hover label.sk-toggleable__label-arrow:before {color: black;}#sk-container-id-56 div.sk-toggleable__content {max-height: 0;max-width: 0;overflow: hidden;text-align: left;background-color: #f0f8ff;}#sk-container-id-56 div.sk-toggleable__content pre {margin: 0.2em;color: black;border-radius: 0.25em;background-color: #f0f8ff;}#sk-container-id-56 input.sk-toggleable__control:checked~div.sk-toggleable__content {max-height: 200px;max-width: 100%;overflow: auto;}#sk-container-id-56 input.sk-toggleable__control:checked~label.sk-toggleable__label-arrow:before {content: \"▾\";}#sk-container-id-56 div.sk-estimator input.sk-toggleable__control:checked~label.sk-toggleable__label {background-color: #d4ebff;}#sk-container-id-56 div.sk-label input.sk-toggleable__control:checked~label.sk-toggleable__label {background-color: #d4ebff;}#sk-container-id-56 input.sk-hidden--visually {border: 0;clip: rect(1px 1px 1px 1px);clip: rect(1px, 1px, 1px, 1px);height: 1px;margin: -1px;overflow: hidden;padding: 0;position: absolute;width: 1px;}#sk-container-id-56 div.sk-estimator {font-family: monospace;background-color: #f0f8ff;border: 1px dotted black;border-radius: 0.25em;box-sizing: border-box;margin-bottom: 0.5em;}#sk-container-id-56 div.sk-estimator:hover {background-color: #d4ebff;}#sk-container-id-56 div.sk-parallel-item::after {content: \"\";width: 100%;border-bottom: 1px solid gray;flex-grow: 1;}#sk-container-id-56 div.sk-label:hover label.sk-toggleable__label {background-color: #d4ebff;}#sk-container-id-56 div.sk-serial::before {content: \"\";position: absolute;border-left: 1px solid gray;box-sizing: border-box;top: 0;bottom: 0;left: 50%;z-index: 0;}#sk-container-id-56 div.sk-serial {display: flex;flex-direction: column;align-items: center;background-color: white;padding-right: 0.2em;padding-left: 0.2em;position: relative;}#sk-container-id-56 div.sk-item {position: relative;z-index: 1;}#sk-container-id-56 div.sk-parallel {display: flex;align-items: stretch;justify-content: center;background-color: white;position: relative;}#sk-container-id-56 div.sk-item::before, #sk-container-id-56 div.sk-parallel-item::before {content: \"\";position: absolute;border-left: 1px solid gray;box-sizing: border-box;top: 0;bottom: 0;left: 50%;z-index: -1;}#sk-container-id-56 div.sk-parallel-item {display: flex;flex-direction: column;z-index: 1;position: relative;background-color: white;}#sk-container-id-56 div.sk-parallel-item:first-child::after {align-self: flex-end;width: 50%;}#sk-container-id-56 div.sk-parallel-item:last-child::after {align-self: flex-start;width: 50%;}#sk-container-id-56 div.sk-parallel-item:only-child::after {width: 0;}#sk-container-id-56 div.sk-dashed-wrapped {border: 1px dashed gray;margin: 0 0.4em 0.5em 0.4em;box-sizing: border-box;padding-bottom: 0.4em;background-color: white;}#sk-container-id-56 div.sk-label label {font-family: monospace;font-weight: bold;display: inline-block;line-height: 1.2em;}#sk-container-id-56 div.sk-label-container {text-align: center;}#sk-container-id-56 div.sk-container {/* jupyter's `normalize.less` sets `[hidden] { display: none; }` but bootstrap.min.css set `[hidden] { display: none !important; }` so we also need the `!important` here to be able to override the default hidden behavior on the sphinx rendered scikit-learn.org. See: https://github.com/scikit-learn/scikit-learn/issues/21755 */display: inline-block !important;position: relative;}#sk-container-id-56 div.sk-text-repr-fallback {display: none;}</style><div id=\"sk-container-id-56\" class=\"sk-top-container\"><div class=\"sk-text-repr-fallback\"><pre>XGBClassifier(base_score=None, booster=None, callbacks=None,\n",
       "              colsample_bylevel=None, colsample_bynode=None,\n",
       "              colsample_bytree=None, device=None, early_stopping_rounds=None,\n",
       "              enable_categorical=False, eval_metric=None, feature_types=None,\n",
       "              gamma=None, grow_policy=None, importance_type=None,\n",
       "              interaction_constraints=None, learning_rate=None,\n",
       "              learninig_rate=0.01, max_bin=None, max_cat_threshold=None,\n",
       "              max_cat_to_onehot=None, max_delta_step=None, max_depth=3,\n",
       "              max_leaves=None, min_child_weight=None, missing=nan,\n",
       "              monotone_constraints=None, multi_strategy=None, n_estimators=200,\n",
       "              n_jobs=None, num_parallel_tree=None, ...)</pre><b>In a Jupyter environment, please rerun this cell to show the HTML representation or trust the notebook. <br />On GitHub, the HTML representation is unable to render, please try loading this page with nbviewer.org.</b></div><div class=\"sk-container\" hidden><div class=\"sk-item\"><div class=\"sk-estimator sk-toggleable\"><input class=\"sk-toggleable__control sk-hidden--visually\" id=\"sk-estimator-id-56\" type=\"checkbox\" checked><label for=\"sk-estimator-id-56\" class=\"sk-toggleable__label sk-toggleable__label-arrow\">XGBClassifier</label><div class=\"sk-toggleable__content\"><pre>XGBClassifier(base_score=None, booster=None, callbacks=None,\n",
       "              colsample_bylevel=None, colsample_bynode=None,\n",
       "              colsample_bytree=None, device=None, early_stopping_rounds=None,\n",
       "              enable_categorical=False, eval_metric=None, feature_types=None,\n",
       "              gamma=None, grow_policy=None, importance_type=None,\n",
       "              interaction_constraints=None, learning_rate=None,\n",
       "              learninig_rate=0.01, max_bin=None, max_cat_threshold=None,\n",
       "              max_cat_to_onehot=None, max_delta_step=None, max_depth=3,\n",
       "              max_leaves=None, min_child_weight=None, missing=nan,\n",
       "              monotone_constraints=None, multi_strategy=None, n_estimators=200,\n",
       "              n_jobs=None, num_parallel_tree=None, ...)</pre></div></div></div></div></div>"
      ],
      "text/plain": [
       "XGBClassifier(base_score=None, booster=None, callbacks=None,\n",
       "              colsample_bylevel=None, colsample_bynode=None,\n",
       "              colsample_bytree=None, device=None, early_stopping_rounds=None,\n",
       "              enable_categorical=False, eval_metric=None, feature_types=None,\n",
       "              gamma=None, grow_policy=None, importance_type=None,\n",
       "              interaction_constraints=None, learning_rate=None,\n",
       "              learninig_rate=0.01, max_bin=None, max_cat_threshold=None,\n",
       "              max_cat_to_onehot=None, max_delta_step=None, max_depth=3,\n",
       "              max_leaves=None, min_child_weight=None, missing=nan,\n",
       "              monotone_constraints=None, multi_strategy=None, n_estimators=200,\n",
       "              n_jobs=None, num_parallel_tree=None, ...)"
      ]
     },
     "execution_count": 553,
     "metadata": {},
     "output_type": "execute_result"
    }
   ],
   "source": [
    "model.fit(X_train, y_train)"
   ]
  },
  {
   "cell_type": "code",
   "execution_count": 554,
   "metadata": {},
   "outputs": [
    {
     "name": "stdout",
     "output_type": "stream",
     "text": [
      "{0, 1, 2, 3, 4, 5, 6, 7, 8}\n",
      "{0, 1, 2, 3, 4, 5, 6, 7, 8}\n",
      "Accuracy score: 0.9624269412747009\n",
      "Recall score: 0.6328638488232795\n",
      "              precision    recall  f1-score   support\n",
      "\n",
      "           0       0.92      0.52      0.67        23\n",
      "           1       1.00      1.00      1.00         1\n",
      "           2       0.88      0.49      0.63        74\n",
      "           3       0.86      0.75      0.80         8\n",
      "           4       0.70      0.22      0.33        74\n",
      "           5       1.00      1.00      1.00         4\n",
      "           6       1.00      0.50      0.67        18\n",
      "           7       1.00      0.22      0.36        18\n",
      "           8       0.97      1.00      0.98      3373\n",
      "\n",
      "    accuracy                           0.96      3593\n",
      "   macro avg       0.92      0.63      0.71      3593\n",
      "weighted avg       0.96      0.96      0.95      3593\n",
      "\n"
     ]
    }
   ],
   "source": [
    "y_pred = model.predict(X_test)\n",
    "print(set(y_pred))\n",
    "print(set(y_test))\n",
    "print('Accuracy score: ' + str(accuracy_score(y_test.to_numpy(), y_pred)))\n",
    "print('Recall score: ' + str(recall_score(y_test.to_numpy(), y_pred, average='macro')))\n",
    "print(classification_report(y_test.to_numpy(), y_pred))"
   ]
  },
  {
   "cell_type": "markdown",
   "metadata": {},
   "source": [
    "The achieved F1 score of 0.7 is promising, indicating a good performance level. Further hyperparameter tuning has the potential to push this score even higher."
   ]
  },
  {
   "cell_type": "code",
   "execution_count": 555,
   "metadata": {},
   "outputs": [
    {
     "name": "stdout",
     "output_type": "stream",
     "text": [
      "{0, 1, 2, 3, 4, 5, 6, 7, 8}\n",
      "{0, 1, 2, 3, 4, 5, 6, 7, 8}\n",
      "Accuracy score: 0.9990720979864526\n",
      "Recall score: 0.9893301070341806\n",
      "              precision    recall  f1-score   support\n",
      "\n",
      "           0       1.00      0.97      0.98        67\n",
      "           1       1.00      1.00      1.00         4\n",
      "           2       0.99      0.98      0.98       222\n",
      "           3       1.00      0.96      0.98        23\n",
      "           4       1.00      1.00      1.00       223\n",
      "           5       1.00      1.00      1.00        12\n",
      "           6       1.00      1.00      1.00        56\n",
      "           7       1.00      1.00      1.00        54\n",
      "           8       1.00      1.00      1.00     10116\n",
      "\n",
      "    accuracy                           1.00     10777\n",
      "   macro avg       1.00      0.99      0.99     10777\n",
      "weighted avg       1.00      1.00      1.00     10777\n",
      "\n"
     ]
    }
   ],
   "source": [
    "y_pred = model.predict(X_train)\n",
    "print(set(y_pred))\n",
    "print(set(y_test))\n",
    "print('Accuracy score: ' + str(accuracy_score(y_train.to_numpy(), y_pred)))\n",
    "print('Recall score: ' + str(recall_score(y_train.to_numpy(), y_pred, average='macro')))\n",
    "print(classification_report(y_train.to_numpy(), y_pred))"
   ]
  },
  {
   "cell_type": "markdown",
   "metadata": {},
   "source": [
    "However, the model is still overfitting the training data"
   ]
  },
  {
   "cell_type": "markdown",
   "metadata": {},
   "source": [
    "We will try to use other hyperparameters like `reg_lambda` used for regularization"
   ]
  },
  {
   "cell_type": "code",
   "execution_count": 558,
   "metadata": {},
   "outputs": [
    {
     "data": {
      "text/html": [
       "<style>#sk-container-id-58 {color: black;}#sk-container-id-58 pre{padding: 0;}#sk-container-id-58 div.sk-toggleable {background-color: white;}#sk-container-id-58 label.sk-toggleable__label {cursor: pointer;display: block;width: 100%;margin-bottom: 0;padding: 0.3em;box-sizing: border-box;text-align: center;}#sk-container-id-58 label.sk-toggleable__label-arrow:before {content: \"▸\";float: left;margin-right: 0.25em;color: #696969;}#sk-container-id-58 label.sk-toggleable__label-arrow:hover:before {color: black;}#sk-container-id-58 div.sk-estimator:hover label.sk-toggleable__label-arrow:before {color: black;}#sk-container-id-58 div.sk-toggleable__content {max-height: 0;max-width: 0;overflow: hidden;text-align: left;background-color: #f0f8ff;}#sk-container-id-58 div.sk-toggleable__content pre {margin: 0.2em;color: black;border-radius: 0.25em;background-color: #f0f8ff;}#sk-container-id-58 input.sk-toggleable__control:checked~div.sk-toggleable__content {max-height: 200px;max-width: 100%;overflow: auto;}#sk-container-id-58 input.sk-toggleable__control:checked~label.sk-toggleable__label-arrow:before {content: \"▾\";}#sk-container-id-58 div.sk-estimator input.sk-toggleable__control:checked~label.sk-toggleable__label {background-color: #d4ebff;}#sk-container-id-58 div.sk-label input.sk-toggleable__control:checked~label.sk-toggleable__label {background-color: #d4ebff;}#sk-container-id-58 input.sk-hidden--visually {border: 0;clip: rect(1px 1px 1px 1px);clip: rect(1px, 1px, 1px, 1px);height: 1px;margin: -1px;overflow: hidden;padding: 0;position: absolute;width: 1px;}#sk-container-id-58 div.sk-estimator {font-family: monospace;background-color: #f0f8ff;border: 1px dotted black;border-radius: 0.25em;box-sizing: border-box;margin-bottom: 0.5em;}#sk-container-id-58 div.sk-estimator:hover {background-color: #d4ebff;}#sk-container-id-58 div.sk-parallel-item::after {content: \"\";width: 100%;border-bottom: 1px solid gray;flex-grow: 1;}#sk-container-id-58 div.sk-label:hover label.sk-toggleable__label {background-color: #d4ebff;}#sk-container-id-58 div.sk-serial::before {content: \"\";position: absolute;border-left: 1px solid gray;box-sizing: border-box;top: 0;bottom: 0;left: 50%;z-index: 0;}#sk-container-id-58 div.sk-serial {display: flex;flex-direction: column;align-items: center;background-color: white;padding-right: 0.2em;padding-left: 0.2em;position: relative;}#sk-container-id-58 div.sk-item {position: relative;z-index: 1;}#sk-container-id-58 div.sk-parallel {display: flex;align-items: stretch;justify-content: center;background-color: white;position: relative;}#sk-container-id-58 div.sk-item::before, #sk-container-id-58 div.sk-parallel-item::before {content: \"\";position: absolute;border-left: 1px solid gray;box-sizing: border-box;top: 0;bottom: 0;left: 50%;z-index: -1;}#sk-container-id-58 div.sk-parallel-item {display: flex;flex-direction: column;z-index: 1;position: relative;background-color: white;}#sk-container-id-58 div.sk-parallel-item:first-child::after {align-self: flex-end;width: 50%;}#sk-container-id-58 div.sk-parallel-item:last-child::after {align-self: flex-start;width: 50%;}#sk-container-id-58 div.sk-parallel-item:only-child::after {width: 0;}#sk-container-id-58 div.sk-dashed-wrapped {border: 1px dashed gray;margin: 0 0.4em 0.5em 0.4em;box-sizing: border-box;padding-bottom: 0.4em;background-color: white;}#sk-container-id-58 div.sk-label label {font-family: monospace;font-weight: bold;display: inline-block;line-height: 1.2em;}#sk-container-id-58 div.sk-label-container {text-align: center;}#sk-container-id-58 div.sk-container {/* jupyter's `normalize.less` sets `[hidden] { display: none; }` but bootstrap.min.css set `[hidden] { display: none !important; }` so we also need the `!important` here to be able to override the default hidden behavior on the sphinx rendered scikit-learn.org. See: https://github.com/scikit-learn/scikit-learn/issues/21755 */display: inline-block !important;position: relative;}#sk-container-id-58 div.sk-text-repr-fallback {display: none;}</style><div id=\"sk-container-id-58\" class=\"sk-top-container\"><div class=\"sk-text-repr-fallback\"><pre>XGBClassifier(base_score=None, booster=None, callbacks=None,\n",
       "              colsample_bylevel=None, colsample_bynode=None,\n",
       "              colsample_bytree=None, device=None, early_stopping_rounds=None,\n",
       "              enable_categorical=False, eval_metric=None, feature_types=None,\n",
       "              gamma=0.2, grow_policy=None, importance_type=None,\n",
       "              interaction_constraints=None, learning_rate=None,\n",
       "              learninig_rate=0.01, max_bin=None, max_cat_threshold=None,\n",
       "              max_cat_to_onehot=None, max_delta_step=None, max_depth=3,\n",
       "              max_leaves=None, min_child_weight=1, missing=nan,\n",
       "              monotone_constraints=None, multi_strategy=None, n_estimators=100,\n",
       "              n_jobs=None, num_parallel_tree=None, ...)</pre><b>In a Jupyter environment, please rerun this cell to show the HTML representation or trust the notebook. <br />On GitHub, the HTML representation is unable to render, please try loading this page with nbviewer.org.</b></div><div class=\"sk-container\" hidden><div class=\"sk-item\"><div class=\"sk-estimator sk-toggleable\"><input class=\"sk-toggleable__control sk-hidden--visually\" id=\"sk-estimator-id-58\" type=\"checkbox\" checked><label for=\"sk-estimator-id-58\" class=\"sk-toggleable__label sk-toggleable__label-arrow\">XGBClassifier</label><div class=\"sk-toggleable__content\"><pre>XGBClassifier(base_score=None, booster=None, callbacks=None,\n",
       "              colsample_bylevel=None, colsample_bynode=None,\n",
       "              colsample_bytree=None, device=None, early_stopping_rounds=None,\n",
       "              enable_categorical=False, eval_metric=None, feature_types=None,\n",
       "              gamma=0.2, grow_policy=None, importance_type=None,\n",
       "              interaction_constraints=None, learning_rate=None,\n",
       "              learninig_rate=0.01, max_bin=None, max_cat_threshold=None,\n",
       "              max_cat_to_onehot=None, max_delta_step=None, max_depth=3,\n",
       "              max_leaves=None, min_child_weight=1, missing=nan,\n",
       "              monotone_constraints=None, multi_strategy=None, n_estimators=100,\n",
       "              n_jobs=None, num_parallel_tree=None, ...)</pre></div></div></div></div></div>"
      ],
      "text/plain": [
       "XGBClassifier(base_score=None, booster=None, callbacks=None,\n",
       "              colsample_bylevel=None, colsample_bynode=None,\n",
       "              colsample_bytree=None, device=None, early_stopping_rounds=None,\n",
       "              enable_categorical=False, eval_metric=None, feature_types=None,\n",
       "              gamma=0.2, grow_policy=None, importance_type=None,\n",
       "              interaction_constraints=None, learning_rate=None,\n",
       "              learninig_rate=0.01, max_bin=None, max_cat_threshold=None,\n",
       "              max_cat_to_onehot=None, max_delta_step=None, max_depth=3,\n",
       "              max_leaves=None, min_child_weight=1, missing=nan,\n",
       "              monotone_constraints=None, multi_strategy=None, n_estimators=100,\n",
       "              n_jobs=None, num_parallel_tree=None, ...)"
      ]
     },
     "execution_count": 558,
     "metadata": {},
     "output_type": "execute_result"
    }
   ],
   "source": [
    "model = XGBClassifier(n_estimators=100, max_depth=3, learninig_rate=0.01 ,objective='multi:softprob', reg_lambda=3, min_child_weight=1, gamma=0.2, random_state=1)\n",
    "model.fit(X_train, y_train)"
   ]
  },
  {
   "cell_type": "code",
   "execution_count": 559,
   "metadata": {},
   "outputs": [
    {
     "name": "stdout",
     "output_type": "stream",
     "text": [
      "{0, 1, 2, 3, 4, 5, 6, 7, 8}\n",
      "{0, 1, 2, 3, 4, 5, 6, 7, 8}\n",
      "Accuracy score: 0.96214862232118\n",
      "Recall score: 0.6420469449628974\n",
      "              precision    recall  f1-score   support\n",
      "\n",
      "           0       0.92      0.48      0.63        23\n",
      "           1       1.00      1.00      1.00         1\n",
      "           2       0.90      0.49      0.63        74\n",
      "           3       0.86      0.75      0.80         8\n",
      "           4       0.72      0.18      0.28        74\n",
      "           5       1.00      1.00      1.00         4\n",
      "           6       1.00      0.67      0.80        18\n",
      "           7       1.00      0.22      0.36        18\n",
      "           8       0.96      1.00      0.98      3373\n",
      "\n",
      "    accuracy                           0.96      3593\n",
      "   macro avg       0.93      0.64      0.72      3593\n",
      "weighted avg       0.96      0.96      0.95      3593\n",
      "\n"
     ]
    }
   ],
   "source": [
    "y_pred = model.predict(X_test)\n",
    "print(set(y_pred))\n",
    "print(set(y_test))\n",
    "print('Accuracy score: ' + str(accuracy_score(y_test.to_numpy(), y_pred)))\n",
    "print('Recall score: ' + str(recall_score(y_test.to_numpy(), y_pred, average='macro')))\n",
    "print(classification_report(y_test.to_numpy(), y_pred))"
   ]
  },
  {
   "cell_type": "markdown",
   "metadata": {},
   "source": [
    "We can see a slight improvement of accuracy, and F1 score, we believe that further hyperparameter tuning of `reg_lambda`, `gamma`, and `min_child_weight` will yield better results, by reducing overfitting"
   ]
  },
  {
   "cell_type": "code",
   "execution_count": 560,
   "metadata": {},
   "outputs": [
    {
     "name": "stdout",
     "output_type": "stream",
     "text": [
      "{0, 1, 2, 3, 4, 5, 6, 7, 8}\n",
      "{0, 1, 2, 3, 4, 5, 6, 7, 8}\n",
      "Accuracy score: 0.9922984132875569\n",
      "Recall score: 0.9402755870715028\n",
      "              precision    recall  f1-score   support\n",
      "\n",
      "           0       0.99      0.99      0.99        67\n",
      "           1       1.00      1.00      1.00         4\n",
      "           2       1.00      0.89      0.94       222\n",
      "           3       0.96      1.00      0.98        23\n",
      "           4       1.00      0.79      0.89       223\n",
      "           5       1.00      1.00      1.00        12\n",
      "           6       1.00      1.00      1.00        56\n",
      "           7       1.00      0.80      0.89        54\n",
      "           8       0.99      1.00      1.00     10116\n",
      "\n",
      "    accuracy                           0.99     10777\n",
      "   macro avg       0.99      0.94      0.96     10777\n",
      "weighted avg       0.99      0.99      0.99     10777\n",
      "\n"
     ]
    }
   ],
   "source": [
    "y_pred = model.predict(X_train)\n",
    "print(set(y_pred))\n",
    "print(set(y_test))\n",
    "print('Accuracy score: ' + str(accuracy_score(y_train.to_numpy(), y_pred)))\n",
    "print('Recall score: ' + str(recall_score(y_train.to_numpy(), y_pred, average='macro')))\n",
    "print(classification_report(y_train.to_numpy(), y_pred))"
   ]
  },
  {
   "cell_type": "markdown",
   "metadata": {},
   "source": [
    "### Using Deep Learning"
   ]
  },
  {
   "cell_type": "markdown",
   "metadata": {},
   "source": [
    "Upon extensively exploring various classical machine learning techniques, we've decided to pivot our approach toward addressing the challenge through the use of deep learning"
   ]
  },
  {
   "cell_type": "code",
   "execution_count": 109,
   "metadata": {},
   "outputs": [
    {
     "name": "stdout",
     "output_type": "stream",
     "text": [
      "WARNING:tensorflow:From d:\\machine_learning\\projects\\lynceus_assign\\.venv\\Lib\\site-packages\\keras\\src\\losses.py:2976: The name tf.losses.sparse_softmax_cross_entropy is deprecated. Please use tf.compat.v1.losses.sparse_softmax_cross_entropy instead.\n",
      "\n"
     ]
    }
   ],
   "source": [
    "import tensorflow as tf"
   ]
  },
  {
   "cell_type": "code",
   "execution_count": 564,
   "metadata": {},
   "outputs": [],
   "source": [
    "X_train, X_test, y_train, y_test = train_test_split(X, labels, test_size = 0.5, stratify=labels)"
   ]
  },
  {
   "cell_type": "code",
   "execution_count": 565,
   "metadata": {},
   "outputs": [],
   "source": [
    "X_val, X_test, y_val, y_test = train_test_split(X_test, y_test, test_size = 0.5, stratify=y_test)"
   ]
  },
  {
   "cell_type": "code",
   "execution_count": 566,
   "metadata": {},
   "outputs": [],
   "source": [
    "tf_df_train = tf.data.Dataset.from_tensor_slices((X_train,y_train['label_encoded']))\n",
    "tf_df_val = tf.data.Dataset.from_tensor_slices((X_val,y_val['label_encoded']))"
   ]
  },
  {
   "cell_type": "code",
   "execution_count": 567,
   "metadata": {},
   "outputs": [],
   "source": [
    "def reshape_to_image(image, label=None) :\n",
    "    if label is None : \n",
    "        return tf.transpose(tf.reshape(image, (3, 26, 26)), perm=[1,2,0])\n",
    "    return tf.transpose(tf.reshape(image, (3, 26, 26)), perm=[1,2,0]), label"
   ]
  },
  {
   "cell_type": "code",
   "execution_count": 568,
   "metadata": {},
   "outputs": [],
   "source": [
    "tf_df_train = tf_df_train.map(reshape_to_image)\n",
    "tf_df_val = tf_df_val.map(reshape_to_image)"
   ]
  },
  {
   "cell_type": "code",
   "execution_count": 569,
   "metadata": {},
   "outputs": [
    {
     "name": "stdout",
     "output_type": "stream",
     "text": [
      "tf.Tensor(8, shape=(), dtype=int32)\n"
     ]
    },
    {
     "data": {
      "image/png": "[encoded data removed]",
      "text/plain": [
       "<Figure size 640x480 with 1 Axes>"
      ]
     },
     "metadata": {},
     "output_type": "display_data"
    }
   ],
   "source": [
    "for image, label in tf_df_train.take(1) : \n",
    "    print(label)\n",
    "    plt.imshow(image)  "
   ]
  },
  {
   "cell_type": "code",
   "execution_count": 570,
   "metadata": {},
   "outputs": [],
   "source": [
    "tf_df_train = tf_df_train.batch(32)\n",
    "tf_df_val = tf_df_val.batch(32)"
   ]
  },
  {
   "cell_type": "code",
   "execution_count": 571,
   "metadata": {},
   "outputs": [
    {
     "data": {
      "text/plain": [
       "TensorShape([14370, 9])"
      ]
     },
     "execution_count": 571,
     "metadata": {},
     "output_type": "execute_result"
    }
   ],
   "source": [
    "result = tf.one_hot(labels['label_encoded'], len(labels['label_encoded'].unique()))\n",
    "result.shape"
   ]
  },
  {
   "cell_type": "markdown",
   "metadata": {},
   "source": [
    "We define our own metrics to compute the f1_macro, precision_macro and recall_macro scores"
   ]
  },
  {
   "cell_type": "code",
   "execution_count": 572,
   "metadata": {},
   "outputs": [],
   "source": [
    "def macro_f1_score(y_true, y_pred):\n",
    "    unique_labels = tf.cast(tf.unique(tf.reshape(y_true, [-1])).y, tf.float32)\n",
    "    num_classes = tf.shape(unique_labels)[0]\n",
    "    y_true = tf.cast(y_true, tf.float32)\n",
    "    f1_score = 0.\n",
    "    \n",
    "    for i in range(num_classes):\n",
    "        class_label = unique_labels[i]\n",
    "\n",
    "        true_positives = tf.keras.backend.sum(\n",
    "            tf.keras.backend.cast(\n",
    "                tf.logical_and(tf.equal(y_true, class_label), tf.equal(tf.keras.backend.argmax(y_pred, axis=-1), tf.cast(class_label, tf.int64))), 'float'\n",
    "            )\n",
    "        )\n",
    "        \n",
    "        possible_positives = tf.keras.backend.sum(tf.cast(tf.equal(y_true, class_label), 'float'))\n",
    "        predicted_positives = tf.keras.backend.sum(tf.cast(tf.equal(tf.keras.backend.argmax(y_pred, axis=-1), tf.cast(class_label, tf.int64)), 'float'))\n",
    "        #print(f\"i : {i} class_label : {class_label} true_positives : {true_positives} possible_positives : {possible_positives} predicted_positives : {predicted_positives}\")\n",
    "        precision = true_positives / (predicted_positives + tf.keras.backend.epsilon())\n",
    "        recall = true_positives / (possible_positives + tf.keras.backend.epsilon())\n",
    "        \n",
    "        f1 = 2 * (precision * recall) / (precision + recall + tf.keras.backend.epsilon())\n",
    "\n",
    "        f1_score += f1\n",
    "    \n",
    "    return f1_score\n",
    "\n",
    "def macro_precision_score(y_true, y_pred):\n",
    "    unique_labels = tf.cast(tf.unique(tf.reshape(y_true, [-1])).y, tf.float32)\n",
    "    num_classes = tf.shape(unique_labels)[0]\n",
    "    y_true = tf.cast(y_true, tf.float32)\n",
    "    precision_score = 0.\n",
    "    \n",
    "    for i in range(num_classes):\n",
    "        class_label = unique_labels[i]\n",
    "\n",
    "        true_positives = tf.keras.backend.sum(\n",
    "            tf.keras.backend.cast(\n",
    "                tf.logical_and(tf.equal(y_true, class_label), tf.equal(tf.keras.backend.argmax(y_pred, axis=-1), tf.cast(class_label, tf.int64))), 'float'\n",
    "            )\n",
    "        )\n",
    "        predicted_positives = tf.keras.backend.sum(tf.cast(tf.equal(tf.keras.backend.argmax(y_pred, axis=-1), tf.cast(class_label, tf.int64)), 'float'))\n",
    "        \n",
    "        precision = true_positives / (predicted_positives + tf.keras.backend.epsilon())\n",
    "        \n",
    "        precision_score += precision\n",
    "    \n",
    "    return precision_score\n",
    "\n",
    "def macro_recall_score(y_true, y_pred):\n",
    "    unique_labels = tf.cast(tf.unique(tf.reshape(y_true, [-1])).y, tf.float32)\n",
    "    num_classes = tf.shape(unique_labels)[0]\n",
    "    y_true = tf.cast(y_true, tf.float32)\n",
    "    recall_score = 0.\n",
    "    \n",
    "    for i in range(num_classes):\n",
    "        class_label = unique_labels[i]\n",
    "\n",
    "        true_positives = tf.keras.backend.sum(\n",
    "            tf.keras.backend.cast(\n",
    "                tf.logical_and(tf.equal(y_true, class_label), tf.equal(tf.keras.backend.argmax(y_pred, axis=-1), tf.cast(class_label, tf.int64))), 'float'\n",
    "            )\n",
    "        )\n",
    "        \n",
    "        possible_positives = tf.keras.backend.sum(tf.cast(tf.equal(y_true, class_label), 'float'))\n",
    "        \n",
    "        recall = true_positives / (possible_positives + tf.keras.backend.epsilon())\n",
    "\n",
    "        recall_score += recall\n",
    "    \n",
    "    return recall_score"
   ]
  },
  {
   "cell_type": "code",
   "execution_count": 573,
   "metadata": {},
   "outputs": [
    {
     "data": {
      "text/plain": [
       "'Test\\ny_pred = [[0.4,0.2,1],[9, 20, 34], [34,55,66],[32,75,12],[78,12,14],[13,55,34]]\\ny_pred_ = [2, 2, 2, 1, 0, 1]\\ny_true =  [1, 2, 2, 2, 1, 0]\\nmacro_f1_score(y_true, y_pred)\\n'"
      ]
     },
     "execution_count": 573,
     "metadata": {},
     "output_type": "execute_result"
    }
   ],
   "source": [
    "'''Test\n",
    "y_pred = [[0.4,0.2,1],[9, 20, 34], [34,55,66],[32,75,12],[78,12,14],[13,55,34]]\n",
    "y_pred_ = [2, 2, 2, 1, 0, 1]\n",
    "y_true =  [1, 2, 2, 2, 1, 0]\n",
    "macro_f1_score(y_true, y_pred)\n",
    "'''"
   ]
  },
  {
   "cell_type": "code",
   "execution_count": 574,
   "metadata": {},
   "outputs": [
    {
     "name": "stdout",
     "output_type": "stream",
     "text": [
      "Epoch 1/10\n",
      "225/225 [==============================] - 3s 7ms/step - loss: 0.3166 - sca: 0.9338 - f1: 30.7659 - p: 30.3556 - r: 31.4222 - val_loss: 0.6332 - val_sca: 0.9401 - val_f1: 30.8531 - val_p: 30.0708 - val_r: 31.7522\n",
      "Epoch 2/10\n",
      "225/225 [==============================] - 1s 6ms/step - loss: 0.2218 - sca: 0.9459 - f1: 31.0606 - p: 30.6444 - r: 31.6133 - val_loss: 0.1683 - val_sca: 0.9465 - val_f1: 30.9578 - val_p: 30.4159 - val_r: 31.6195\n",
      "Epoch 3/10\n",
      "225/225 [==============================] - 1s 6ms/step - loss: 0.1885 - sca: 0.9492 - f1: 31.0845 - p: 30.6489 - r: 31.6444 - val_loss: 0.1505 - val_sca: 0.9488 - val_f1: 30.9661 - val_p: 30.3451 - val_r: 31.6903\n",
      "Epoch 4/10\n",
      "225/225 [==============================] - 1s 6ms/step - loss: 0.1740 - sca: 0.9506 - f1: 31.1359 - p: 30.7378 - r: 31.6533 - val_loss: 0.1467 - val_sca: 0.9507 - val_f1: 30.9979 - val_p: 30.4956 - val_r: 31.6283\n",
      "Epoch 5/10\n",
      "225/225 [==============================] - 1s 6ms/step - loss: 0.1507 - sca: 0.9520 - f1: 31.1704 - p: 30.8533 - r: 31.6222 - val_loss: 0.1512 - val_sca: 0.9563 - val_f1: 30.9878 - val_p: 30.6195 - val_r: 31.4956\n",
      "Epoch 6/10\n",
      "225/225 [==============================] - 1s 6ms/step - loss: 0.1624 - sca: 0.9530 - f1: 31.1397 - p: 30.8356 - r: 31.5644 - val_loss: 0.1398 - val_sca: 0.9530 - val_f1: 30.9878 - val_p: 30.4602 - val_r: 31.6195\n",
      "Epoch 7/10\n",
      "225/225 [==============================] - 1s 6ms/step - loss: 0.1547 - sca: 0.9528 - f1: 31.1495 - p: 30.8889 - r: 31.5244 - val_loss: 0.1339 - val_sca: 0.9577 - val_f1: 31.0944 - val_p: 30.6814 - val_r: 31.6283\n",
      "Epoch 8/10\n",
      "225/225 [==============================] - 1s 6ms/step - loss: 0.1485 - sca: 0.9539 - f1: 31.0966 - p: 30.8933 - r: 31.4222 - val_loss: 0.1650 - val_sca: 0.9568 - val_f1: 31.1084 - val_p: 30.7788 - val_r: 31.5398\n",
      "Epoch 9/10\n",
      "225/225 [==============================] - 1s 6ms/step - loss: 0.1454 - sca: 0.9560 - f1: 31.1743 - p: 31.0311 - r: 31.4489 - val_loss: 0.1326 - val_sca: 0.9630 - val_f1: 31.1273 - val_p: 30.9823 - val_r: 31.4071\n",
      "Epoch 10/10\n",
      "225/225 [==============================] - 1s 6ms/step - loss: 0.1488 - sca: 0.9546 - f1: 31.1332 - p: 30.9511 - r: 31.4400 - val_loss: 0.1687 - val_sca: 0.9602 - val_f1: 31.0795 - val_p: 30.7876 - val_r: 31.4956\n"
     ]
    }
   ],
   "source": [
    "model_conv = tf.keras.Sequential([\n",
    "    tf.keras.layers.Conv2D(8, 3, padding=\"same\", activation = \"relu\", input_shape=(26,26,3)),\n",
    "    tf.keras.layers.MaxPool2D(2,2),\n",
    "    tf.keras.layers.BatchNormalization(),\n",
    "    tf.keras.layers.Conv2D(16, 3, padding=\"same\", activation = \"relu\",),\n",
    "    tf.keras.layers.MaxPool2D(2,2),\n",
    "    tf.keras.layers.BatchNormalization(),\n",
    "    tf.keras.layers.Conv2D(32, 3, padding=\"same\", activation = \"relu\",),\n",
    "    tf.keras.layers.Dropout(0.5),\n",
    "    tf.keras.layers.MaxPool2D(2,2),\n",
    "    tf.keras.layers.BatchNormalization(),\n",
    "    tf.keras.layers.Flatten(),\n",
    "    tf.keras.layers.Dense(64, activation = \"relu\"),\n",
    "    tf.keras.layers.Dropout(0.5),\n",
    "    tf.keras.layers.Dense(9)\n",
    "])\n",
    "\n",
    "model_conv.compile(\n",
    "    optimizer = tf.keras.optimizers.Adam(0.01),\n",
    "    loss = tf.keras.losses.SparseCategoricalCrossentropy(from_logits = True),\n",
    "    metrics = [tf.keras.metrics.SparseCategoricalAccuracy(name=\"sca\"), \n",
    "               tf.keras.metrics.MeanMetricWrapper(macro_f1_score, name='f1'),\n",
    "               tf.keras.metrics.MeanMetricWrapper(macro_precision_score, name='p'),\n",
    "               tf.keras.metrics.MeanMetricWrapper(macro_recall_score, name='r')]\n",
    ")\n",
    "\n",
    "history = model_conv.fit(\n",
    "    tf_df_train,\n",
    "    epochs = 10,\n",
    "    validation_data = tf_df_val\n",
    ")"
   ]
  },
  {
   "cell_type": "code",
   "execution_count": 575,
   "metadata": {},
   "outputs": [
    {
     "name": "stdout",
     "output_type": "stream",
     "text": [
      "3593/3593 [==============================] - 5s 1ms/step\n"
     ]
    }
   ],
   "source": [
    "y_pred = tf.argmax(model_conv.predict(tf.data.Dataset.from_tensor_slices(X_test).map(reshape_to_image).batch(1)), axis=-1)"
   ]
  },
  {
   "cell_type": "code",
   "execution_count": 576,
   "metadata": {},
   "outputs": [
    {
     "name": "stdout",
     "output_type": "stream",
     "text": [
      "Accuracy score: 0.9576955190648483\n",
      "Recall score: 0.2505536636745054\n",
      "              precision    recall  f1-score   support\n",
      "\n",
      "           0       0.75      0.39      0.51        23\n",
      "           1       0.00      0.00      0.00         1\n",
      "           2       0.42      0.51      0.46        74\n",
      "           3       0.00      0.00      0.00         8\n",
      "           4       0.81      0.35      0.49        74\n",
      "           5       0.00      0.00      0.00         4\n",
      "           6       0.00      0.00      0.00        19\n",
      "           7       0.00      0.00      0.00        18\n",
      "           8       0.97      1.00      0.99      3372\n",
      "\n",
      "    accuracy                           0.96      3593\n",
      "   macro avg       0.33      0.25      0.27      3593\n",
      "weighted avg       0.94      0.96      0.95      3593\n",
      "\n"
     ]
    }
   ],
   "source": [
    "print('Accuracy score: ' + str(accuracy_score(y_test['label_encoded'], y_pred)))\n",
    "print('Recall score: ' + str(recall_score(y_test['label_encoded'], y_pred, average='macro')))\n",
    "print(classification_report(y_test['label_encoded'], y_pred, zero_division=\"warn\"))"
   ]
  },
  {
   "cell_type": "code",
   "execution_count": 577,
   "metadata": {},
   "outputs": [
    {
     "name": "stdout",
     "output_type": "stream",
     "text": [
      "Epoch 1/100\n",
      "225/225 [==============================] - 1s 3ms/step - loss: 0.3145 - sca: 0.9363 - f1: 30.8416 - val_loss: 0.2879 - val_sca: 0.9388 - val_f1: 30.7568\n",
      "Epoch 2/100\n",
      "225/225 [==============================] - 0s 2ms/step - loss: 0.2488 - sca: 0.9411 - f1: 30.9297 - val_loss: 0.2868 - val_sca: 0.9393 - val_f1: 30.7617\n",
      "Epoch 3/100\n",
      "225/225 [==============================] - 0s 2ms/step - loss: 0.2318 - sca: 0.9436 - f1: 30.9920 - val_loss: 0.2928 - val_sca: 0.9435 - val_f1: 30.8275\n",
      "Epoch 4/100\n",
      "225/225 [==============================] - 0s 2ms/step - loss: 0.2225 - sca: 0.9459 - f1: 31.0208 - val_loss: 0.2949 - val_sca: 0.9443 - val_f1: 30.8640\n",
      "Epoch 5/100\n",
      "225/225 [==============================] - 0s 2ms/step - loss: 0.2112 - sca: 0.9463 - f1: 31.0150 - val_loss: 0.2975 - val_sca: 0.9440 - val_f1: 30.8470\n",
      "Epoch 6/100\n",
      "225/225 [==============================] - 0s 2ms/step - loss: 0.2083 - sca: 0.9481 - f1: 31.0625 - val_loss: 0.2837 - val_sca: 0.9449 - val_f1: 30.8623\n",
      "Epoch 7/100\n",
      "225/225 [==============================] - 0s 2ms/step - loss: 0.1830 - sca: 0.9528 - f1: 31.1277 - val_loss: 0.2964 - val_sca: 0.9482 - val_f1: 30.9187\n",
      "Epoch 8/100\n",
      "225/225 [==============================] - 0s 2ms/step - loss: 0.1741 - sca: 0.9556 - f1: 31.2162 - val_loss: 0.3030 - val_sca: 0.9457 - val_f1: 30.8872\n",
      "Epoch 9/100\n",
      "225/225 [==============================] - 0s 2ms/step - loss: 0.1681 - sca: 0.9552 - f1: 31.1817 - val_loss: 0.3335 - val_sca: 0.9460 - val_f1: 30.8915\n",
      "Epoch 10/100\n",
      "225/225 [==============================] - 0s 2ms/step - loss: 0.1521 - sca: 0.9589 - f1: 31.2637 - val_loss: 0.3387 - val_sca: 0.9463 - val_f1: 30.8792\n",
      "Epoch 11/100\n",
      "225/225 [==============================] - 0s 2ms/step - loss: 0.1379 - sca: 0.9606 - f1: 31.3186 - val_loss: 0.3258 - val_sca: 0.9468 - val_f1: 30.9026\n",
      "Epoch 12/100\n",
      "225/225 [==============================] - 0s 2ms/step - loss: 0.1251 - sca: 0.9649 - f1: 31.3957 - val_loss: 0.3181 - val_sca: 0.9477 - val_f1: 30.9090\n",
      "Epoch 13/100\n",
      "225/225 [==============================] - 0s 2ms/step - loss: 0.1144 - sca: 0.9667 - f1: 31.4251 - val_loss: 0.3304 - val_sca: 0.9477 - val_f1: 30.9119\n",
      "Epoch 14/100\n",
      "225/225 [==============================] - 0s 2ms/step - loss: 0.1126 - sca: 0.9665 - f1: 31.4195 - val_loss: 0.3342 - val_sca: 0.9496 - val_f1: 30.9678\n",
      "Epoch 15/100\n",
      "225/225 [==============================] - 0s 2ms/step - loss: 0.0993 - sca: 0.9708 - f1: 31.4962 - val_loss: 0.3461 - val_sca: 0.9491 - val_f1: 30.9676\n",
      "Epoch 16/100\n",
      "225/225 [==============================] - 0s 2ms/step - loss: 0.0930 - sca: 0.9727 - f1: 31.5275 - val_loss: 0.3470 - val_sca: 0.9485 - val_f1: 30.9536\n",
      "Epoch 17/100\n",
      "225/225 [==============================] - 0s 2ms/step - loss: 0.0872 - sca: 0.9759 - f1: 31.5614 - val_loss: 0.3611 - val_sca: 0.9479 - val_f1: 30.9323\n",
      "Epoch 18/100\n",
      "225/225 [==============================] - 0s 2ms/step - loss: 0.0874 - sca: 0.9752 - f1: 31.5593 - val_loss: 0.3543 - val_sca: 0.9493 - val_f1: 30.9688\n",
      "Epoch 19/100\n",
      "225/225 [==============================] - 0s 2ms/step - loss: 0.0770 - sca: 0.9775 - f1: 31.5877 - val_loss: 0.3438 - val_sca: 0.9496 - val_f1: 30.9773\n",
      "Epoch 20/100\n",
      "225/225 [==============================] - 0s 2ms/step - loss: 0.0732 - sca: 0.9808 - f1: 31.6384 - val_loss: 0.3481 - val_sca: 0.9493 - val_f1: 30.9629\n",
      "Epoch 21/100\n",
      "225/225 [==============================] - 0s 2ms/step - loss: 0.0668 - sca: 0.9811 - f1: 31.6490 - val_loss: 0.3544 - val_sca: 0.9493 - val_f1: 30.9705\n",
      "Epoch 22/100\n",
      "225/225 [==============================] - 0s 2ms/step - loss: 0.0647 - sca: 0.9815 - f1: 31.6504 - val_loss: 0.3545 - val_sca: 0.9488 - val_f1: 30.9696\n",
      "Epoch 23/100\n",
      "225/225 [==============================] - 0s 2ms/step - loss: 0.3981 - sca: 0.9653 - f1: 31.3465 - val_loss: 0.3884 - val_sca: 0.9440 - val_f1: 30.8166\n",
      "Epoch 24/100\n",
      "225/225 [==============================] - 0s 2ms/step - loss: 0.1589 - sca: 0.9591 - f1: 31.2680 - val_loss: 0.3586 - val_sca: 0.9468 - val_f1: 30.8830\n",
      "Epoch 25/100\n",
      "225/225 [==============================] - 0s 2ms/step - loss: 0.1446 - sca: 0.9624 - f1: 31.3386 - val_loss: 0.3438 - val_sca: 0.9471 - val_f1: 30.8910\n",
      "Epoch 26/100\n",
      "225/225 [==============================] - 0s 2ms/step - loss: 0.1274 - sca: 0.9640 - f1: 31.3579 - val_loss: 0.3438 - val_sca: 0.9474 - val_f1: 30.9048\n",
      "Epoch 27/100\n",
      "225/225 [==============================] - 0s 2ms/step - loss: 0.1092 - sca: 0.9695 - f1: 31.4407 - val_loss: 0.3517 - val_sca: 0.9452 - val_f1: 30.8435\n",
      "Epoch 28/100\n",
      "225/225 [==============================] - 0s 2ms/step - loss: 0.1293 - sca: 0.9658 - f1: 31.3962 - val_loss: 0.3503 - val_sca: 0.9460 - val_f1: 30.8845\n",
      "Epoch 29/100\n",
      "225/225 [==============================] - 0s 2ms/step - loss: 0.1069 - sca: 0.9711 - f1: 31.4949 - val_loss: 0.3676 - val_sca: 0.9479 - val_f1: 30.9183\n",
      "Epoch 30/100\n",
      "225/225 [==============================] - 0s 2ms/step - loss: 0.1046 - sca: 0.9711 - f1: 31.4946 - val_loss: 0.3742 - val_sca: 0.9479 - val_f1: 30.9477\n",
      "Epoch 31/100\n",
      "225/225 [==============================] - 0s 2ms/step - loss: 0.0899 - sca: 0.9738 - f1: 31.5197 - val_loss: 0.3949 - val_sca: 0.9485 - val_f1: 30.9360\n",
      "Epoch 32/100\n",
      "225/225 [==============================] - 0s 2ms/step - loss: 0.0814 - sca: 0.9772 - f1: 31.5517 - val_loss: 0.3916 - val_sca: 0.9477 - val_f1: 30.9592\n",
      "Epoch 33/100\n",
      "225/225 [==============================] - 0s 2ms/step - loss: 0.0750 - sca: 0.9790 - f1: 31.5841 - val_loss: 0.3927 - val_sca: 0.9485 - val_f1: 30.9786\n",
      "Epoch 34/100\n",
      "225/225 [==============================] - 0s 2ms/step - loss: 0.0806 - sca: 0.9776 - f1: 31.5702 - val_loss: 0.4023 - val_sca: 0.9482 - val_f1: 30.9621\n",
      "Epoch 35/100\n",
      "225/225 [==============================] - 0s 2ms/step - loss: 0.1050 - sca: 0.9733 - f1: 31.5180 - val_loss: 0.3896 - val_sca: 0.9471 - val_f1: 30.9630\n",
      "Epoch 36/100\n",
      "225/225 [==============================] - 0s 2ms/step - loss: 0.0709 - sca: 0.9794 - f1: 31.6103 - val_loss: 0.3958 - val_sca: 0.9477 - val_f1: 30.9656\n",
      "Epoch 37/100\n",
      "225/225 [==============================] - 0s 2ms/step - loss: 0.1060 - sca: 0.9730 - f1: 31.4765 - val_loss: 0.4057 - val_sca: 0.9477 - val_f1: 30.9601\n",
      "Epoch 38/100\n",
      "225/225 [==============================] - 0s 2ms/step - loss: 0.0748 - sca: 0.9777 - f1: 31.5850 - val_loss: 0.4017 - val_sca: 0.9474 - val_f1: 30.9806\n",
      "Epoch 39/100\n",
      "225/225 [==============================] - 0s 2ms/step - loss: 0.0845 - sca: 0.9772 - f1: 31.5744 - val_loss: 0.4027 - val_sca: 0.9454 - val_f1: 30.9630\n",
      "Epoch 40/100\n",
      "225/225 [==============================] - 0s 2ms/step - loss: 0.0663 - sca: 0.9819 - f1: 31.6287 - val_loss: 0.4115 - val_sca: 0.9460 - val_f1: 30.9765\n",
      "Epoch 41/100\n",
      "225/225 [==============================] - 0s 2ms/step - loss: 0.0592 - sca: 0.9854 - f1: 31.6903 - val_loss: 0.4128 - val_sca: 0.9454 - val_f1: 30.9709\n",
      "Epoch 42/100\n",
      "225/225 [==============================] - 0s 2ms/step - loss: 0.0540 - sca: 0.9866 - f1: 31.7146 - val_loss: 0.4249 - val_sca: 0.9443 - val_f1: 30.9473\n",
      "Epoch 43/100\n",
      "225/225 [==============================] - 0s 2ms/step - loss: 0.0514 - sca: 0.9875 - f1: 31.7213 - val_loss: 0.4410 - val_sca: 0.9443 - val_f1: 30.9577\n",
      "Epoch 44/100\n",
      "225/225 [==============================] - 0s 2ms/step - loss: 0.0541 - sca: 0.9865 - f1: 31.6951 - val_loss: 0.4566 - val_sca: 0.9452 - val_f1: 30.9670\n",
      "Epoch 45/100\n",
      "225/225 [==============================] - 0s 2ms/step - loss: 0.0466 - sca: 0.9884 - f1: 31.7273 - val_loss: 0.4588 - val_sca: 0.9435 - val_f1: 30.9524\n",
      "Epoch 46/100\n",
      "225/225 [==============================] - 0s 2ms/step - loss: 0.0943 - sca: 0.9762 - f1: 31.5552 - val_loss: 0.4404 - val_sca: 0.9438 - val_f1: 30.9598\n",
      "Epoch 47/100\n",
      "225/225 [==============================] - 0s 2ms/step - loss: 0.0430 - sca: 0.9880 - f1: 31.7207 - val_loss: 0.4623 - val_sca: 0.9435 - val_f1: 30.9364\n",
      "Epoch 48/100\n",
      "225/225 [==============================] - 0s 2ms/step - loss: 0.0386 - sca: 0.9903 - f1: 31.7540 - val_loss: 0.4634 - val_sca: 0.9435 - val_f1: 30.9442\n",
      "Epoch 49/100\n",
      "225/225 [==============================] - 0s 2ms/step - loss: 0.0345 - sca: 0.9922 - f1: 31.7820 - val_loss: 0.4751 - val_sca: 0.9424 - val_f1: 30.9597\n",
      "Epoch 50/100\n",
      "225/225 [==============================] - 0s 2ms/step - loss: 0.0349 - sca: 0.9912 - f1: 31.7705 - val_loss: 0.4899 - val_sca: 0.9418 - val_f1: 30.9712\n",
      "Epoch 51/100\n",
      "225/225 [==============================] - 0s 2ms/step - loss: 0.0298 - sca: 0.9932 - f1: 31.8021 - val_loss: 0.4995 - val_sca: 0.9415 - val_f1: 30.9681\n",
      "Epoch 52/100\n",
      "225/225 [==============================] - 0s 2ms/step - loss: 0.0479 - sca: 0.9896 - f1: 31.7469 - val_loss: 0.5027 - val_sca: 0.9432 - val_f1: 30.9694\n",
      "Epoch 53/100\n",
      "225/225 [==============================] - 0s 2ms/step - loss: 0.3531 - sca: 0.9534 - f1: 31.1569 - val_loss: 0.5944 - val_sca: 0.9429 - val_f1: 30.8831\n",
      "Epoch 54/100\n",
      "225/225 [==============================] - 0s 2ms/step - loss: 0.2047 - sca: 0.9505 - f1: 31.2022 - val_loss: 0.5060 - val_sca: 0.9424 - val_f1: 30.8914\n",
      "Epoch 55/100\n",
      "225/225 [==============================] - 0s 2ms/step - loss: 0.1543 - sca: 0.9587 - f1: 31.2841 - val_loss: 0.4408 - val_sca: 0.9427 - val_f1: 30.9111\n",
      "Epoch 56/100\n",
      "225/225 [==============================] - 0s 2ms/step - loss: 0.1419 - sca: 0.9588 - f1: 31.2499 - val_loss: 0.4433 - val_sca: 0.9421 - val_f1: 30.9074\n",
      "Epoch 57/100\n",
      "225/225 [==============================] - 0s 2ms/step - loss: 0.1283 - sca: 0.9624 - f1: 31.3107 - val_loss: 0.4503 - val_sca: 0.9418 - val_f1: 30.9062\n",
      "Epoch 58/100\n",
      "225/225 [==============================] - 0s 2ms/step - loss: 0.1223 - sca: 0.9640 - f1: 31.3304 - val_loss: 0.4556 - val_sca: 0.9413 - val_f1: 30.8841\n",
      "Epoch 59/100\n",
      "225/225 [==============================] - 0s 2ms/step - loss: 0.1140 - sca: 0.9672 - f1: 31.3887 - val_loss: 0.4641 - val_sca: 0.9415 - val_f1: 30.8815\n",
      "Epoch 60/100\n",
      "225/225 [==============================] - 0s 2ms/step - loss: 0.1096 - sca: 0.9680 - f1: 31.3955 - val_loss: 0.4585 - val_sca: 0.9415 - val_f1: 30.8978\n",
      "Epoch 61/100\n",
      "225/225 [==============================] - 0s 2ms/step - loss: 0.1026 - sca: 0.9712 - f1: 31.4413 - val_loss: 0.4666 - val_sca: 0.9418 - val_f1: 30.9137\n",
      "Epoch 62/100\n",
      "225/225 [==============================] - 0s 2ms/step - loss: 0.1023 - sca: 0.9701 - f1: 31.4212 - val_loss: 0.5045 - val_sca: 0.9413 - val_f1: 30.9030\n",
      "Epoch 63/100\n",
      "225/225 [==============================] - 0s 2ms/step - loss: 0.1130 - sca: 0.9683 - f1: 31.4067 - val_loss: 0.4848 - val_sca: 0.9413 - val_f1: 30.9118\n",
      "Epoch 64/100\n",
      "225/225 [==============================] - 0s 2ms/step - loss: 0.1307 - sca: 0.9651 - f1: 31.3462 - val_loss: 0.4848 - val_sca: 0.9413 - val_f1: 30.9091\n",
      "Epoch 65/100\n",
      "225/225 [==============================] - 0s 2ms/step - loss: 0.1256 - sca: 0.9669 - f1: 31.3725 - val_loss: 0.4948 - val_sca: 0.9418 - val_f1: 30.9271\n",
      "Epoch 66/100\n",
      "225/225 [==============================] - 0s 2ms/step - loss: 0.1204 - sca: 0.9705 - f1: 31.4365 - val_loss: 0.4975 - val_sca: 0.9410 - val_f1: 30.9165\n",
      "Epoch 67/100\n",
      "225/225 [==============================] - 0s 2ms/step - loss: 0.1184 - sca: 0.9673 - f1: 31.3749 - val_loss: 0.6057 - val_sca: 0.9432 - val_f1: 30.9065\n",
      "Epoch 68/100\n",
      "225/225 [==============================] - 0s 2ms/step - loss: 0.1020 - sca: 0.9715 - f1: 31.4372 - val_loss: 0.5034 - val_sca: 0.9410 - val_f1: 30.9292\n",
      "Epoch 69/100\n",
      "225/225 [==============================] - 0s 2ms/step - loss: 0.0918 - sca: 0.9738 - f1: 31.4952 - val_loss: 0.5015 - val_sca: 0.9404 - val_f1: 30.9417\n",
      "Epoch 70/100\n",
      "225/225 [==============================] - 1s 2ms/step - loss: 0.1008 - sca: 0.9719 - f1: 31.4593 - val_loss: 0.5179 - val_sca: 0.9390 - val_f1: 30.9136\n",
      "Epoch 71/100\n",
      "225/225 [==============================] - 0s 2ms/step - loss: 0.1251 - sca: 0.9692 - f1: 31.4072 - val_loss: 0.5169 - val_sca: 0.9396 - val_f1: 30.9366\n",
      "Epoch 72/100\n",
      "225/225 [==============================] - 0s 2ms/step - loss: 0.1046 - sca: 0.9722 - f1: 31.4500 - val_loss: 0.5616 - val_sca: 0.9435 - val_f1: 30.9558\n",
      "Epoch 73/100\n",
      "225/225 [==============================] - 0s 2ms/step - loss: 0.1056 - sca: 0.9697 - f1: 31.4207 - val_loss: 0.5361 - val_sca: 0.9418 - val_f1: 30.9479\n",
      "Epoch 74/100\n",
      "225/225 [==============================] - 0s 2ms/step - loss: 0.0963 - sca: 0.9733 - f1: 31.4658 - val_loss: 0.5306 - val_sca: 0.9388 - val_f1: 30.9495\n",
      "Epoch 75/100\n",
      "225/225 [==============================] - 0s 2ms/step - loss: 0.0857 - sca: 0.9749 - f1: 31.5038 - val_loss: 0.5597 - val_sca: 0.9418 - val_f1: 30.9594\n",
      "Epoch 76/100\n",
      "225/225 [==============================] - 1s 2ms/step - loss: 0.0847 - sca: 0.9761 - f1: 31.5173 - val_loss: 0.5611 - val_sca: 0.9385 - val_f1: 30.9326\n",
      "Epoch 77/100\n",
      "225/225 [==============================] - 0s 2ms/step - loss: 0.1008 - sca: 0.9722 - f1: 31.4594 - val_loss: 0.6080 - val_sca: 0.9421 - val_f1: 30.9029\n",
      "Epoch 78/100\n",
      "225/225 [==============================] - 0s 2ms/step - loss: 0.1328 - sca: 0.9656 - f1: 31.3487 - val_loss: 0.5577 - val_sca: 0.9396 - val_f1: 30.9278\n",
      "Epoch 79/100\n",
      "225/225 [==============================] - 0s 2ms/step - loss: 0.1142 - sca: 0.9704 - f1: 31.4248 - val_loss: 0.5580 - val_sca: 0.9399 - val_f1: 30.9472\n",
      "Epoch 80/100\n",
      "225/225 [==============================] - 0s 2ms/step - loss: 0.1062 - sca: 0.9708 - f1: 31.4212 - val_loss: 0.5866 - val_sca: 0.9415 - val_f1: 30.9547\n",
      "Epoch 81/100\n",
      "225/225 [==============================] - 0s 2ms/step - loss: 0.0819 - sca: 0.9741 - f1: 31.4890 - val_loss: 0.5539 - val_sca: 0.9360 - val_f1: 30.8996\n",
      "Epoch 82/100\n",
      "225/225 [==============================] - 0s 2ms/step - loss: 0.0733 - sca: 0.9787 - f1: 31.5543 - val_loss: 0.5835 - val_sca: 0.9374 - val_f1: 30.9081\n",
      "Epoch 83/100\n",
      "225/225 [==============================] - 0s 2ms/step - loss: 0.0784 - sca: 0.9780 - f1: 31.5522 - val_loss: 0.5878 - val_sca: 0.9379 - val_f1: 30.9254\n",
      "Epoch 84/100\n",
      "225/225 [==============================] - 0s 2ms/step - loss: 0.0820 - sca: 0.9755 - f1: 31.5031 - val_loss: 0.6746 - val_sca: 0.9427 - val_f1: 30.9247\n",
      "Epoch 85/100\n",
      "225/225 [==============================] - 0s 2ms/step - loss: 0.0807 - sca: 0.9766 - f1: 31.5201 - val_loss: 0.7092 - val_sca: 0.9435 - val_f1: 30.9181\n",
      "Epoch 86/100\n",
      "225/225 [==============================] - 0s 2ms/step - loss: 0.0828 - sca: 0.9761 - f1: 31.4958 - val_loss: 0.6052 - val_sca: 0.9393 - val_f1: 30.9155\n",
      "Epoch 87/100\n",
      "225/225 [==============================] - 0s 2ms/step - loss: 0.0879 - sca: 0.9743 - f1: 31.4809 - val_loss: 0.6312 - val_sca: 0.9396 - val_f1: 30.9220\n",
      "Epoch 88/100\n",
      "225/225 [==============================] - 0s 2ms/step - loss: 0.0792 - sca: 0.9769 - f1: 31.5045 - val_loss: 0.6233 - val_sca: 0.9388 - val_f1: 30.9136\n",
      "Epoch 89/100\n",
      "225/225 [==============================] - 0s 2ms/step - loss: 0.0808 - sca: 0.9763 - f1: 31.4964 - val_loss: 0.6071 - val_sca: 0.9357 - val_f1: 30.8865\n",
      "Epoch 90/100\n",
      "225/225 [==============================] - 0s 2ms/step - loss: 0.0742 - sca: 0.9777 - f1: 31.5458 - val_loss: 0.6668 - val_sca: 0.9357 - val_f1: 30.9026\n",
      "Epoch 91/100\n",
      "225/225 [==============================] - 0s 2ms/step - loss: 0.0685 - sca: 0.9788 - f1: 31.5452 - val_loss: 0.6368 - val_sca: 0.9354 - val_f1: 30.8993\n",
      "Epoch 92/100\n",
      "225/225 [==============================] - 0s 2ms/step - loss: 0.0728 - sca: 0.9807 - f1: 31.5616 - val_loss: 0.6627 - val_sca: 0.9343 - val_f1: 30.8934\n",
      "Epoch 93/100\n",
      "225/225 [==============================] - 0s 2ms/step - loss: 0.0654 - sca: 0.9807 - f1: 31.5694 - val_loss: 0.6688 - val_sca: 0.9354 - val_f1: 30.8794\n",
      "Epoch 94/100\n",
      "225/225 [==============================] - 0s 2ms/step - loss: 0.0621 - sca: 0.9819 - f1: 31.6007 - val_loss: 0.6458 - val_sca: 0.9323 - val_f1: 30.9353\n",
      "Epoch 95/100\n",
      "225/225 [==============================] - 0s 2ms/step - loss: 0.0656 - sca: 0.9819 - f1: 31.5925 - val_loss: 0.6635 - val_sca: 0.9357 - val_f1: 30.9446\n",
      "Epoch 96/100\n",
      "225/225 [==============================] - 0s 2ms/step - loss: 0.0733 - sca: 0.9814 - f1: 31.5808 - val_loss: 0.6397 - val_sca: 0.9337 - val_f1: 30.9374\n",
      "Epoch 97/100\n",
      "225/225 [==============================] - 0s 2ms/step - loss: 0.0865 - sca: 0.9780 - f1: 31.5275 - val_loss: 0.6517 - val_sca: 0.9376 - val_f1: 30.8989\n",
      "Epoch 98/100\n",
      "225/225 [==============================] - 0s 2ms/step - loss: 0.0578 - sca: 0.9829 - f1: 31.6040 - val_loss: 0.6790 - val_sca: 0.9285 - val_f1: 30.8942\n",
      "Epoch 99/100\n",
      "225/225 [==============================] - 0s 2ms/step - loss: 0.0568 - sca: 0.9844 - f1: 31.6288 - val_loss: 0.6668 - val_sca: 0.9301 - val_f1: 30.9152\n",
      "Epoch 100/100\n",
      "225/225 [==============================] - 0s 2ms/step - loss: 0.0580 - sca: 0.9834 - f1: 31.6075 - val_loss: 0.6578 - val_sca: 0.9343 - val_f1: 30.9375\n"
     ]
    },
    {
     "data": {
      "text/plain": [
       "<keras.src.callbacks.History at 0x1f7065c8650>"
      ]
     },
     "execution_count": 577,
     "metadata": {},
     "output_type": "execute_result"
    }
   ],
   "source": [
    "model_dense = tf.keras.models.Sequential([\n",
    "  tf.keras.layers.Flatten(input_shape=(26,26,3)),\n",
    "  tf.keras.layers.Dense(16, activation='relu'),\n",
    "  tf.keras.layers.Dense(9)\n",
    "])\n",
    "model_dense.compile(\n",
    "    optimizer=tf.keras.optimizers.SGD(0.1),\n",
    "    loss=tf.keras.losses.SparseCategoricalCrossentropy(from_logits=True),\n",
    "    metrics = [tf.keras.metrics.SparseCategoricalAccuracy(name=\"sca\"), \n",
    "               tf.keras.metrics.MeanMetricWrapper(macro_f1_score, name='f1'), \n",
    "              ]\n",
    ")\n",
    "\n",
    "model_dense.fit(\n",
    "    tf_df_train,\n",
    "    epochs=100,\n",
    "    validation_data=tf_df_val,\n",
    ")"
   ]
  },
  {
   "cell_type": "code",
   "execution_count": 578,
   "metadata": {},
   "outputs": [
    {
     "name": "stdout",
     "output_type": "stream",
     "text": [
      "3593/3593 [==============================] - 2s 662us/step\n"
     ]
    }
   ],
   "source": [
    "y_pred = tf.argmax(model_dense.predict(tf.data.Dataset.from_tensor_slices(X_test).map(reshape_to_image).batch(1)), axis=-1)"
   ]
  },
  {
   "cell_type": "code",
   "execution_count": 579,
   "metadata": {},
   "outputs": [
    {
     "name": "stdout",
     "output_type": "stream",
     "text": [
      "Accuracy score: 0.9312552184803785\n",
      "Recall score: 0.24731478080195884\n",
      "              precision    recall  f1-score   support\n",
      "\n",
      "           0       0.57      0.35      0.43        23\n",
      "           1       0.00      0.00      0.00         1\n",
      "           2       0.34      0.20      0.25        74\n",
      "           3       1.00      0.12      0.22         8\n",
      "           4       0.20      0.26      0.22        74\n",
      "           5       0.00      0.00      0.00         4\n",
      "           6       0.67      0.32      0.43        19\n",
      "           7       0.00      0.00      0.00        18\n",
      "           8       0.96      0.98      0.97      3372\n",
      "\n",
      "    accuracy                           0.93      3593\n",
      "   macro avg       0.42      0.25      0.28      3593\n",
      "weighted avg       0.92      0.93      0.93      3593\n",
      "\n"
     ]
    }
   ],
   "source": [
    "print('Accuracy score: ' + str(accuracy_score(y_test['label_encoded'], y_pred)))\n",
    "print('Recall score: ' + str(recall_score(y_test['label_encoded'], y_pred, average='macro')))\n",
    "print(classification_report(y_test['label_encoded'], y_pred, zero_division=\"warn\"))"
   ]
  },
  {
   "cell_type": "code",
   "execution_count": 580,
   "metadata": {},
   "outputs": [
    {
     "data": {
      "text/html": [
       "<div>\n",
       "<style scoped>\n",
       "    .dataframe tbody tr th:only-of-type {\n",
       "        vertical-align: middle;\n",
       "    }\n",
       "\n",
       "    .dataframe tbody tr th {\n",
       "        vertical-align: top;\n",
       "    }\n",
       "\n",
       "    .dataframe thead th {\n",
       "        text-align: right;\n",
       "    }\n",
       "</style>\n",
       "<table border=\"1\" class=\"dataframe\">\n",
       "  <thead>\n",
       "    <tr style=\"text-align: right;\">\n",
       "      <th></th>\n",
       "      <th>0</th>\n",
       "      <th>1</th>\n",
       "      <th>2</th>\n",
       "      <th>3</th>\n",
       "      <th>4</th>\n",
       "      <th>5</th>\n",
       "      <th>6</th>\n",
       "      <th>7</th>\n",
       "      <th>8</th>\n",
       "      <th>9</th>\n",
       "      <th>...</th>\n",
       "      <th>2019</th>\n",
       "      <th>2020</th>\n",
       "      <th>2021</th>\n",
       "      <th>2022</th>\n",
       "      <th>2023</th>\n",
       "      <th>2024</th>\n",
       "      <th>2025</th>\n",
       "      <th>2026</th>\n",
       "      <th>2027</th>\n",
       "      <th>label_encoded</th>\n",
       "    </tr>\n",
       "  </thead>\n",
       "  <tbody>\n",
       "    <tr>\n",
       "      <th>10059</th>\n",
       "      <td>1.0</td>\n",
       "      <td>1.0</td>\n",
       "      <td>1.0</td>\n",
       "      <td>1.0</td>\n",
       "      <td>1.0</td>\n",
       "      <td>1.0</td>\n",
       "      <td>1.0</td>\n",
       "      <td>1.0</td>\n",
       "      <td>1.0</td>\n",
       "      <td>1.0</td>\n",
       "      <td>...</td>\n",
       "      <td>0.0</td>\n",
       "      <td>0.0</td>\n",
       "      <td>0.0</td>\n",
       "      <td>0.0</td>\n",
       "      <td>0.0</td>\n",
       "      <td>0.0</td>\n",
       "      <td>0.0</td>\n",
       "      <td>0.0</td>\n",
       "      <td>0.0</td>\n",
       "      <td>0</td>\n",
       "    </tr>\n",
       "    <tr>\n",
       "      <th>11437</th>\n",
       "      <td>1.0</td>\n",
       "      <td>1.0</td>\n",
       "      <td>1.0</td>\n",
       "      <td>1.0</td>\n",
       "      <td>1.0</td>\n",
       "      <td>1.0</td>\n",
       "      <td>1.0</td>\n",
       "      <td>1.0</td>\n",
       "      <td>1.0</td>\n",
       "      <td>1.0</td>\n",
       "      <td>...</td>\n",
       "      <td>0.0</td>\n",
       "      <td>0.0</td>\n",
       "      <td>0.0</td>\n",
       "      <td>0.0</td>\n",
       "      <td>0.0</td>\n",
       "      <td>0.0</td>\n",
       "      <td>0.0</td>\n",
       "      <td>0.0</td>\n",
       "      <td>0.0</td>\n",
       "      <td>0</td>\n",
       "    </tr>\n",
       "    <tr>\n",
       "      <th>6312</th>\n",
       "      <td>1.0</td>\n",
       "      <td>1.0</td>\n",
       "      <td>1.0</td>\n",
       "      <td>1.0</td>\n",
       "      <td>1.0</td>\n",
       "      <td>1.0</td>\n",
       "      <td>1.0</td>\n",
       "      <td>1.0</td>\n",
       "      <td>1.0</td>\n",
       "      <td>1.0</td>\n",
       "      <td>...</td>\n",
       "      <td>0.0</td>\n",
       "      <td>0.0</td>\n",
       "      <td>0.0</td>\n",
       "      <td>0.0</td>\n",
       "      <td>0.0</td>\n",
       "      <td>0.0</td>\n",
       "      <td>0.0</td>\n",
       "      <td>0.0</td>\n",
       "      <td>0.0</td>\n",
       "      <td>0</td>\n",
       "    </tr>\n",
       "    <tr>\n",
       "      <th>6285</th>\n",
       "      <td>1.0</td>\n",
       "      <td>1.0</td>\n",
       "      <td>1.0</td>\n",
       "      <td>1.0</td>\n",
       "      <td>1.0</td>\n",
       "      <td>1.0</td>\n",
       "      <td>1.0</td>\n",
       "      <td>1.0</td>\n",
       "      <td>1.0</td>\n",
       "      <td>1.0</td>\n",
       "      <td>...</td>\n",
       "      <td>0.0</td>\n",
       "      <td>0.0</td>\n",
       "      <td>0.0</td>\n",
       "      <td>0.0</td>\n",
       "      <td>0.0</td>\n",
       "      <td>0.0</td>\n",
       "      <td>0.0</td>\n",
       "      <td>0.0</td>\n",
       "      <td>0.0</td>\n",
       "      <td>0</td>\n",
       "    </tr>\n",
       "    <tr>\n",
       "      <th>7549</th>\n",
       "      <td>1.0</td>\n",
       "      <td>1.0</td>\n",
       "      <td>1.0</td>\n",
       "      <td>1.0</td>\n",
       "      <td>1.0</td>\n",
       "      <td>1.0</td>\n",
       "      <td>1.0</td>\n",
       "      <td>1.0</td>\n",
       "      <td>1.0</td>\n",
       "      <td>1.0</td>\n",
       "      <td>...</td>\n",
       "      <td>0.0</td>\n",
       "      <td>0.0</td>\n",
       "      <td>0.0</td>\n",
       "      <td>0.0</td>\n",
       "      <td>0.0</td>\n",
       "      <td>0.0</td>\n",
       "      <td>0.0</td>\n",
       "      <td>0.0</td>\n",
       "      <td>0.0</td>\n",
       "      <td>0</td>\n",
       "    </tr>\n",
       "    <tr>\n",
       "      <th>...</th>\n",
       "      <td>...</td>\n",
       "      <td>...</td>\n",
       "      <td>...</td>\n",
       "      <td>...</td>\n",
       "      <td>...</td>\n",
       "      <td>...</td>\n",
       "      <td>...</td>\n",
       "      <td>...</td>\n",
       "      <td>...</td>\n",
       "      <td>...</td>\n",
       "      <td>...</td>\n",
       "      <td>...</td>\n",
       "      <td>...</td>\n",
       "      <td>...</td>\n",
       "      <td>...</td>\n",
       "      <td>...</td>\n",
       "      <td>...</td>\n",
       "      <td>...</td>\n",
       "      <td>...</td>\n",
       "      <td>...</td>\n",
       "      <td>...</td>\n",
       "    </tr>\n",
       "    <tr>\n",
       "      <th>12753</th>\n",
       "      <td>1.0</td>\n",
       "      <td>1.0</td>\n",
       "      <td>1.0</td>\n",
       "      <td>1.0</td>\n",
       "      <td>1.0</td>\n",
       "      <td>1.0</td>\n",
       "      <td>1.0</td>\n",
       "      <td>1.0</td>\n",
       "      <td>1.0</td>\n",
       "      <td>1.0</td>\n",
       "      <td>...</td>\n",
       "      <td>0.0</td>\n",
       "      <td>0.0</td>\n",
       "      <td>0.0</td>\n",
       "      <td>0.0</td>\n",
       "      <td>0.0</td>\n",
       "      <td>0.0</td>\n",
       "      <td>0.0</td>\n",
       "      <td>0.0</td>\n",
       "      <td>0.0</td>\n",
       "      <td>8</td>\n",
       "    </tr>\n",
       "    <tr>\n",
       "      <th>10793</th>\n",
       "      <td>1.0</td>\n",
       "      <td>1.0</td>\n",
       "      <td>1.0</td>\n",
       "      <td>1.0</td>\n",
       "      <td>1.0</td>\n",
       "      <td>1.0</td>\n",
       "      <td>1.0</td>\n",
       "      <td>1.0</td>\n",
       "      <td>1.0</td>\n",
       "      <td>1.0</td>\n",
       "      <td>...</td>\n",
       "      <td>0.0</td>\n",
       "      <td>0.0</td>\n",
       "      <td>0.0</td>\n",
       "      <td>0.0</td>\n",
       "      <td>0.0</td>\n",
       "      <td>0.0</td>\n",
       "      <td>0.0</td>\n",
       "      <td>0.0</td>\n",
       "      <td>0.0</td>\n",
       "      <td>8</td>\n",
       "    </tr>\n",
       "    <tr>\n",
       "      <th>1926</th>\n",
       "      <td>1.0</td>\n",
       "      <td>1.0</td>\n",
       "      <td>1.0</td>\n",
       "      <td>1.0</td>\n",
       "      <td>1.0</td>\n",
       "      <td>1.0</td>\n",
       "      <td>1.0</td>\n",
       "      <td>1.0</td>\n",
       "      <td>1.0</td>\n",
       "      <td>1.0</td>\n",
       "      <td>...</td>\n",
       "      <td>0.0</td>\n",
       "      <td>0.0</td>\n",
       "      <td>0.0</td>\n",
       "      <td>0.0</td>\n",
       "      <td>0.0</td>\n",
       "      <td>0.0</td>\n",
       "      <td>0.0</td>\n",
       "      <td>0.0</td>\n",
       "      <td>0.0</td>\n",
       "      <td>8</td>\n",
       "    </tr>\n",
       "    <tr>\n",
       "      <th>9824</th>\n",
       "      <td>1.0</td>\n",
       "      <td>1.0</td>\n",
       "      <td>1.0</td>\n",
       "      <td>1.0</td>\n",
       "      <td>1.0</td>\n",
       "      <td>1.0</td>\n",
       "      <td>1.0</td>\n",
       "      <td>1.0</td>\n",
       "      <td>1.0</td>\n",
       "      <td>1.0</td>\n",
       "      <td>...</td>\n",
       "      <td>0.0</td>\n",
       "      <td>0.0</td>\n",
       "      <td>0.0</td>\n",
       "      <td>0.0</td>\n",
       "      <td>0.0</td>\n",
       "      <td>0.0</td>\n",
       "      <td>0.0</td>\n",
       "      <td>0.0</td>\n",
       "      <td>0.0</td>\n",
       "      <td>8</td>\n",
       "    </tr>\n",
       "    <tr>\n",
       "      <th>5249</th>\n",
       "      <td>1.0</td>\n",
       "      <td>1.0</td>\n",
       "      <td>1.0</td>\n",
       "      <td>1.0</td>\n",
       "      <td>1.0</td>\n",
       "      <td>1.0</td>\n",
       "      <td>1.0</td>\n",
       "      <td>1.0</td>\n",
       "      <td>1.0</td>\n",
       "      <td>1.0</td>\n",
       "      <td>...</td>\n",
       "      <td>0.0</td>\n",
       "      <td>0.0</td>\n",
       "      <td>0.0</td>\n",
       "      <td>0.0</td>\n",
       "      <td>0.0</td>\n",
       "      <td>0.0</td>\n",
       "      <td>0.0</td>\n",
       "      <td>0.0</td>\n",
       "      <td>0.0</td>\n",
       "      <td>8</td>\n",
       "    </tr>\n",
       "  </tbody>\n",
       "</table>\n",
       "<p>91044 rows × 2029 columns</p>\n",
       "</div>"
      ],
      "text/plain": [
       "         0    1    2    3    4    5    6    7    8    9  ...  2019  2020  \\\n",
       "10059  1.0  1.0  1.0  1.0  1.0  1.0  1.0  1.0  1.0  1.0  ...   0.0   0.0   \n",
       "11437  1.0  1.0  1.0  1.0  1.0  1.0  1.0  1.0  1.0  1.0  ...   0.0   0.0   \n",
       "6312   1.0  1.0  1.0  1.0  1.0  1.0  1.0  1.0  1.0  1.0  ...   0.0   0.0   \n",
       "6285   1.0  1.0  1.0  1.0  1.0  1.0  1.0  1.0  1.0  1.0  ...   0.0   0.0   \n",
       "7549   1.0  1.0  1.0  1.0  1.0  1.0  1.0  1.0  1.0  1.0  ...   0.0   0.0   \n",
       "...    ...  ...  ...  ...  ...  ...  ...  ...  ...  ...  ...   ...   ...   \n",
       "12753  1.0  1.0  1.0  1.0  1.0  1.0  1.0  1.0  1.0  1.0  ...   0.0   0.0   \n",
       "10793  1.0  1.0  1.0  1.0  1.0  1.0  1.0  1.0  1.0  1.0  ...   0.0   0.0   \n",
       "1926   1.0  1.0  1.0  1.0  1.0  1.0  1.0  1.0  1.0  1.0  ...   0.0   0.0   \n",
       "9824   1.0  1.0  1.0  1.0  1.0  1.0  1.0  1.0  1.0  1.0  ...   0.0   0.0   \n",
       "5249   1.0  1.0  1.0  1.0  1.0  1.0  1.0  1.0  1.0  1.0  ...   0.0   0.0   \n",
       "\n",
       "       2021  2022  2023  2024  2025  2026  2027  label_encoded  \n",
       "10059   0.0   0.0   0.0   0.0   0.0   0.0   0.0              0  \n",
       "11437   0.0   0.0   0.0   0.0   0.0   0.0   0.0              0  \n",
       "6312    0.0   0.0   0.0   0.0   0.0   0.0   0.0              0  \n",
       "6285    0.0   0.0   0.0   0.0   0.0   0.0   0.0              0  \n",
       "7549    0.0   0.0   0.0   0.0   0.0   0.0   0.0              0  \n",
       "...     ...   ...   ...   ...   ...   ...   ...            ...  \n",
       "12753   0.0   0.0   0.0   0.0   0.0   0.0   0.0              8  \n",
       "10793   0.0   0.0   0.0   0.0   0.0   0.0   0.0              8  \n",
       "1926    0.0   0.0   0.0   0.0   0.0   0.0   0.0              8  \n",
       "9824    0.0   0.0   0.0   0.0   0.0   0.0   0.0              8  \n",
       "5249    0.0   0.0   0.0   0.0   0.0   0.0   0.0              8  \n",
       "\n",
       "[91044 rows x 2029 columns]"
      ]
     },
     "execution_count": 580,
     "metadata": {},
     "output_type": "execute_result"
    }
   ],
   "source": [
    "oversampled"
   ]
  },
  {
   "cell_type": "code",
   "execution_count": 581,
   "metadata": {},
   "outputs": [],
   "source": [
    "tf_df_oversampled = tf.data.Dataset.from_tensor_slices((oversampled.drop(['label_encoded'],axis=1),oversampled['label_encoded']))"
   ]
  },
  {
   "cell_type": "code",
   "execution_count": 582,
   "metadata": {},
   "outputs": [],
   "source": [
    "tf_df_oversampled = tf_df_oversampled.map(reshape_to_image)"
   ]
  },
  {
   "cell_type": "code",
   "execution_count": 583,
   "metadata": {},
   "outputs": [],
   "source": [
    "tf_df_oversampled = tf_df_oversampled.batch(32)"
   ]
  },
  {
   "cell_type": "code",
   "execution_count": 584,
   "metadata": {},
   "outputs": [
    {
     "name": "stdout",
     "output_type": "stream",
     "text": [
      "Epoch 1/10\n",
      "2846/2846 [==============================] - 4s 1ms/step - loss: 1.4541 - sca: 0.7395 - f1: 23.7343 - val_loss: 0.4508 - val_sca: 0.9388 - val_f1: 30.7677\n",
      "Epoch 2/10\n",
      "2846/2846 [==============================] - 4s 1ms/step - loss: 1.2116 - sca: 0.6780 - f1: 21.7769 - val_loss: 0.4279 - val_sca: 0.9388 - val_f1: 30.7677\n",
      "Epoch 3/10\n",
      "2846/2846 [==============================] - 3s 1ms/step - loss: 1.2130 - sca: 0.6769 - f1: 21.7431 - val_loss: 0.4270 - val_sca: 0.9388 - val_f1: 30.7677\n",
      "Epoch 4/10\n",
      "2846/2846 [==============================] - 3s 1ms/step - loss: 1.2128 - sca: 0.6769 - f1: 21.7431 - val_loss: 0.4270 - val_sca: 0.9388 - val_f1: 30.7677\n",
      "Epoch 5/10\n",
      "2846/2846 [==============================] - 3s 1ms/step - loss: 1.2127 - sca: 0.6769 - f1: 21.7431 - val_loss: 0.4270 - val_sca: 0.9388 - val_f1: 30.7677\n",
      "Epoch 6/10\n",
      "2846/2846 [==============================] - 3s 1ms/step - loss: 1.2127 - sca: 0.6769 - f1: 21.7431 - val_loss: 0.4270 - val_sca: 0.9388 - val_f1: 30.7677\n",
      "Epoch 7/10\n",
      "2846/2846 [==============================] - 3s 1ms/step - loss: 1.2127 - sca: 0.6769 - f1: 21.7431 - val_loss: 0.4270 - val_sca: 0.9388 - val_f1: 30.7677\n",
      "Epoch 8/10\n",
      "2846/2846 [==============================] - 3s 1ms/step - loss: 1.2127 - sca: 0.6769 - f1: 21.7431 - val_loss: 0.4270 - val_sca: 0.9388 - val_f1: 30.7677\n",
      "Epoch 9/10\n",
      "2846/2846 [==============================] - 3s 1ms/step - loss: 1.2127 - sca: 0.6769 - f1: 21.7431 - val_loss: 0.4270 - val_sca: 0.9388 - val_f1: 30.7677\n",
      "Epoch 10/10\n",
      "2846/2846 [==============================] - 3s 1ms/step - loss: 1.2127 - sca: 0.6769 - f1: 21.7431 - val_loss: 0.4270 - val_sca: 0.9388 - val_f1: 30.7677\n"
     ]
    },
    {
     "data": {
      "text/plain": [
       "<keras.src.callbacks.History at 0x1f706136e90>"
      ]
     },
     "execution_count": 584,
     "metadata": {},
     "output_type": "execute_result"
    }
   ],
   "source": [
    "model_dense = tf.keras.models.Sequential([\n",
    "  tf.keras.layers.Flatten(input_shape=(26,26,3)),\n",
    "  tf.keras.layers.Dense(16, activation='relu'),\n",
    "  tf.keras.layers.Dense(32, activation='relu'),\n",
    "  tf.keras.layers.Dense(9)\n",
    "])\n",
    "model_dense.compile(\n",
    "    optimizer=tf.keras.optimizers.Adam(0.01),\n",
    "    loss=tf.keras.losses.SparseCategoricalCrossentropy(from_logits=True),\n",
    "    metrics = [tf.keras.metrics.SparseCategoricalAccuracy(name=\"sca\"), \n",
    "               tf.keras.metrics.MeanMetricWrapper(macro_f1_score, name='f1'), \n",
    "              ]\n",
    ")\n",
    "\n",
    "model_dense.fit(\n",
    "    tf_df_oversampled,\n",
    "    epochs=10,\n",
    "    validation_data=tf_df_val,\n",
    ")"
   ]
  },
  {
   "cell_type": "markdown",
   "metadata": {},
   "source": [
    "Our journey into Deep Learning did not produce notably superior results in contrast to classical Machine Learning classifiers. Nonetheless, with additional experimentation and dedicated time, we anticipate identifying the appropriate architecture and hyperparameters necessary to potentially elevate the performance of Deep Learning models."
   ]
  }
 ],
 "metadata": {
  "kernelspec": {
   "display_name": ".venv",
   "language": "python",
   "name": "python3"
  },
  "language_info": {
   "codemirror_mode": {
    "name": "ipython",
    "version": 3
   },
   "file_extension": ".py",
   "mimetype": "text/x-python",
   "name": "python",
   "nbconvert_exporter": "python",
   "pygments_lexer": "ipython3",
   "version": "3.11.3"
  }
 },
 "nbformat": 4,
 "nbformat_minor": 2
}
